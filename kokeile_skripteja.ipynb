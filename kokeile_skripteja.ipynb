{
 "cells": [
  {
   "cell_type": "code",
   "execution_count": null,
   "id": "f328a6d6-843c-409f-81bb-653d62330fe5",
   "metadata": {},
   "outputs": [],
   "source": [
    "import pandas as pd\n",
    "\n",
    "import py_scripts.data_fcns as fcns"
   ]
  },
  {
   "cell_type": "code",
   "execution_count": null,
   "id": "4127272d-50af-4c96-9af6-c058014cd768",
   "metadata": {},
   "outputs": [],
   "source": []
  },
  {
   "cell_type": "markdown",
   "id": "7351912d-6399-444f-8780-42e522515e80",
   "metadata": {},
   "source": [
    "## Haetaan junia, jotka kulkevat haluttujen asemien välillä"
   ]
  },
  {
   "cell_type": "code",
   "execution_count": null,
   "id": "1a8196ee-e6ff-4db6-8a03-40fee3979500",
   "metadata": {},
   "outputs": [],
   "source": [
    "alkuasema = \"JY\"\n",
    "loppuasema = \"TPE\"\n",
    "date = \"2017-12-24\"\n",
    "\n",
    "train_nums = fcns.get_train_nums(alkuasema, loppuasema, date)"
   ]
  },
  {
   "cell_type": "code",
   "execution_count": null,
   "id": "ccc7c49b-98f3-4788-b1f7-0ae598fb8b70",
   "metadata": {},
   "outputs": [],
   "source": []
  },
  {
   "cell_type": "markdown",
   "id": "9ee6db58-7f44-4e7d-8e96-e823dcbd9432",
   "metadata": {},
   "source": [
    "## Haetaan sijainti- ja nopeusdataa tietylle junalle"
   ]
  },
  {
   "cell_type": "code",
   "execution_count": null,
   "id": "5634c6f3-4400-4e45-bb74-8123037fc841",
   "metadata": {},
   "outputs": [],
   "source": [
    "train_num = 144\n",
    "date = \"2019-04-20\"\n",
    "\n",
    "df = fcns.get_train_location_data(train_num, date, False)"
   ]
  },
  {
   "cell_type": "markdown",
   "id": "c9ffe858-914b-42a8-bc40-ed32f12fd894",
   "metadata": {},
   "source": [
    "### Piirretään myös graafeja"
   ]
  },
  {
   "cell_type": "code",
   "execution_count": null,
   "id": "f68014ab-73c6-4b7e-8562-4ec7226682a1",
   "metadata": {},
   "outputs": [],
   "source": [
    "train_num = 23\n",
    "date = \"2020-02-29\"\n",
    "\n",
    "fcns.get_train_location_data(train_num, date, True, True)"
   ]
  },
  {
   "cell_type": "markdown",
   "id": "42940851-79ba-4ffe-8711-dc1500b78176",
   "metadata": {},
   "source": [
    "## Haetaan sijainti- ja nopeusdataa (junanumeron mukaan) samalle junalle eri päivinä"
   ]
  },
  {
   "cell_type": "code",
   "execution_count": null,
   "id": "198a9ad3-12c9-48a5-95ff-a586e0efda63",
   "metadata": {},
   "outputs": [],
   "source": [
    "train_num = 70\n",
    "# sunnuntai voi olla hankala\n",
    "# dates = pd.date_range(\"2023-05-08\", \"2023-05-13\", freq=\"1D\")\n",
    "dates = pd.date_range(\"2023-05-08\", periods=6, freq=\"1D\")\n",
    "\n",
    "for date in dates:\n",
    "    fcns.get_train_location_data(train_num, str(date.date()))"
   ]
  }
 ],
 "metadata": {
  "kernelspec": {
   "display_name": "Python 3 (ipykernel)",
   "language": "python",
   "name": "python3"
  },
  "language_info": {
   "codemirror_mode": {
    "name": "ipython",
    "version": 3
   },
   "file_extension": ".py",
   "mimetype": "text/x-python",
   "name": "python",
   "nbconvert_exporter": "python",
   "pygments_lexer": "ipython3",
   "version": "3.9.7"
  }
 },
 "nbformat": 4,
 "nbformat_minor": 5
}
