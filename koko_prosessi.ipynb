{
 "cells": [
  {
   "cell_type": "code",
   "execution_count": null,
   "metadata": {},
   "outputs": [],
   "source": [
    "import numpy as np\n",
    "import pandas as pd\n",
    "import matplotlib.pyplot as plt\n",
    "import seaborn as sns\n",
    "\n",
    "from py_scripts.db_fcns import save_df_to_db, get_df_from_db\n",
    "from py_scripts.data_fcns import select_data_for_train, interpolate_time\n",
    "from py_scripts.trainlocations import StationsAndDates, TrainLocations"
   ]
  },
  {
   "cell_type": "code",
   "execution_count": null,
   "metadata": {},
   "outputs": [],
   "source": [
    "reset = False"
   ]
  },
  {
   "cell_type": "code",
   "execution_count": null,
   "metadata": {},
   "outputs": [],
   "source": [
    "alkuasema = \"TPE\"\n",
    "loppuasema = \"JY\"\n",
    "\n",
    "alkupvm = \"2018-01-01\"\n",
    "loppupvm = \"2023-06-30\"\n",
    "\n",
    "asemat_ja_paivat = StationsAndDates(alkuasema, loppuasema, alkupvm, loppupvm)"
   ]
  },
  {
   "cell_type": "code",
   "execution_count": null,
   "metadata": {},
   "outputs": [],
   "source": [
    "tl = TrainLocations(asemat_ja_paivat)"
   ]
  },
  {
   "cell_type": "code",
   "execution_count": null,
   "metadata": {},
   "outputs": [],
   "source": [
    "tl.load_raw_data_from_db()\n",
    "\n",
    "print(f\"Trains loaded from DB: {len(tl.train_df)}\")\n",
    "print(f'Trains with timetables: {len(tl.timetables.apply(lambda r: (r[\"departureDate\"], r[\"trainNumber\"]), axis=1).unique())}')\n",
    "print(f'Trains with locations: {len(tl.location_df_raw.apply(lambda r: (r[\"departureDate\"], r[\"trainNumber\"]), axis=1).unique())}')"
   ]
  },
  {
   "cell_type": "code",
   "execution_count": null,
   "metadata": {},
   "outputs": [],
   "source": [
    "tl.find_data(do_limiting=reset, force_reset=reset)   \n",
    "\n",
    "if_exists_action = \"replace\" if reset else \"fail\"\n",
    "tl.save_raw_data_to_db(if_exists_action=if_exists_action)"
   ]
  },
  {
   "cell_type": "code",
   "execution_count": null,
   "metadata": {},
   "outputs": [],
   "source": []
  },
  {
   "cell_type": "markdown",
   "metadata": {},
   "source": [
    "## Katsotaan eri reittivaihtoehtoja"
   ]
  },
  {
   "cell_type": "code",
   "execution_count": null,
   "metadata": {},
   "outputs": [],
   "source": [
    "routes = tl.get_routes()\n",
    "routes[routes > 10]"
   ]
  },
  {
   "cell_type": "code",
   "execution_count": null,
   "metadata": {},
   "outputs": [],
   "source": [
    "pd.pivot_table(tl.train_df[tl.train_df[\"stations\"].isin(routes[routes > 10].index)], values=\"timetableType\", index=[\"stations\"], columns=[\"trainType\"], aggfunc=pd.Series.count)"
   ]
  },
  {
   "cell_type": "markdown",
   "metadata": {},
   "source": [
    "## Valitaan reitti"
   ]
  },
  {
   "cell_type": "code",
   "execution_count": null,
   "metadata": {},
   "outputs": [],
   "source": [
    "route = routes.index[0]\n",
    "route"
   ]
  },
  {
   "cell_type": "code",
   "execution_count": null,
   "metadata": {},
   "outputs": [],
   "source": []
  },
  {
   "cell_type": "code",
   "execution_count": null,
   "metadata": {},
   "outputs": [],
   "source": [
    "do_processing = True\n",
    "\n",
    "tl.load_checkpoint_data_from_db(route)\n",
    "\n",
    "\n",
    "if tl.checkpoint_data_exists():\n",
    "    do_processing = False"
   ]
  },
  {
   "cell_type": "code",
   "execution_count": null,
   "metadata": {},
   "outputs": [],
   "source": [
    "if do_processing:\n",
    "    interval_dfs = tl.process_train_locations(route)"
   ]
  },
  {
   "cell_type": "code",
   "execution_count": null,
   "metadata": {},
   "outputs": [],
   "source": [
    "if do_processing:\n",
    "    tl.calculate_best_distance_estimate(method=\"median\", num_of_decimals=-2)"
   ]
  },
  {
   "cell_type": "code",
   "execution_count": null,
   "metadata": {},
   "outputs": [],
   "source": [
    "for dc in tl.interval_dfs:\n",
    "    print(f\"{dc.start_station}-{dc.end_station}: \\t {dc.distance}\")"
   ]
  },
  {
   "cell_type": "code",
   "execution_count": null,
   "metadata": {},
   "outputs": [],
   "source": [
    "if do_processing:\n",
    "    _ = tl.filter_data_based_on_distance(percentage=2, min_error=500)"
   ]
  },
  {
   "cell_type": "code",
   "execution_count": null,
   "metadata": {},
   "outputs": [],
   "source": [
    "for dc in tl.interval_dfs:\n",
    "    print(f\"{dc.start_station}-{dc.end_station}: \\t {len(dc.trains[dc.trains[\"in_analysis\"] == True])}\")"
   ]
  },
  {
   "cell_type": "markdown",
   "metadata": {},
   "source": [
    "## Jaetaan kukin välimatka tasaisin välein oleviin \"checkpointteihin\" ja analysoidaan dataa niiden avulla"
   ]
  },
  {
   "cell_type": "code",
   "execution_count": null,
   "metadata": {},
   "outputs": [],
   "source": [
    "if do_processing:\n",
    "    tl.focus_on_checkpoints(checkpoint_interval=50)"
   ]
  },
  {
   "cell_type": "code",
   "execution_count": null,
   "metadata": {},
   "outputs": [],
   "source": [
    "if do_processing:\n",
    "    tl.save_checkpoint_data_to_db()"
   ]
  },
  {
   "cell_type": "code",
   "execution_count": null,
   "metadata": {},
   "outputs": [],
   "source": []
  },
  {
   "cell_type": "code",
   "execution_count": null,
   "metadata": {},
   "outputs": [],
   "source": [
    "tl.calculate_accelerations()"
   ]
  },
  {
   "cell_type": "code",
   "execution_count": null,
   "metadata": {},
   "outputs": [],
   "source": [
    "tl.get_checkpoint_data_for_full_route()"
   ]
  },
  {
   "cell_type": "code",
   "execution_count": null,
   "metadata": {},
   "outputs": [],
   "source": []
  },
  {
   "cell_type": "code",
   "execution_count": null,
   "metadata": {},
   "outputs": [],
   "source": [
    "tl.setup_for_clustering()"
   ]
  },
  {
   "cell_type": "code",
   "execution_count": null,
   "metadata": {},
   "outputs": [],
   "source": [
    "tl.run_kmeans_clustering(5)"
   ]
  },
  {
   "cell_type": "code",
   "execution_count": null,
   "metadata": {},
   "outputs": [],
   "source": []
  },
  {
   "cell_type": "code",
   "execution_count": null,
   "metadata": {},
   "outputs": [],
   "source": []
  },
  {
   "cell_type": "code",
   "execution_count": null,
   "metadata": {},
   "outputs": [],
   "source": []
  },
  {
   "cell_type": "code",
   "execution_count": null,
   "metadata": {},
   "outputs": [],
   "source": [
    "tl.draw_cluster_centroids()"
   ]
  },
  {
   "cell_type": "code",
   "execution_count": null,
   "metadata": {},
   "outputs": [],
   "source": []
  },
  {
   "cell_type": "code",
   "execution_count": null,
   "metadata": {},
   "outputs": [],
   "source": [
    "tl.compare_clusters()"
   ]
  }
 ],
 "metadata": {
  "kernelspec": {
   "display_name": "base",
   "language": "python",
   "name": "python3"
  },
  "language_info": {
   "name": "python",
   "version": "3.9.7"
  },
  "orig_nbformat": 4
 },
 "nbformat": 4,
 "nbformat_minor": 2
}
