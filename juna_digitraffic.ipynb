{
 "cells": [
  {
   "cell_type": "markdown",
   "id": "9c04c55c-39ad-454b-8138-2bfd48a81c3f",
   "metadata": {},
   "source": [
    "# Junakokeiluja\n",
    "\n",
    "Eli minkälaista dataa löytyy sivuston ```rata.digitraffic.fi``` avoimista rajapinnoista ([Sivuston oma info](https://www.digitraffic.fi/rautatieliikenne))."
   ]
  },
  {
   "cell_type": "code",
   "execution_count": 1,
   "id": "184cd597-b7a2-4ca0-bb03-820ce10e23b1",
   "metadata": {},
   "outputs": [],
   "source": [
    "import sqlite3\n",
    "from pathlib import Path\n",
    "import json\n",
    "\n",
    "import requests\n",
    "import numpy as np\n",
    "import pandas as pd\n",
    "import matplotlib.pyplot as plt\n",
    "import seaborn as sns"
   ]
  },
  {
   "cell_type": "code",
   "execution_count": 2,
   "id": "4eb40954-780e-47b0-9c79-8f731cbe4373",
   "metadata": {},
   "outputs": [],
   "source": [
    "def print_dict(d):\n",
    "    for key, value in d.items():\n",
    "        if isinstance(value, (str, bool, int, float)):\n",
    "            print(f\"{key}: {value} (type {type(value)})\")\n",
    "        else:\n",
    "            print(f\"{key}: {len(value)} values (type {type(value)})\")"
   ]
  },
  {
   "cell_type": "code",
   "execution_count": 3,
   "id": "0e467c33-ba63-44c7-b0c4-d33b453cc82a",
   "metadata": {},
   "outputs": [],
   "source": [
    "# asemat (ja ehkä rataosuudet?) voi tallentaa, jos haluaa \n",
    "db_path = \"data/db.db\"\n",
    "\n",
    "def save_df_to_db(df, table_name):\n",
    "    with sqlite3.connect(\"db_path\") as conn:\n",
    "        try:\n",
    "            df.to_sql(name=table_name, con=conn, if_exists=\"fail\", index=False)\n",
    "            conn.commit()\n",
    "        except ValueError:\n",
    "            print(f\"Table {table_name} already exists\")"
   ]
  },
  {
   "cell_type": "markdown",
   "id": "c81f2a04-b6db-4f0e-a9e6-ee0ebe7d53bd",
   "metadata": {},
   "source": [
    "## /trains"
   ]
  },
  {
   "cell_type": "code",
   "execution_count": 4,
   "id": "0e750401-e0aa-4767-94b6-2240c2177bde",
   "metadata": {},
   "outputs": [],
   "source": [
    "url_start = \"https://rata.digitraffic.fi/api/v1/trains/\"\n",
    "\n",
    "date = \"2023-03-14\"\n",
    "train_num = 1\n",
    "\n",
    "url = f\"{url_start}{date}/{train_num}\""
   ]
  },
  {
   "cell_type": "code",
   "execution_count": 5,
   "id": "e780a77c-02f1-49e5-b4fa-85c2586a7637",
   "metadata": {},
   "outputs": [
    {
     "data": {
      "text/plain": [
       "200"
      ]
     },
     "execution_count": 5,
     "metadata": {},
     "output_type": "execute_result"
    }
   ],
   "source": [
    "req = requests.get(url)\n",
    "req.status_code"
   ]
  },
  {
   "cell_type": "code",
   "execution_count": 6,
   "id": "bf1ac101-cef4-47e6-a449-e6f0321203bb",
   "metadata": {},
   "outputs": [],
   "source": [
    "data = req.json()[0]"
   ]
  },
  {
   "cell_type": "code",
   "execution_count": 7,
   "id": "2b7157d6-539b-4fd2-8e02-79a5fa730b0d",
   "metadata": {},
   "outputs": [
    {
     "data": {
      "text/plain": [
       "dict"
      ]
     },
     "execution_count": 7,
     "metadata": {},
     "output_type": "execute_result"
    }
   ],
   "source": [
    "len(data)\n",
    "type(data)"
   ]
  },
  {
   "cell_type": "code",
   "execution_count": 8,
   "id": "b6080678-c01a-42ac-a94b-d341005c2d43",
   "metadata": {},
   "outputs": [
    {
     "name": "stdout",
     "output_type": "stream",
     "text": [
      "trainNumber: 1 (type <class 'int'>)\n",
      "departureDate: 2023-03-14 (type <class 'str'>)\n",
      "operatorUICCode: 10 (type <class 'int'>)\n",
      "operatorShortCode: vr (type <class 'str'>)\n",
      "trainType: IC (type <class 'str'>)\n",
      "trainCategory: Long-distance (type <class 'str'>)\n",
      "commuterLineID:  (type <class 'str'>)\n",
      "runningCurrently: False (type <class 'bool'>)\n",
      "cancelled: False (type <class 'bool'>)\n",
      "version: 285114991349 (type <class 'int'>)\n",
      "timetableType: REGULAR (type <class 'str'>)\n",
      "timetableAcceptanceDate: 2022-11-03T06:29:25.000Z (type <class 'str'>)\n",
      "timeTableRows: 134 values (type <class 'list'>)\n"
     ]
    }
   ],
   "source": [
    "print_dict(data)"
   ]
  },
  {
   "cell_type": "code",
   "execution_count": 9,
   "id": "18736a95-c1b0-48dc-b6bb-30718cfbc19c",
   "metadata": {},
   "outputs": [],
   "source": [
    "timetable = data[\"timeTableRows\"]"
   ]
  },
  {
   "cell_type": "code",
   "execution_count": 10,
   "id": "8be62ea0-ce73-406e-96b6-6648ad249250",
   "metadata": {},
   "outputs": [
    {
     "data": {
      "text/plain": [
       "{'stationShortCode': 'HKI',\n",
       " 'stationUICCode': 1,\n",
       " 'countryCode': 'FI',\n",
       " 'type': 'DEPARTURE',\n",
       " 'trainStopping': True,\n",
       " 'commercialStop': True,\n",
       " 'commercialTrack': '6',\n",
       " 'cancelled': False,\n",
       " 'scheduledTime': '2023-03-14T04:57:00.000Z',\n",
       " 'actualTime': '2023-03-14T04:57:49.000Z',\n",
       " 'differenceInMinutes': 1,\n",
       " 'causes': [],\n",
       " 'trainNumber': 1,\n",
       " 'trainReady': {'source': 'KUPLA',\n",
       "  'accepted': True,\n",
       "  'timestamp': '2023-03-14T04:46:40.000Z'}}"
      ]
     },
     "execution_count": 10,
     "metadata": {},
     "output_type": "execute_result"
    }
   ],
   "source": [
    "timetable[0]"
   ]
  },
  {
   "cell_type": "code",
   "execution_count": null,
   "id": "8c2d2930-4151-4ba8-ac72-28921670b961",
   "metadata": {},
   "outputs": [],
   "source": []
  },
  {
   "cell_type": "code",
   "execution_count": null,
   "id": "efde28a0-b4c7-4e38-8e2d-a2568b2d83f6",
   "metadata": {},
   "outputs": [],
   "source": []
  },
  {
   "cell_type": "code",
   "execution_count": null,
   "id": "3390cceb-6c11-443f-be2b-cc9c472957ea",
   "metadata": {},
   "outputs": [],
   "source": []
  },
  {
   "cell_type": "markdown",
   "id": "bbae8142-0f1b-48d5-8fa3-64d42693d340",
   "metadata": {},
   "source": [
    "### /trains GTFS-muodossa"
   ]
  },
  {
   "cell_type": "markdown",
   "id": "3c306d3d-1e16-4f5a-bfad-65b032679fba",
   "metadata": {},
   "source": [
    "protobuf (protocol buffer)?????"
   ]
  },
  {
   "cell_type": "code",
   "execution_count": null,
   "id": "7e065bec-197b-4a8d-ab3a-a3178a52928a",
   "metadata": {},
   "outputs": [],
   "source": []
  },
  {
   "cell_type": "markdown",
   "id": "9a4525d8-15a5-43f4-94b5-18ea921225eb",
   "metadata": {},
   "source": [
    "### Vanhat junat zip-pakettina"
   ]
  },
  {
   "cell_type": "code",
   "execution_count": 11,
   "id": "62b60109-4a9e-407a-a907-d936fe0e7128",
   "metadata": {},
   "outputs": [],
   "source": [
    "zip_url = \"https://rata.digitraffic.fi/api/v1/trains/dumps/list.html\""
   ]
  },
  {
   "cell_type": "code",
   "execution_count": null,
   "id": "fda560b2-209e-40b8-b5fa-ee13674d3300",
   "metadata": {},
   "outputs": [],
   "source": []
  },
  {
   "cell_type": "code",
   "execution_count": null,
   "id": "c2d2e5b4-3eac-41f0-b74c-79aaaaff4aed",
   "metadata": {},
   "outputs": [],
   "source": []
  },
  {
   "cell_type": "markdown",
   "id": "e178433f-0957-40d6-82b9-1281c39adcff",
   "metadata": {},
   "source": [
    "### Junan versiohistoria"
   ]
  },
  {
   "cell_type": "markdown",
   "id": "31d229bc-7edf-4e70-b5b2-69658eada65b",
   "metadata": {},
   "source": [
    "historia tallessa 14 päivää"
   ]
  },
  {
   "cell_type": "code",
   "execution_count": 12,
   "id": "079a4636-ee54-4207-abee-264e230f6005",
   "metadata": {},
   "outputs": [],
   "source": [
    "url_start = \"https://rata.digitraffic.fi/api/v1/trains/history/\"\n",
    "\n",
    "date = \"2023-04-30\"\n",
    "\n",
    "\n",
    "url = f\"{url_start}{date}/{train_num}\""
   ]
  },
  {
   "cell_type": "code",
   "execution_count": 13,
   "id": "b5f8747d-5bb4-4b7c-aac6-53ce0bbc57d5",
   "metadata": {},
   "outputs": [
    {
     "data": {
      "text/plain": [
       "200"
      ]
     },
     "execution_count": 13,
     "metadata": {},
     "output_type": "execute_result"
    }
   ],
   "source": [
    "req = requests.get(url)\n",
    "req.status_code"
   ]
  },
  {
   "cell_type": "code",
   "execution_count": 14,
   "id": "8ad54971-1174-4678-b163-931ad4d7d8ad",
   "metadata": {},
   "outputs": [],
   "source": [
    "# req.json()"
   ]
  },
  {
   "cell_type": "code",
   "execution_count": null,
   "id": "45736b5b-0cc0-45e9-9aa7-3945ebd801b4",
   "metadata": {},
   "outputs": [],
   "source": []
  },
  {
   "cell_type": "markdown",
   "id": "a8b6a90c-f562-457f-a874-b233f35d3d5e",
   "metadata": {},
   "source": [
    "## /live-trains"
   ]
  },
  {
   "cell_type": "code",
   "execution_count": 15,
   "id": "fc2761b8-2024-4e66-ba2a-8a27963655a6",
   "metadata": {},
   "outputs": [],
   "source": [
    "url_start = \"https://rata.digitraffic.fi/api/v1/live-trains/\"\n",
    "\n",
    "station_code = \"JY\"\n",
    "\n",
    "url = f\"{url_start}station/{station_code}\""
   ]
  },
  {
   "cell_type": "code",
   "execution_count": 16,
   "id": "30effb68-982e-4afa-aaba-d0c9d3329caf",
   "metadata": {},
   "outputs": [
    {
     "data": {
      "text/plain": [
       "200"
      ]
     },
     "execution_count": 16,
     "metadata": {},
     "output_type": "execute_result"
    }
   ],
   "source": [
    "req = requests.get(url)\n",
    "req.status_code"
   ]
  },
  {
   "cell_type": "code",
   "execution_count": 17,
   "id": "e950c2a0-0698-4940-93ca-b9fc4e84b1d3",
   "metadata": {},
   "outputs": [
    {
     "data": {
      "text/plain": [
       "18"
      ]
     },
     "execution_count": 17,
     "metadata": {},
     "output_type": "execute_result"
    }
   ],
   "source": [
    "len(req.json())"
   ]
  },
  {
   "cell_type": "code",
   "execution_count": 18,
   "id": "3ed52624-99eb-45a3-99a2-b201f9317699",
   "metadata": {},
   "outputs": [],
   "source": [
    "# req.json()[0]"
   ]
  },
  {
   "cell_type": "code",
   "execution_count": 19,
   "id": "b58a17ca-3cac-4235-a6a6-8be98a73f0a4",
   "metadata": {},
   "outputs": [
    {
     "name": "stdout",
     "output_type": "stream",
     "text": [
      "trainNumber: 429 (type <class 'int'>)\n",
      "departureDate: 2023-05-15 (type <class 'str'>)\n",
      "operatorUICCode: 10 (type <class 'int'>)\n",
      "operatorShortCode: vr (type <class 'str'>)\n",
      "trainType: HDM (type <class 'str'>)\n",
      "trainCategory: Long-distance (type <class 'str'>)\n",
      "commuterLineID:  (type <class 'str'>)\n",
      "runningCurrently: False (type <class 'bool'>)\n",
      "cancelled: False (type <class 'bool'>)\n",
      "version: 285579092246 (type <class 'int'>)\n",
      "timetableType: REGULAR (type <class 'str'>)\n",
      "timetableAcceptanceDate: 2023-02-16T07:07:26.000Z (type <class 'str'>)\n",
      "timeTableRows: 30 values (type <class 'list'>)\n"
     ]
    }
   ],
   "source": [
    "print_dict(req.json()[0])"
   ]
  },
  {
   "cell_type": "code",
   "execution_count": null,
   "id": "c3ac2f4e-20f0-4fff-8c9e-f0cd5e3ad3f5",
   "metadata": {},
   "outputs": [],
   "source": []
  },
  {
   "cell_type": "markdown",
   "id": "36ebc876-01ee-4aa0-a82e-cd17fc20e006",
   "metadata": {},
   "source": [
    "### reittiperusteinen live-trains"
   ]
  },
  {
   "cell_type": "code",
   "execution_count": 20,
   "id": "91d60392-af71-40d6-8a10-ea098238206c",
   "metadata": {},
   "outputs": [],
   "source": [
    "url_start = \"https://rata.digitraffic.fi/api/v1/live-trains/\"\n",
    "\n",
    "depart_station = \"HKI\"\n",
    "arrive_station = \"TPE\"\n",
    "\n",
    "url = f\"{url_start}station/{depart_station}/{arrive_station}\""
   ]
  },
  {
   "cell_type": "code",
   "execution_count": 21,
   "id": "d52d29b1-ec5e-45fd-b9f6-b40c1d13b4ee",
   "metadata": {},
   "outputs": [],
   "source": [
    "date = \"2023-03-14\"\n",
    "url = f\"{url}?departure_date={date}\""
   ]
  },
  {
   "cell_type": "code",
   "execution_count": 22,
   "id": "90e698ad-5c72-424c-94ae-bdcd05e847a6",
   "metadata": {},
   "outputs": [
    {
     "data": {
      "text/plain": [
       "200"
      ]
     },
     "execution_count": 22,
     "metadata": {},
     "output_type": "execute_result"
    }
   ],
   "source": [
    "req = requests.get(url)\n",
    "req.status_code"
   ]
  },
  {
   "cell_type": "code",
   "execution_count": 23,
   "id": "7842628f-f9c8-4390-903e-bd8d6a95eb22",
   "metadata": {},
   "outputs": [
    {
     "data": {
      "text/plain": [
       "41"
      ]
     },
     "execution_count": 23,
     "metadata": {},
     "output_type": "execute_result"
    }
   ],
   "source": [
    "len(req.json())"
   ]
  },
  {
   "cell_type": "code",
   "execution_count": 24,
   "id": "e7742a85-61bb-42da-b4c7-3052d2a952a5",
   "metadata": {},
   "outputs": [
    {
     "name": "stdout",
     "output_type": "stream",
     "text": [
      "trainNumber: 35 (type <class 'int'>)\n",
      "departureDate: 2023-03-14 (type <class 'str'>)\n",
      "operatorUICCode: 10 (type <class 'int'>)\n",
      "operatorShortCode: vr (type <class 'str'>)\n",
      "trainType: S (type <class 'str'>)\n",
      "trainCategory: Long-distance (type <class 'str'>)\n",
      "commuterLineID:  (type <class 'str'>)\n",
      "runningCurrently: False (type <class 'bool'>)\n",
      "cancelled: False (type <class 'bool'>)\n",
      "version: 285114942962 (type <class 'int'>)\n",
      "timetableType: REGULAR (type <class 'str'>)\n",
      "timetableAcceptanceDate: 2022-11-03T06:29:25.000Z (type <class 'str'>)\n",
      "timeTableRows: 202 values (type <class 'list'>)\n"
     ]
    }
   ],
   "source": [
    "print_dict(req.json()[0])"
   ]
  },
  {
   "cell_type": "code",
   "execution_count": null,
   "id": "0e7cfeeb-1991-40d9-aae0-4ad7a074f0c4",
   "metadata": {},
   "outputs": [],
   "source": []
  },
  {
   "cell_type": "markdown",
   "id": "cd95d9f4-0cd4-45c9-b34f-8ecaf119b125",
   "metadata": {},
   "source": [
    "## /train-locations"
   ]
  },
  {
   "cell_type": "code",
   "execution_count": 25,
   "id": "08252d3e-8e22-41cd-80ae-2f4786037505",
   "metadata": {},
   "outputs": [],
   "source": [
    "url_start = \"https://rata.digitraffic.fi/api/v1/train-locations/\"\n",
    "\n",
    "url = f\"{url_start}latest/\""
   ]
  },
  {
   "cell_type": "code",
   "execution_count": 26,
   "id": "0c1e61b3-afa1-4358-b3fb-0b43519065c4",
   "metadata": {},
   "outputs": [
    {
     "data": {
      "text/plain": [
       "200"
      ]
     },
     "execution_count": 26,
     "metadata": {},
     "output_type": "execute_result"
    }
   ],
   "source": [
    "req = requests.get(url)\n",
    "req.status_code"
   ]
  },
  {
   "cell_type": "code",
   "execution_count": 27,
   "id": "4eefb47a-b18a-469e-a62a-fb55a8ae5d53",
   "metadata": {},
   "outputs": [
    {
     "data": {
      "text/plain": [
       "123"
      ]
     },
     "execution_count": 27,
     "metadata": {},
     "output_type": "execute_result"
    }
   ],
   "source": [
    "len(req.json())"
   ]
  },
  {
   "cell_type": "code",
   "execution_count": null,
   "id": "172bb3db-485f-4bbd-861c-e846e0341bbe",
   "metadata": {},
   "outputs": [],
   "source": []
  },
  {
   "cell_type": "markdown",
   "id": "7618c274-4c72-4db5-a9b6-dab48222dbf3",
   "metadata": {},
   "source": [
    "### yhden junan sijainti"
   ]
  },
  {
   "cell_type": "code",
   "execution_count": 28,
   "id": "c563ce1e-5677-4bba-8f5e-b069834e7cfe",
   "metadata": {},
   "outputs": [],
   "source": [
    "url_start = \"https://rata.digitraffic.fi/api/v1/train-locations/\"\n",
    "\n",
    "date = \"2023-03-14\"\n",
    "train_num = 1\n",
    "\n",
    "url = f\"{url_start}{date}/{train_num}\""
   ]
  },
  {
   "cell_type": "code",
   "execution_count": 29,
   "id": "58b2c58b-fb97-4c2e-abd9-9401ac08694e",
   "metadata": {},
   "outputs": [
    {
     "data": {
      "text/plain": [
       "200"
      ]
     },
     "execution_count": 29,
     "metadata": {},
     "output_type": "execute_result"
    }
   ],
   "source": [
    "req = requests.get(url)\n",
    "req.status_code"
   ]
  },
  {
   "cell_type": "code",
   "execution_count": 30,
   "id": "e546953b-a556-4882-b96d-4424d474aa23",
   "metadata": {},
   "outputs": [
    {
     "data": {
      "text/plain": [
       "2472"
      ]
     },
     "execution_count": 30,
     "metadata": {},
     "output_type": "execute_result"
    }
   ],
   "source": [
    "len(req.json())"
   ]
  },
  {
   "cell_type": "code",
   "execution_count": null,
   "id": "118a546d-efc6-4764-ad35-116bcc908481",
   "metadata": {},
   "outputs": [],
   "source": []
  },
  {
   "cell_type": "markdown",
   "id": "3f5f3bf2-a44a-418a-9695-1a7e2c8cfc29",
   "metadata": {},
   "source": [
    "### Vanhat sijainnit zip-pakettina"
   ]
  },
  {
   "cell_type": "code",
   "execution_count": 31,
   "id": "961c5be2-077c-434a-b2c4-3f2c5e5481a9",
   "metadata": {},
   "outputs": [],
   "source": [
    "url = \"https://rata.digitraffic.fi/api/v1/train-locations/dumps/list.html\""
   ]
  },
  {
   "cell_type": "code",
   "execution_count": null,
   "id": "0c7f928f-168c-4bc5-bdb1-c2b2c6c56c65",
   "metadata": {},
   "outputs": [],
   "source": []
  },
  {
   "cell_type": "code",
   "execution_count": null,
   "id": "930fc731-2771-49cc-9747-7a3530a21f97",
   "metadata": {},
   "outputs": [],
   "source": []
  },
  {
   "cell_type": "code",
   "execution_count": null,
   "id": "0bded588-fa69-4336-98bd-1cd364c67cc0",
   "metadata": {},
   "outputs": [],
   "source": []
  },
  {
   "cell_type": "code",
   "execution_count": null,
   "id": "0fd1af3a-c217-4f23-a273-31d2e0ee88e7",
   "metadata": {},
   "outputs": [],
   "source": []
  },
  {
   "cell_type": "markdown",
   "id": "58985a80-2ade-41f3-8c15-be7a89a1b92e",
   "metadata": {},
   "source": [
    "## /train-tracking"
   ]
  },
  {
   "cell_type": "code",
   "execution_count": 32,
   "id": "9661a925-65cd-4c94-8f1f-b961cf552922",
   "metadata": {},
   "outputs": [],
   "source": [
    "url_start = \"https://rata.digitraffic.fi/api/v1/train-tracking/\""
   ]
  },
  {
   "cell_type": "code",
   "execution_count": 33,
   "id": "90505736-6d84-439b-b3fb-fda3c0266dc2",
   "metadata": {},
   "outputs": [],
   "source": [
    "date = \"2023-03-14\"\n",
    "train_num = 1\n",
    "\n",
    "url = f\"{url_start}{date}/{train_num}\""
   ]
  },
  {
   "cell_type": "code",
   "execution_count": 34,
   "id": "bd64ab74-307f-4abd-8800-5401e5771866",
   "metadata": {},
   "outputs": [
    {
     "data": {
      "text/plain": [
       "200"
      ]
     },
     "execution_count": 34,
     "metadata": {},
     "output_type": "execute_result"
    }
   ],
   "source": [
    "# req = requests.get(url_start)\n",
    "req = requests.get(url)\n",
    "req.status_code"
   ]
  },
  {
   "cell_type": "code",
   "execution_count": 35,
   "id": "c03ae176-3601-4579-83bb-5afacc46a012",
   "metadata": {},
   "outputs": [
    {
     "data": {
      "text/plain": [
       "1086"
      ]
     },
     "execution_count": 35,
     "metadata": {},
     "output_type": "execute_result"
    }
   ],
   "source": [
    "len(req.json())"
   ]
  },
  {
   "cell_type": "code",
   "execution_count": 36,
   "id": "2adb7329-2454-4795-b9ed-7e5de9b8533f",
   "metadata": {},
   "outputs": [
    {
     "data": {
      "text/plain": [
       "{'id': 2377182201,\n",
       " 'version': 285114889714,\n",
       " 'trainNumber': '1',\n",
       " 'departureDate': '2023-03-14',\n",
       " 'timestamp': '2023-03-14T09:33:33.000Z',\n",
       " 'trackSection': 'B',\n",
       " 'station': 'NTH',\n",
       " 'nextStation': 'SUL',\n",
       " 'previousStation': 'HSL',\n",
       " 'type': 'RELEASE'}"
      ]
     },
     "execution_count": 36,
     "metadata": {},
     "output_type": "execute_result"
    }
   ],
   "source": [
    "req.json()[0]"
   ]
  },
  {
   "cell_type": "code",
   "execution_count": 37,
   "id": "99304448-3d14-4b18-ad9e-fb131728ecd8",
   "metadata": {},
   "outputs": [
    {
     "data": {
      "text/plain": [
       "{'id': 2377060494,\n",
       " 'version': 285112971514,\n",
       " 'trainNumber': '1',\n",
       " 'departureDate': '2023-03-14',\n",
       " 'timestamp': '2023-03-14T04:52:00.000Z',\n",
       " 'trackSection': '006a',\n",
       " 'station': 'HKI',\n",
       " 'nextStation': 'PSL',\n",
       " 'previousStation': 'START',\n",
       " 'type': 'OCCUPY'}"
      ]
     },
     "execution_count": 37,
     "metadata": {},
     "output_type": "execute_result"
    }
   ],
   "source": [
    "req.json()[-1]"
   ]
  },
  {
   "cell_type": "code",
   "execution_count": null,
   "id": "91bfaabc-0b93-486f-a3dc-14760666b2e3",
   "metadata": {},
   "outputs": [],
   "source": []
  },
  {
   "cell_type": "markdown",
   "id": "059189b9-cc9d-44a6-9eb4-ca003997a6bb",
   "metadata": {},
   "source": [
    "### aseman seuranta"
   ]
  },
  {
   "cell_type": "code",
   "execution_count": 38,
   "id": "cd27c2f1-91d2-451d-8cae-674009798fc3",
   "metadata": {},
   "outputs": [],
   "source": [
    "url_start = \"https://rata.digitraffic.fi/api/v1/train-tracking/\"\n",
    "\n",
    "station_code = \"JY\"\n",
    "track_section = \"\"\n",
    "date = \"2023-03-14\"\n",
    "\n",
    "url = f\"{url_start}station/{station_code}/{date}\"\n",
    "\n",
    "if track_section:\n",
    "    url = f\"{url_start}station/{station_code}/{date}/{track_section}\""
   ]
  },
  {
   "cell_type": "code",
   "execution_count": 39,
   "id": "98b48600-3307-42bd-a639-c755326b768b",
   "metadata": {},
   "outputs": [
    {
     "data": {
      "text/plain": [
       "200"
      ]
     },
     "execution_count": 39,
     "metadata": {},
     "output_type": "execute_result"
    }
   ],
   "source": [
    "req = requests.get(url)\n",
    "req.status_code"
   ]
  },
  {
   "cell_type": "code",
   "execution_count": 40,
   "id": "a8ba8eda-60dc-4977-acfb-8e9cc90337a5",
   "metadata": {},
   "outputs": [
    {
     "data": {
      "text/plain": [
       "3044"
      ]
     },
     "execution_count": 40,
     "metadata": {},
     "output_type": "execute_result"
    }
   ],
   "source": [
    "len(req.json())"
   ]
  },
  {
   "cell_type": "code",
   "execution_count": null,
   "id": "a80ec477-4641-40ba-a6f6-f19c71664930",
   "metadata": {},
   "outputs": [],
   "source": []
  },
  {
   "cell_type": "code",
   "execution_count": null,
   "id": "b6436ed6-e203-4648-bc7f-a670150bcfbf",
   "metadata": {},
   "outputs": [],
   "source": []
  },
  {
   "cell_type": "markdown",
   "id": "5d0dc542-e02a-43bd-9cb6-7e85ac245af1",
   "metadata": {},
   "source": [
    "## /compositions"
   ]
  },
  {
   "cell_type": "code",
   "execution_count": 41,
   "id": "6f2ddc7f-1dcc-4900-a1cc-657022bebf02",
   "metadata": {},
   "outputs": [],
   "source": [
    "url_start = \"https://rata.digitraffic.fi/api/v1/compositions/\"\n",
    "\n",
    "date = \"2023-03-14\"\n",
    "train_num = 1\n",
    "\n",
    "url = f\"{url_start}{date}/{train_num}\""
   ]
  },
  {
   "cell_type": "code",
   "execution_count": 42,
   "id": "c868cba7-8c67-43d5-aa89-42d29cfc555e",
   "metadata": {},
   "outputs": [
    {
     "data": {
      "text/plain": [
       "200"
      ]
     },
     "execution_count": 42,
     "metadata": {},
     "output_type": "execute_result"
    }
   ],
   "source": [
    "req = requests.get(url)\n",
    "req.status_code"
   ]
  },
  {
   "cell_type": "code",
   "execution_count": 43,
   "id": "ba08c985-306d-49aa-9af3-289017e82440",
   "metadata": {},
   "outputs": [
    {
     "data": {
      "text/plain": [
       "8"
      ]
     },
     "execution_count": 43,
     "metadata": {},
     "output_type": "execute_result"
    }
   ],
   "source": [
    "len(req.json())"
   ]
  },
  {
   "cell_type": "code",
   "execution_count": 44,
   "id": "762c3180-b4d9-41d5-abd0-905debd82394",
   "metadata": {},
   "outputs": [],
   "source": [
    "junakokoonpano = req.json()"
   ]
  },
  {
   "cell_type": "code",
   "execution_count": 45,
   "id": "4b4d1b19-860c-45d2-8345-73fc1abdd48e",
   "metadata": {},
   "outputs": [
    {
     "name": "stdout",
     "output_type": "stream",
     "text": [
      "trainNumber: 1 (type <class 'int'>)\n",
      "departureDate: 2023-03-14 (type <class 'str'>)\n",
      "operatorUICCode: 10 (type <class 'int'>)\n",
      "operatorShortCode: vr (type <class 'str'>)\n",
      "trainCategory: Long-distance (type <class 'str'>)\n",
      "trainType: IC (type <class 'str'>)\n",
      "version: 285114936734 (type <class 'int'>)\n",
      "journeySections: 1 values (type <class 'list'>)\n"
     ]
    }
   ],
   "source": [
    "print_dict(junakokoonpano)"
   ]
  },
  {
   "cell_type": "code",
   "execution_count": 46,
   "id": "5affd9f1-ca1e-4f9f-8d1a-3bcec558f056",
   "metadata": {},
   "outputs": [
    {
     "name": "stdout",
     "output_type": "stream",
     "text": [
      "beginTimeTableRow: 5 values (type <class 'dict'>)\n",
      "endTimeTableRow: 5 values (type <class 'dict'>)\n",
      "locomotives: 1 values (type <class 'list'>)\n",
      "wagons: 5 values (type <class 'list'>)\n",
      "totalLength: 152 (type <class 'int'>)\n",
      "maximumSpeed: 200 (type <class 'int'>)\n",
      "attapId: 293065915 (type <class 'int'>)\n",
      "saapAttapId: 293072665 (type <class 'int'>)\n"
     ]
    }
   ],
   "source": [
    "print_dict(junakokoonpano[\"journeySections\"][0])"
   ]
  },
  {
   "cell_type": "code",
   "execution_count": null,
   "id": "99bea4d2-ad6c-4625-8892-475e4ff65e26",
   "metadata": {},
   "outputs": [],
   "source": []
  },
  {
   "cell_type": "markdown",
   "id": "dbd99863-b821-4763-8358-794796b85346",
   "metadata": {},
   "source": [
    "### Vanhat kokoonpanot zip-pakettina"
   ]
  },
  {
   "cell_type": "code",
   "execution_count": 47,
   "id": "ac670f69-97b0-401a-a86b-bfc16f9cd94a",
   "metadata": {},
   "outputs": [],
   "source": [
    "url = \"https://rata.digitraffic.fi/api/v1/compositions/dumps/list.html\""
   ]
  },
  {
   "cell_type": "code",
   "execution_count": null,
   "id": "1591d989-4757-40e3-bae4-987d716036d4",
   "metadata": {},
   "outputs": [],
   "source": []
  },
  {
   "cell_type": "code",
   "execution_count": null,
   "id": "17d43636-b84c-4da1-b02e-c5164eaf8976",
   "metadata": {},
   "outputs": [],
   "source": []
  },
  {
   "cell_type": "markdown",
   "id": "eec1be32-e5f4-4fa2-ac29-48c5540fa712",
   "metadata": {},
   "source": [
    "## /routesets"
   ]
  },
  {
   "cell_type": "markdown",
   "id": "1da341c9-d442-4276-8148-6cb670e71aa2",
   "metadata": {},
   "source": [
    "ehkei ole kiinnostavaa nyt..."
   ]
  },
  {
   "cell_type": "code",
   "execution_count": null,
   "id": "247a4514-bd62-4b52-8bed-4b19e1267a6a",
   "metadata": {},
   "outputs": [],
   "source": []
  },
  {
   "cell_type": "code",
   "execution_count": null,
   "id": "fc00bcbb-4a12-4f68-a5b4-99195dd13c81",
   "metadata": {},
   "outputs": [],
   "source": []
  },
  {
   "cell_type": "code",
   "execution_count": null,
   "id": "80f54485-6cbd-416d-bd7c-1f98a84d97ee",
   "metadata": {},
   "outputs": [],
   "source": []
  },
  {
   "cell_type": "code",
   "execution_count": null,
   "id": "61d0a233-1f27-496b-ae82-5d69187b5429",
   "metadata": {},
   "outputs": [],
   "source": []
  },
  {
   "cell_type": "code",
   "execution_count": null,
   "id": "60d8fdf3-66b1-48e4-a4cf-a91e07661c38",
   "metadata": {},
   "outputs": [],
   "source": []
  },
  {
   "cell_type": "code",
   "execution_count": null,
   "id": "e24944e7-f310-4321-bb0c-507b386f6a63",
   "metadata": {},
   "outputs": [],
   "source": []
  },
  {
   "cell_type": "code",
   "execution_count": null,
   "id": "c2361cba-8564-4fd8-bd7a-26b0d945cb64",
   "metadata": {},
   "outputs": [],
   "source": []
  },
  {
   "cell_type": "code",
   "execution_count": null,
   "id": "deae0173-5c72-4c35-8b6e-4d85755e5ee1",
   "metadata": {},
   "outputs": [],
   "source": []
  },
  {
   "cell_type": "code",
   "execution_count": null,
   "id": "fcfb47ce-74cc-42da-806c-2d4a768ab147",
   "metadata": {},
   "outputs": [],
   "source": []
  },
  {
   "cell_type": "code",
   "execution_count": null,
   "id": "147a1bb6-fa26-4b38-8885-ecf08d34eaa0",
   "metadata": {},
   "outputs": [],
   "source": []
  },
  {
   "cell_type": "code",
   "execution_count": null,
   "id": "a0e2ac9c-8fc6-4fa9-a0e4-6b736e1dd7f2",
   "metadata": {},
   "outputs": [],
   "source": []
  },
  {
   "cell_type": "markdown",
   "id": "2d107588-0687-4fd0-94ba-e4a9f89a0621",
   "metadata": {},
   "source": [
    "## Asemat"
   ]
  },
  {
   "cell_type": "code",
   "execution_count": 48,
   "id": "2b55912d-595e-4b0f-a153-e77ad9bc1911",
   "metadata": {},
   "outputs": [],
   "source": [
    "url = \"https://rata.digitraffic.fi/api/v1/metadata/stations\""
   ]
  },
  {
   "cell_type": "code",
   "execution_count": 49,
   "id": "5ef11367-b221-467f-bd18-614271e52430",
   "metadata": {},
   "outputs": [
    {
     "data": {
      "text/plain": [
       "200"
      ]
     },
     "execution_count": 49,
     "metadata": {},
     "output_type": "execute_result"
    }
   ],
   "source": [
    "req = requests.get(url)\n",
    "req.status_code"
   ]
  },
  {
   "cell_type": "code",
   "execution_count": 50,
   "id": "e3d5f2a0-8d85-4b37-8950-88e03e597aca",
   "metadata": {},
   "outputs": [
    {
     "data": {
      "text/plain": [
       "554"
      ]
     },
     "execution_count": 50,
     "metadata": {},
     "output_type": "execute_result"
    }
   ],
   "source": [
    "stations = req.json()\n",
    "len(stations)"
   ]
  },
  {
   "cell_type": "code",
   "execution_count": null,
   "id": "55996dff-4113-48e7-9e53-991130b88306",
   "metadata": {},
   "outputs": [],
   "source": []
  },
  {
   "cell_type": "code",
   "execution_count": null,
   "id": "61b3a4c1-e63c-4f7a-8388-5a19f29c248b",
   "metadata": {},
   "outputs": [],
   "source": []
  },
  {
   "cell_type": "code",
   "execution_count": 51,
   "id": "f298b8b1-795e-40dc-a9fa-f10ddf6c811e",
   "metadata": {},
   "outputs": [],
   "source": [
    "def find_station(station_name):\n",
    "    return list(filter(lambda d: station_name in d[\"stationName\"], stations))"
   ]
  },
  {
   "cell_type": "code",
   "execution_count": null,
   "id": "47058c78-a03a-4c8a-9c5c-0e37e00b5dde",
   "metadata": {},
   "outputs": [],
   "source": []
  },
  {
   "cell_type": "code",
   "execution_count": 52,
   "id": "68c2d845-68c0-454a-9d0b-40a6b58319c7",
   "metadata": {},
   "outputs": [
    {
     "data": {
      "text/plain": [
       "{'passengerTraffic': False,\n",
       " 'type': 'STATION',\n",
       " 'stationName': 'Ahonpää',\n",
       " 'stationShortCode': 'AHO',\n",
       " 'stationUICCode': 1343,\n",
       " 'countryCode': 'FI',\n",
       " 'longitude': 25.006783,\n",
       " 'latitude': 64.537118}"
      ]
     },
     "execution_count": 52,
     "metadata": {},
     "output_type": "execute_result"
    }
   ],
   "source": [
    "stations[0]"
   ]
  },
  {
   "cell_type": "code",
   "execution_count": 53,
   "id": "c5371c8b-f20d-4e28-adb1-4010935a98e6",
   "metadata": {},
   "outputs": [],
   "source": [
    "station_name = \"Jyväskylä\""
   ]
  },
  {
   "cell_type": "code",
   "execution_count": 54,
   "id": "30a60593-bc68-43cf-acb8-8d6042fb2b14",
   "metadata": {},
   "outputs": [
    {
     "data": {
      "text/plain": [
       "[{'passengerTraffic': True,\n",
       "  'type': 'STATION',\n",
       "  'stationName': 'Jyväskylä',\n",
       "  'stationShortCode': 'JY',\n",
       "  'stationUICCode': 240,\n",
       "  'countryCode': 'FI',\n",
       "  'longitude': 25.754984,\n",
       "  'latitude': 62.241455}]"
      ]
     },
     "execution_count": 54,
     "metadata": {},
     "output_type": "execute_result"
    }
   ],
   "source": [
    "find_station(station_name)"
   ]
  },
  {
   "cell_type": "code",
   "execution_count": 55,
   "id": "f6fa28a5-ade8-407c-a098-9a760c58641a",
   "metadata": {},
   "outputs": [],
   "source": [
    "station_dict = list(filter(lambda d: station_name in d[\"stationName\"], stations))[0]"
   ]
  },
  {
   "cell_type": "code",
   "execution_count": 56,
   "id": "db766762-49ef-427c-a582-84747237bd3b",
   "metadata": {},
   "outputs": [
    {
     "data": {
      "text/plain": [
       "{'passengerTraffic': True,\n",
       " 'type': 'STATION',\n",
       " 'stationName': 'Jyväskylä',\n",
       " 'stationShortCode': 'JY',\n",
       " 'stationUICCode': 240,\n",
       " 'countryCode': 'FI',\n",
       " 'longitude': 25.754984,\n",
       " 'latitude': 62.241455}"
      ]
     },
     "execution_count": 56,
     "metadata": {},
     "output_type": "execute_result"
    }
   ],
   "source": [
    "station_dict"
   ]
  },
  {
   "cell_type": "code",
   "execution_count": 57,
   "id": "100b09b3-e39e-44ae-97e7-f1ebecfb9d46",
   "metadata": {},
   "outputs": [
    {
     "data": {
      "text/plain": [
       "[{'passengerTraffic': True,\n",
       "  'type': 'STATION',\n",
       "  'stationName': 'Tampere asema',\n",
       "  'stationShortCode': 'TPE',\n",
       "  'stationUICCode': 160,\n",
       "  'countryCode': 'FI',\n",
       "  'longitude': 23.773454,\n",
       "  'latitude': 61.498236},\n",
       " {'passengerTraffic': False,\n",
       "  'type': 'STATION',\n",
       "  'stationName': 'Tampere Järvensivu',\n",
       "  'stationShortCode': 'JVS',\n",
       "  'stationUICCode': 1272,\n",
       "  'countryCode': 'FI',\n",
       "  'longitude': 23.785189,\n",
       "  'latitude': 61.491461},\n",
       " {'passengerTraffic': False,\n",
       "  'type': 'STATION',\n",
       "  'stationName': 'Tampere tavara',\n",
       "  'stationShortCode': 'TPET',\n",
       "  'stationUICCode': 1273,\n",
       "  'countryCode': 'FI',\n",
       "  'longitude': 23.763974,\n",
       "  'latitude': 61.469888},\n",
       " {'passengerTraffic': False,\n",
       "  'type': 'STATION',\n",
       "  'stationName': 'Tampere Viinikka',\n",
       "  'stationShortCode': 'VKA',\n",
       "  'stationUICCode': 1274,\n",
       "  'countryCode': 'FI',\n",
       "  'longitude': 23.773542,\n",
       "  'latitude': 61.480331}]"
      ]
     },
     "execution_count": 57,
     "metadata": {},
     "output_type": "execute_result"
    }
   ],
   "source": [
    "find_station(\"Tampere\")"
   ]
  },
  {
   "cell_type": "code",
   "execution_count": 58,
   "id": "4f48f836-5403-41ef-b383-5e69cc03abab",
   "metadata": {},
   "outputs": [
    {
     "data": {
      "text/plain": [
       "[{'passengerTraffic': True,\n",
       "  'type': 'STATION',\n",
       "  'stationName': 'Oulu asema',\n",
       "  'stationShortCode': 'OL',\n",
       "  'stationUICCode': 370,\n",
       "  'countryCode': 'FI',\n",
       "  'longitude': 25.486121,\n",
       "  'latitude': 65.012409},\n",
       " {'passengerTraffic': False,\n",
       "  'type': 'STATION',\n",
       "  'stationName': 'Oulu Nokela',\n",
       "  'stationShortCode': 'NOK',\n",
       "  'stationUICCode': 1195,\n",
       "  'countryCode': 'FI',\n",
       "  'longitude': 25.475726,\n",
       "  'latitude': 64.989283},\n",
       " {'passengerTraffic': False,\n",
       "  'type': 'STATION',\n",
       "  'stationName': 'Oulu Oritkari',\n",
       "  'stationShortCode': 'ORI',\n",
       "  'stationUICCode': 1196,\n",
       "  'countryCode': 'FI',\n",
       "  'longitude': 25.452448,\n",
       "  'latitude': 64.98925},\n",
       " {'passengerTraffic': False,\n",
       "  'type': 'STATION',\n",
       "  'stationName': 'Oulu tavara',\n",
       "  'stationShortCode': 'OLT',\n",
       "  'stationUICCode': 1197,\n",
       "  'countryCode': 'FI',\n",
       "  'longitude': 25.470291,\n",
       "  'latitude': 65.000913},\n",
       " {'passengerTraffic': False,\n",
       "  'type': 'STATION',\n",
       "  'stationName': 'Oulu Tuira',\n",
       "  'stationShortCode': 'TUA',\n",
       "  'stationUICCode': 339,\n",
       "  'countryCode': 'FI',\n",
       "  'longitude': 25.474942,\n",
       "  'latitude': 65.02871},\n",
       " {'passengerTraffic': True,\n",
       "  'type': 'STATION',\n",
       "  'stationName': 'Oulunkylä',\n",
       "  'stationShortCode': 'OLK',\n",
       "  'stationUICCode': 15,\n",
       "  'countryCode': 'FI',\n",
       "  'longitude': 24.967676,\n",
       "  'latitude': 60.229},\n",
       " {'passengerTraffic': False,\n",
       "  'type': 'STATION',\n",
       "  'stationName': 'Oulunlahti',\n",
       "  'stationShortCode': 'OLL',\n",
       "  'stationUICCode': 1351,\n",
       "  'countryCode': 'FI',\n",
       "  'longitude': 25.504832,\n",
       "  'latitude': 64.962428}]"
      ]
     },
     "execution_count": 58,
     "metadata": {},
     "output_type": "execute_result"
    }
   ],
   "source": [
    "find_station(\"Oulu\")"
   ]
  },
  {
   "cell_type": "code",
   "execution_count": 59,
   "id": "9ff26ba1-0a4b-400b-a06d-819c9917d6d1",
   "metadata": {},
   "outputs": [
    {
     "data": {
      "text/plain": [
       "[{'passengerTraffic': True,\n",
       "  'type': 'STATION',\n",
       "  'stationName': 'Kemi asema',\n",
       "  'stationShortCode': 'KEM',\n",
       "  'stationUICCode': 347,\n",
       "  'countryCode': 'FI',\n",
       "  'longitude': 24.574339,\n",
       "  'latitude': 65.736749},\n",
       " {'passengerTraffic': False,\n",
       "  'type': 'STATION',\n",
       "  'stationName': 'Kemi Lautiosaari',\n",
       "  'stationShortCode': 'LI',\n",
       "  'stationUICCode': 829,\n",
       "  'countryCode': 'FI',\n",
       "  'longitude': 24.565183,\n",
       "  'latitude': 65.779047},\n",
       " {'passengerTraffic': False,\n",
       "  'type': 'STATION',\n",
       "  'stationName': 'Kemi Sahansaari',\n",
       "  'stationShortCode': 'SHS',\n",
       "  'stationUICCode': 1363,\n",
       "  'countryCode': 'FI',\n",
       "  'longitude': 24.550275,\n",
       "  'latitude': 65.757307},\n",
       " {'passengerTraffic': True,\n",
       "  'type': 'STATION',\n",
       "  'stationName': 'Kemijärvi',\n",
       "  'stationShortCode': 'KJÄ',\n",
       "  'stationUICCode': 367,\n",
       "  'countryCode': 'FI',\n",
       "  'longitude': 27.403715,\n",
       "  'latitude': 66.724273}]"
      ]
     },
     "execution_count": 59,
     "metadata": {},
     "output_type": "execute_result"
    }
   ],
   "source": [
    "find_station(\"Kemi\")"
   ]
  },
  {
   "cell_type": "code",
   "execution_count": null,
   "id": "d5e3858d-bdd1-4403-8707-08e2b9698cfd",
   "metadata": {},
   "outputs": [],
   "source": []
  },
  {
   "cell_type": "code",
   "execution_count": 60,
   "id": "d2248c38-a1b5-45e7-91f7-7b93a2071198",
   "metadata": {},
   "outputs": [
    {
     "data": {
      "text/html": [
       "<div>\n",
       "<style scoped>\n",
       "    .dataframe tbody tr th:only-of-type {\n",
       "        vertical-align: middle;\n",
       "    }\n",
       "\n",
       "    .dataframe tbody tr th {\n",
       "        vertical-align: top;\n",
       "    }\n",
       "\n",
       "    .dataframe thead th {\n",
       "        text-align: right;\n",
       "    }\n",
       "</style>\n",
       "<table border=\"1\" class=\"dataframe\">\n",
       "  <thead>\n",
       "    <tr style=\"text-align: right;\">\n",
       "      <th></th>\n",
       "      <th>passengerTraffic</th>\n",
       "      <th>type</th>\n",
       "      <th>stationName</th>\n",
       "      <th>stationShortCode</th>\n",
       "      <th>stationUICCode</th>\n",
       "      <th>countryCode</th>\n",
       "      <th>longitude</th>\n",
       "      <th>latitude</th>\n",
       "    </tr>\n",
       "  </thead>\n",
       "  <tbody>\n",
       "    <tr>\n",
       "      <th>0</th>\n",
       "      <td>False</td>\n",
       "      <td>STATION</td>\n",
       "      <td>Ahonpää</td>\n",
       "      <td>AHO</td>\n",
       "      <td>1343</td>\n",
       "      <td>FI</td>\n",
       "      <td>25.006783</td>\n",
       "      <td>64.537118</td>\n",
       "    </tr>\n",
       "    <tr>\n",
       "      <th>1</th>\n",
       "      <td>False</td>\n",
       "      <td>STATION</td>\n",
       "      <td>Ahvenus</td>\n",
       "      <td>AHV</td>\n",
       "      <td>1000</td>\n",
       "      <td>FI</td>\n",
       "      <td>22.498185</td>\n",
       "      <td>61.291923</td>\n",
       "    </tr>\n",
       "    <tr>\n",
       "      <th>2</th>\n",
       "      <td>True</td>\n",
       "      <td>STOPPING_POINT</td>\n",
       "      <td>Ainola</td>\n",
       "      <td>AIN</td>\n",
       "      <td>628</td>\n",
       "      <td>FI</td>\n",
       "      <td>25.101494</td>\n",
       "      <td>60.456863</td>\n",
       "    </tr>\n",
       "    <tr>\n",
       "      <th>3</th>\n",
       "      <td>False</td>\n",
       "      <td>STATION</td>\n",
       "      <td>Airaksela</td>\n",
       "      <td>ARL</td>\n",
       "      <td>869</td>\n",
       "      <td>FI</td>\n",
       "      <td>27.429500</td>\n",
       "      <td>62.724396</td>\n",
       "    </tr>\n",
       "    <tr>\n",
       "      <th>4</th>\n",
       "      <td>False</td>\n",
       "      <td>STATION</td>\n",
       "      <td>Aittaluoto</td>\n",
       "      <td>ATL</td>\n",
       "      <td>676</td>\n",
       "      <td>FI</td>\n",
       "      <td>21.845370</td>\n",
       "      <td>61.476933</td>\n",
       "    </tr>\n",
       "  </tbody>\n",
       "</table>\n",
       "</div>"
      ],
      "text/plain": [
       "   passengerTraffic            type stationName stationShortCode  \\\n",
       "0             False         STATION     Ahonpää              AHO   \n",
       "1             False         STATION     Ahvenus              AHV   \n",
       "2              True  STOPPING_POINT      Ainola              AIN   \n",
       "3             False         STATION   Airaksela              ARL   \n",
       "4             False         STATION  Aittaluoto              ATL   \n",
       "\n",
       "   stationUICCode countryCode  longitude   latitude  \n",
       "0            1343          FI  25.006783  64.537118  \n",
       "1            1000          FI  22.498185  61.291923  \n",
       "2             628          FI  25.101494  60.456863  \n",
       "3             869          FI  27.429500  62.724396  \n",
       "4             676          FI  21.845370  61.476933  "
      ]
     },
     "execution_count": 60,
     "metadata": {},
     "output_type": "execute_result"
    }
   ],
   "source": [
    "station_df = pd.DataFrame(stations)\n",
    "station_df.head()"
   ]
  },
  {
   "cell_type": "code",
   "execution_count": 61,
   "id": "ff2cdfb6-9117-469c-b661-cb3b24b50471",
   "metadata": {},
   "outputs": [],
   "source": [
    "# onko tarvetta tallentaa asemat?\n",
    "# save_df_to_db(station_df, \"juna-asemat\")"
   ]
  },
  {
   "cell_type": "code",
   "execution_count": null,
   "id": "fae4039b-5e09-40e4-8c1a-df70c025b4e5",
   "metadata": {},
   "outputs": [],
   "source": []
  },
  {
   "cell_type": "code",
   "execution_count": null,
   "id": "8f21a538-60aa-4e7b-acc2-4302a4fad804",
   "metadata": {},
   "outputs": [],
   "source": []
  },
  {
   "cell_type": "markdown",
   "id": "6d85c181-ee59-43ac-bb56-5a9e632a9628",
   "metadata": {},
   "source": [
    "## Raideosuudet"
   ]
  },
  {
   "cell_type": "code",
   "execution_count": 62,
   "id": "412f4199-710a-4552-8d5c-ddef6f14ce00",
   "metadata": {},
   "outputs": [],
   "source": [
    "url = \"https://rata.digitraffic.fi/api/v1/metadata/track-sections\""
   ]
  },
  {
   "cell_type": "code",
   "execution_count": 63,
   "id": "8d2744fc-8567-4e91-a261-282bc44024af",
   "metadata": {},
   "outputs": [
    {
     "data": {
      "text/plain": [
       "200"
      ]
     },
     "execution_count": 63,
     "metadata": {},
     "output_type": "execute_result"
    }
   ],
   "source": [
    "req = requests.get(url)\n",
    "req.status_code"
   ]
  },
  {
   "cell_type": "code",
   "execution_count": 64,
   "id": "53ccbde7-2c6d-49ff-bd71-5a5d809fe41d",
   "metadata": {},
   "outputs": [],
   "source": [
    "raideosuudet = req.json()"
   ]
  },
  {
   "cell_type": "code",
   "execution_count": 65,
   "id": "09d9d2fe-82ed-449b-992f-a2c3e6654c9c",
   "metadata": {},
   "outputs": [
    {
     "data": {
      "text/plain": [
       "13138"
      ]
     },
     "execution_count": 65,
     "metadata": {},
     "output_type": "execute_result"
    }
   ],
   "source": [
    "len(raideosuudet)"
   ]
  },
  {
   "cell_type": "code",
   "execution_count": 66,
   "id": "dcbb9a5e-167e-4126-8250-1fd8675e1288",
   "metadata": {},
   "outputs": [
    {
     "data": {
      "text/plain": [
       "{'id': 323476,\n",
       " 'station': 'TPE',\n",
       " 'trackSectionCode': 'TPE_230',\n",
       " 'ranges': [{'id': 317350,\n",
       "   'startLocation': {'track': '003', 'kilometres': 185, 'metres': 175},\n",
       "   'endLocation': {'track': '003', 'kilometres': 185, 'metres': 695}}]}"
      ]
     },
     "execution_count": 66,
     "metadata": {},
     "output_type": "execute_result"
    }
   ],
   "source": [
    "raideosuudet[0]"
   ]
  },
  {
   "cell_type": "code",
   "execution_count": 67,
   "id": "58a21bda-867b-4a29-a53e-f124be7c4725",
   "metadata": {},
   "outputs": [
    {
     "data": {
      "text/plain": [
       "{'id': 348907,\n",
       " 'station': 'KOK',\n",
       " 'trackSectionCode': 'V567CD',\n",
       " 'ranges': [{'id': 343454,\n",
       "   'startLocation': {'track': '008', 'kilometres': 551, 'metres': 117},\n",
       "   'endLocation': {'track': '008', 'kilometres': 551, 'metres': 117}}]}"
      ]
     },
     "execution_count": 67,
     "metadata": {},
     "output_type": "execute_result"
    }
   ],
   "source": [
    "raideosuudet[-1]"
   ]
  },
  {
   "cell_type": "code",
   "execution_count": 68,
   "id": "7f89de2f-8e5d-4000-b9a8-2ed759f2a2e6",
   "metadata": {},
   "outputs": [
    {
     "data": {
      "text/plain": [
       "586"
      ]
     },
     "execution_count": 68,
     "metadata": {},
     "output_type": "execute_result"
    }
   ],
   "source": [
    "useita_raiteita = [raide for raide in raideosuudet if len(raide[\"ranges\"]) > 1]\n",
    "len(useita_raiteita)"
   ]
  },
  {
   "cell_type": "code",
   "execution_count": 69,
   "id": "31fd7289-8ce0-4b11-8476-4af069e205c2",
   "metadata": {},
   "outputs": [
    {
     "data": {
      "text/plain": [
       "174"
      ]
     },
     "execution_count": 69,
     "metadata": {},
     "output_type": "execute_result"
    }
   ],
   "source": [
    "len([raide for raide in raideosuudet if len(raide[\"ranges\"]) > 2])"
   ]
  },
  {
   "cell_type": "code",
   "execution_count": 70,
   "id": "30ad59d6-9cf2-4bff-8f7c-6687dd3dad69",
   "metadata": {},
   "outputs": [
    {
     "data": {
      "text/plain": [
       "72"
      ]
     },
     "execution_count": 70,
     "metadata": {},
     "output_type": "execute_result"
    }
   ],
   "source": [
    "len([raide for raide in raideosuudet if len(raide[\"ranges\"]) > 3])"
   ]
  },
  {
   "cell_type": "code",
   "execution_count": 71,
   "id": "90d5c9fb-3bf5-4a44-b58f-11a995ca1f5f",
   "metadata": {},
   "outputs": [
    {
     "data": {
      "text/plain": [
       "72"
      ]
     },
     "execution_count": 71,
     "metadata": {},
     "output_type": "execute_result"
    }
   ],
   "source": [
    "len([raide for raide in raideosuudet if len(raide[\"ranges\"]) > 5])"
   ]
  },
  {
   "cell_type": "code",
   "execution_count": 72,
   "id": "4abb1b39-21e9-4966-b1a9-56e939b3a735",
   "metadata": {},
   "outputs": [
    {
     "data": {
      "text/plain": [
       "{'id': 324871,\n",
       " 'station': 'SK',\n",
       " 'trackSectionCode': 'SK_853',\n",
       " 'ranges': [{'id': 328654,\n",
       "   'startLocation': {'track': '066', 'kilometres': 417, 'metres': 716},\n",
       "   'endLocation': {'track': '441', 'kilometres': 418, 'metres': 379}},\n",
       "  {'id': 328655,\n",
       "   'startLocation': {'track': '003', 'kilometres': 346, 'metres': 800},\n",
       "   'endLocation': {'track': '441', 'kilometres': 418, 'metres': 379}},\n",
       "  {'id': 328651,\n",
       "   'startLocation': {'track': '003', 'kilometres': 346, 'metres': 800},\n",
       "   'endLocation': {'track': '008', 'kilometres': 418, 'metres': 379}},\n",
       "  {'id': 328653,\n",
       "   'startLocation': {'track': '066', 'kilometres': 417, 'metres': 716},\n",
       "   'endLocation': {'track': '431', 'kilometres': 418, 'metres': 379}},\n",
       "  {'id': 328652,\n",
       "   'startLocation': {'track': '066', 'kilometres': 417, 'metres': 716},\n",
       "   'endLocation': {'track': '008', 'kilometres': 418, 'metres': 379}},\n",
       "  {'id': 328650,\n",
       "   'startLocation': {'track': '003', 'kilometres': 346, 'metres': 800},\n",
       "   'endLocation': {'track': '431', 'kilometres': 418, 'metres': 379}}]}"
      ]
     },
     "execution_count": 72,
     "metadata": {},
     "output_type": "execute_result"
    }
   ],
   "source": [
    "[raide for raide in raideosuudet if len(raide[\"ranges\"]) > 5][0]"
   ]
  },
  {
   "cell_type": "code",
   "execution_count": 73,
   "id": "47ff7a5e-b090-47af-9583-fc95e3c141f5",
   "metadata": {},
   "outputs": [
    {
     "data": {
      "text/plain": [
       "{'id': 323538,\n",
       " 'station': 'VAR',\n",
       " 'trackSectionCode': 'VAR_V135',\n",
       " 'ranges': [{'id': 317866,\n",
       "   'startLocation': {'track': '024', 'kilometres': 424, 'metres': 296},\n",
       "   'endLocation': {'track': '024', 'kilometres': 424, 'metres': 296}},\n",
       "  {'id': 317867,\n",
       "   'startLocation': {'track': 'VAR 034', 'kilometres': 424, 'metres': 390},\n",
       "   'endLocation': {'track': 'VAR 034', 'kilometres': 424, 'metres': 390}}]}"
      ]
     },
     "execution_count": 73,
     "metadata": {},
     "output_type": "execute_result"
    }
   ],
   "source": [
    "useita_raiteita[0]"
   ]
  },
  {
   "cell_type": "code",
   "execution_count": 74,
   "id": "9c186220-fb22-4f18-b290-591fc57efc98",
   "metadata": {},
   "outputs": [],
   "source": [
    "# for track in useita_raiteita:\n",
    "    # l = track[\"ranges\"]\n",
    "    # for item in track[\"ranges\"]:\n",
    "        "
   ]
  },
  {
   "cell_type": "code",
   "execution_count": 75,
   "id": "fe9c42c6-a15f-488f-9a60-5b24eb802cda",
   "metadata": {},
   "outputs": [],
   "source": [
    "def get_track_row(main_id, station, sectioncode, range_d):\n",
    "    # result = {key, value for key, value in d.items() if key != \"ranges\"}\n",
    "    # inner_d = d[\"ranges\"]\n",
    "    result = {\n",
    "        \"id\": main_id,\n",
    "        \"station\": station,\n",
    "        \"trackSectionCode\": sectioncode,\n",
    "    }\n",
    "    result[\"track_id\"] = range_d[\"id\"]\n",
    "    result[\"start_track\"] = range_d[\"startLocation\"][\"track\"]\n",
    "    result[\"start_location\"] = range_d[\"startLocation\"][\"kilometres\"] * 1000 + range_d[\"startLocation\"][\"metres\"]\n",
    "    result[\"end_track\"] = range_d[\"endLocation\"][\"track\"]\n",
    "    result[\"end_location\"] = range_d[\"endLocation\"][\"kilometres\"] * 1000 + range_d[\"endLocation\"][\"metres\"]\n",
    "    return result"
   ]
  },
  {
   "cell_type": "code",
   "execution_count": 76,
   "id": "01871637-5a40-4953-ac6a-732e6f83b97c",
   "metadata": {},
   "outputs": [],
   "source": [
    "track_sections = []\n",
    "for track in raideosuudet:\n",
    "    for sub_track in track[\"ranges\"]:\n",
    "        track_sections.append(get_track_row(track[\"id\"], track[\"station\"], track[\"trackSectionCode\"], sub_track))"
   ]
  },
  {
   "cell_type": "code",
   "execution_count": 77,
   "id": "6d6bc0af-7f69-4a0e-b529-06535c0472c7",
   "metadata": {},
   "outputs": [
    {
     "data": {
      "text/html": [
       "<div>\n",
       "<style scoped>\n",
       "    .dataframe tbody tr th:only-of-type {\n",
       "        vertical-align: middle;\n",
       "    }\n",
       "\n",
       "    .dataframe tbody tr th {\n",
       "        vertical-align: top;\n",
       "    }\n",
       "\n",
       "    .dataframe thead th {\n",
       "        text-align: right;\n",
       "    }\n",
       "</style>\n",
       "<table border=\"1\" class=\"dataframe\">\n",
       "  <thead>\n",
       "    <tr style=\"text-align: right;\">\n",
       "      <th></th>\n",
       "      <th>id</th>\n",
       "      <th>station</th>\n",
       "      <th>trackSectionCode</th>\n",
       "      <th>track_id</th>\n",
       "      <th>start_track</th>\n",
       "      <th>start_location</th>\n",
       "      <th>end_track</th>\n",
       "      <th>end_location</th>\n",
       "    </tr>\n",
       "  </thead>\n",
       "  <tbody>\n",
       "    <tr>\n",
       "      <th>0</th>\n",
       "      <td>323476</td>\n",
       "      <td>TPE</td>\n",
       "      <td>TPE_230</td>\n",
       "      <td>317350</td>\n",
       "      <td>003</td>\n",
       "      <td>185175</td>\n",
       "      <td>003</td>\n",
       "      <td>185695</td>\n",
       "    </tr>\n",
       "    <tr>\n",
       "      <th>1</th>\n",
       "      <td>323477</td>\n",
       "      <td>TPE</td>\n",
       "      <td>TPE_280</td>\n",
       "      <td>317355</td>\n",
       "      <td>009</td>\n",
       "      <td>186200</td>\n",
       "      <td>009</td>\n",
       "      <td>186540</td>\n",
       "    </tr>\n",
       "    <tr>\n",
       "      <th>2</th>\n",
       "      <td>323478</td>\n",
       "      <td>TPE</td>\n",
       "      <td>TPE_452</td>\n",
       "      <td>317371</td>\n",
       "      <td>003</td>\n",
       "      <td>182455</td>\n",
       "      <td>003</td>\n",
       "      <td>183140</td>\n",
       "    </tr>\n",
       "    <tr>\n",
       "      <th>3</th>\n",
       "      <td>323479</td>\n",
       "      <td>TPE</td>\n",
       "      <td>TPE_896</td>\n",
       "      <td>317394</td>\n",
       "      <td>003</td>\n",
       "      <td>182935</td>\n",
       "      <td>003</td>\n",
       "      <td>183230</td>\n",
       "    </tr>\n",
       "    <tr>\n",
       "      <th>4</th>\n",
       "      <td>323480</td>\n",
       "      <td>TPE</td>\n",
       "      <td>TPE_897</td>\n",
       "      <td>317395</td>\n",
       "      <td>003</td>\n",
       "      <td>182995</td>\n",
       "      <td>003</td>\n",
       "      <td>183100</td>\n",
       "    </tr>\n",
       "  </tbody>\n",
       "</table>\n",
       "</div>"
      ],
      "text/plain": [
       "       id station trackSectionCode  track_id start_track  start_location  \\\n",
       "0  323476     TPE          TPE_230    317350         003          185175   \n",
       "1  323477     TPE          TPE_280    317355         009          186200   \n",
       "2  323478     TPE          TPE_452    317371         003          182455   \n",
       "3  323479     TPE          TPE_896    317394         003          182935   \n",
       "4  323480     TPE          TPE_897    317395         003          182995   \n",
       "\n",
       "  end_track  end_location  \n",
       "0       003        185695  \n",
       "1       009        186540  \n",
       "2       003        183140  \n",
       "3       003        183230  \n",
       "4       003        183100  "
      ]
     },
     "execution_count": 77,
     "metadata": {},
     "output_type": "execute_result"
    }
   ],
   "source": [
    "track_df = pd.DataFrame(track_sections)\n",
    "track_df.head()"
   ]
  },
  {
   "cell_type": "code",
   "execution_count": 78,
   "id": "16072fbf-1139-415b-ae79-df4ec9768e75",
   "metadata": {},
   "outputs": [
    {
     "data": {
      "text/plain": [
       "14114"
      ]
     },
     "execution_count": 78,
     "metadata": {},
     "output_type": "execute_result"
    }
   ],
   "source": [
    "len(track_df)"
   ]
  },
  {
   "cell_type": "code",
   "execution_count": 79,
   "id": "302a38b4-91e7-4ee4-95a6-11e8ee0d69f7",
   "metadata": {},
   "outputs": [],
   "source": [
    "# onko tarvetta tallentaa raideosuudet?\n",
    "# save_df_to_db(track_df, \"raideosuudet\")"
   ]
  }
 ],
 "metadata": {
  "kernelspec": {
   "display_name": "Python 3 (ipykernel)",
   "language": "python",
   "name": "python3"
  },
  "language_info": {
   "codemirror_mode": {
    "name": "ipython",
    "version": 3
   },
   "file_extension": ".py",
   "mimetype": "text/x-python",
   "name": "python",
   "nbconvert_exporter": "python",
   "pygments_lexer": "ipython3",
   "version": "3.9.7"
  }
 },
 "nbformat": 4,
 "nbformat_minor": 5
}
