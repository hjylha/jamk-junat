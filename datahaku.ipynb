{
 "cells": [
  {
   "cell_type": "code",
   "execution_count": null,
   "id": "71589a0e-6af5-4b3b-bdcb-ae27d3d0dc00",
   "metadata": {},
   "outputs": [],
   "source": [
    "import numpy as np\n",
    "import pandas as pd\n",
    "import matplotlib.pyplot as plt\n",
    "import seaborn as sns\n",
    "\n",
    "from sklearn.cluster import KMeans\n",
    "from sklearn.ensemble import RandomForestClassifier\n",
    "from sklearn.neighbors import KNeighborsClassifier\n",
    "from sklearn.metrics import accuracy_score, classification_report\n",
    "from sklearn.model_selection import train_test_split\n",
    "\n",
    "import py_scripts.db_fcns as db\n",
    "import py_scripts.data_fcns as fcns"
   ]
  },
  {
   "cell_type": "code",
   "execution_count": null,
   "id": "295fb9d6-404e-49c6-904f-d479215bbe5d",
   "metadata": {},
   "outputs": [],
   "source": []
  },
  {
   "cell_type": "code",
   "execution_count": null,
   "id": "4c46076d-3010-4ae9-a227-91a1f6c7fe2c",
   "metadata": {},
   "outputs": [],
   "source": [
    "alkuasema = \"JÄS\"\n",
    "loppuasema = \"OV\"\n",
    "# dates = pd.date_range(\"2023-01-01\", periods=2, freq=\"1D\")\n",
    "# dates = pd.date_range(\"2022-04-01\", \"2022-09-30\", freq=\"1D\")\n",
    "dates = pd.date_range(\"2018-01-01\", \"2023-06-15\", freq=\"1D\")"
   ]
  },
  {
   "cell_type": "code",
   "execution_count": null,
   "id": "94ae21de-2cf8-44a7-8beb-ed512eb90be2",
   "metadata": {},
   "outputs": [],
   "source": [
    "def get_timetables(alkuasema, loppuasema, dates):\n",
    "    timetables = pd.DataFrame()\n",
    "    for date in dates:\n",
    "        new_table = fcns.get_train_nums(alkuasema, loppuasema, str(date.date()))\n",
    "        if new_table is None:\n",
    "            continue\n",
    "        new_table[\"departureDate\"] = str(date.date())\n",
    "        timetables = pd.concat([timetables, new_table])\n",
    "    return timetables"
   ]
  },
  {
   "attachments": {},
   "cell_type": "markdown",
   "id": "8ede5443-32f5-4bca-ba7f-828cff14c5d2",
   "metadata": {},
   "source": [
    "## Haetaan data"
   ]
  },
  {
   "cell_type": "code",
   "execution_count": null,
   "id": "35ab540e-4404-4f2c-98e3-ccb58a4e60e7",
   "metadata": {},
   "outputs": [],
   "source": [
    "timetables = get_timetables(alkuasema, loppuasema, dates)\n",
    "# trains = timetables.apply(lambda r: (int(r[\"trainNumber\"]), r[\"departureDate\"]), axis=1).unique()\n",
    "trains = timetables.groupby([\"trainNumber\", \"departureDate\"]).count().index\n",
    "print(f\"Junia {len(trains)} kpl\")\n",
    "df = fcns.get_location_data_for_trains(trains, alkuasema, loppuasema, sleeptime=0.2)"
   ]
  },
  {
   "cell_type": "code",
   "execution_count": null,
   "id": "a3f166fe-5fab-465a-b0d5-3ec31e6c5568",
   "metadata": {},
   "outputs": [],
   "source": [
    "trains_in_df = df.groupby([\"trainNumber\", \"departureDate\"]).count().index\n",
    "len(trains_in_df)"
   ]
  },
  {
   "attachments": {},
   "cell_type": "markdown",
   "id": "c8ebfd07-0da8-439a-a56c-ec59436be9f7",
   "metadata": {},
   "source": [
    "## Poistetaan mahdollisesti ongelmallinen data"
   ]
  },
  {
   "cell_type": "code",
   "execution_count": null,
   "id": "07f6735d-97a9-418d-aff0-7dc60a990cde",
   "metadata": {},
   "outputs": [],
   "source": [
    "# poistetaan junat, joilla ei ole sijanti-/nopeustietoja korkeintaan 30 sekunnin välein\n",
    "max_time_difference = 30\n",
    "\n",
    "cleaned_df = pd.DataFrame()\n",
    "for train_num, date in df.groupby([\"trainNumber\", \"departureDate\"]).count().index:\n",
    "    t_df = fcns.get_locations_for_train(train_num, date, df).copy()\n",
    "    max_time_jump = t_df[\"duration\"].diff(1).max()\n",
    "    if max_time_jump <= max_time_difference:\n",
    "        cleaned_df = pd.concat([cleaned_df, t_df])\n",
    "\n",
    "df = cleaned_df.reset_index(drop=True)\n",
    "\n",
    "distances = fcns.get_distances_from_df(df)\n",
    "\n",
    "# poistetaan junat, joiden kulkema matka poikkeaa liikaa mediaanista\n",
    "min_dist = distances[\"dist_from_speed\"].median() - 4 * (distances[\"dist_from_speed\"].median() - distances[\"dist_from_speed\"].quantile(0.02))\n",
    "max_dist = distances[\"dist_from_speed\"].median() + 4 * (distances[\"dist_from_speed\"].quantile(0.98) - distances[\"dist_from_speed\"].median())\n",
    "outliers = distances[(distances[\"dist_from_speed\"] < min_dist) | (distances[\"dist_from_speed\"] > max_dist)].set_index([\"trainNumber\", \"departureDate\"]).index\n",
    "\n",
    "for train_num, date in outliers:\n",
    "    o = fcns.get_locations_for_train(train_num, date, df)\n",
    "    i1 = o.index.min()\n",
    "    i2 = o.index.max() + 1\n",
    "    df.drop(range(i1, i2), inplace=True)\n",
    "\n",
    "df.reset_index(drop=True, inplace=True)"
   ]
  },
  {
   "cell_type": "code",
   "execution_count": null,
   "id": "ff74ff93",
   "metadata": {},
   "outputs": [],
   "source": [
    "len(df.groupby([\"trainNumber\", \"departureDate\"]).count().index)"
   ]
  },
  {
   "cell_type": "code",
   "execution_count": null,
   "id": "d29c9d84",
   "metadata": {},
   "outputs": [],
   "source": [
    "df.info()"
   ]
  },
  {
   "cell_type": "code",
   "execution_count": null,
   "id": "c10fe308",
   "metadata": {},
   "outputs": [],
   "source": [
    "distances = fcns.get_distances_from_df(df)\n",
    "distances[\"duration\"] = fcns.get_durations_from_df(df).to_numpy()"
   ]
  },
  {
   "cell_type": "code",
   "execution_count": null,
   "id": "ca46f872",
   "metadata": {},
   "outputs": [],
   "source": [
    "distances.describe()"
   ]
  },
  {
   "attachments": {},
   "cell_type": "markdown",
   "id": "4e2b4c6e-b91f-4327-baf3-5a62280d6460",
   "metadata": {},
   "source": [
    "## Tallennetaan data databaseen"
   ]
  },
  {
   "cell_type": "code",
   "execution_count": null,
   "id": "e35941ca-e0e0-4e4c-813d-64020fbfbe60",
   "metadata": {},
   "outputs": [],
   "source": [
    "db.save_df_to_db(df, \"clean_jamsa_orivesi\", to_extra=True)"
   ]
  },
  {
   "cell_type": "code",
   "execution_count": null,
   "id": "eb44b190-3f92-43bd-81cb-afa07c13e0d8",
   "metadata": {},
   "outputs": [],
   "source": []
  }
 ],
 "metadata": {
  "kernelspec": {
   "display_name": "Python 3 (ipykernel)",
   "language": "python",
   "name": "python3"
  },
  "language_info": {
   "codemirror_mode": {
    "name": "ipython",
    "version": 3
   },
   "file_extension": ".py",
   "mimetype": "text/x-python",
   "name": "python",
   "nbconvert_exporter": "python",
   "pygments_lexer": "ipython3",
   "version": "3.9.7"
  }
 },
 "nbformat": 4,
 "nbformat_minor": 5
}
