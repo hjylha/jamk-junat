{
 "cells": [
  {
   "cell_type": "code",
   "execution_count": 1,
   "id": "a57c01ed-d782-465d-959e-f5f3772ed7d2",
   "metadata": {},
   "outputs": [],
   "source": [
    "import time\n",
    "\n",
    "import numpy as np\n",
    "import pandas as pd\n",
    "import matplotlib.pyplot as plt\n",
    "import seaborn as sns\n",
    "\n",
    "from sklearn.cluster import KMeans\n",
    "\n",
    "from sklearn.neighbors import KNeighborsClassifier\n",
    "from sklearn.metrics import accuracy_score, classification_report\n",
    "from sklearn.model_selection import train_test_split\n",
    "\n",
    "import py_scripts.db_fcns as db\n",
    "import py_scripts.data_fcns as fcns"
   ]
  },
  {
   "cell_type": "code",
   "execution_count": null,
   "id": "5d7dcbc7-528b-4d09-8369-96df7d6d2799",
   "metadata": {},
   "outputs": [],
   "source": []
  },
  {
   "cell_type": "code",
   "execution_count": null,
   "id": "bf9252ed-ba97-4646-8c9b-e47e99afb4b6",
   "metadata": {},
   "outputs": [],
   "source": []
  },
  {
   "cell_type": "markdown",
   "id": "c5941885-a308-4851-872b-786277daec15",
   "metadata": {},
   "source": [
    "## Mukavia funktioita"
   ]
  },
  {
   "cell_type": "code",
   "execution_count": 2,
   "id": "7a6ac864-7dec-44e9-9a2d-54bef6f5dd5b",
   "metadata": {},
   "outputs": [],
   "source": [
    "def get_timetables(alkuasema, loppuasema, dates):\n",
    "    timetables = pd.DataFrame()\n",
    "    for date in dates:\n",
    "        new_table = fcns.get_train_nums(alkuasema, loppuasema, str(date.date()))\n",
    "        if new_table is None:\n",
    "            continue\n",
    "        new_table[\"departureDate\"] = str(date.date())\n",
    "        timetables = pd.concat([timetables, new_table])\n",
    "    return timetables"
   ]
  },
  {
   "cell_type": "code",
   "execution_count": 3,
   "id": "9bd40645-24bc-46ec-8b0d-8a4130ca33ae",
   "metadata": {},
   "outputs": [],
   "source": [
    "def dist_dict(train_num, date, d, c):\n",
    "    return {\"trainNumber\": train_num, \n",
    "            \"departureDate\": date, \n",
    "            \"dist_from_speed\": d, \n",
    "            \"dist_from_coords\": c\n",
    "           }\n",
    "\n",
    "\n",
    "def get_data(uniques):\n",
    "    df = pd.DataFrame()\n",
    "    distances = pd.DataFrame()\n",
    "\n",
    "    for num, date in uniques:\n",
    "        try:\n",
    "            new_df = fcns.get_train_location_data(num, date, False)\n",
    "        except KeyError as e:\n",
    "            print(f\"{type(e).__name__}: {e} [{date=}, {num=}]\")\n",
    "            continue\n",
    "        if new_df is None:\n",
    "            continue\n",
    "            \n",
    "        alku = new_df[new_df[\"station\"] == alkuasema]\n",
    "        if len(alku) > 0:\n",
    "            index1 = alku.index.max()\n",
    "        else:\n",
    "            continue\n",
    "        loppu = new_df[new_df[\"station\"] == loppuasema]\n",
    "        if len(loppu) > 0:\n",
    "            index2 = loppu.index.min()\n",
    "        else:\n",
    "            continue\n",
    "        dist_from_speed = new_df.loc[index2, \"dist_from_speed\"] - new_df.loc[index1, \"dist_from_speed\"]\n",
    "        dist_from_coords = new_df.loc[index2, \"dist_from_coords\"] - new_df.loc[index1, \"dist_from_coords\"]\n",
    "        distances = pd.concat([distances, pd.DataFrame([dist_dict(num, date, dist_from_speed, dist_from_coords)])])\n",
    "\n",
    "        new_df = new_df.loc[index1:index2, :]\n",
    "        new_df[\"dist_from_speed\"] = new_df[\"dist_from_speed\"] - new_df[\"dist_from_speed\"].min()\n",
    "        new_df[\"dist_from_coords\"] = new_df[\"dist_from_coords\"] - new_df[\"dist_from_coords\"].min()\n",
    "        df = pd.concat([df, new_df])\n",
    "        \n",
    "        # onko nukkuminen tarpeen?\n",
    "        time.sleep(0.3)\n",
    "        \n",
    "    return [df, distances]"
   ]
  },
  {
   "cell_type": "code",
   "execution_count": 4,
   "id": "c6057ece-03bc-4288-bedc-f01e0e322596",
   "metadata": {},
   "outputs": [],
   "source": [
    "def get_distances_from_df(df):\n",
    "    groups = df.groupby([\"trainNumber\", \"departureDate\"])\n",
    "    dist_from_coords = groups[\"dist_from_coords\"].max() - groups[\"dist_from_coords\"].min()\n",
    "    dist_from_speed = groups[\"dist_from_speed\"].max() - groups[\"dist_from_speed\"].min()\n",
    "    result = pd.concat([dist_from_speed, dist_from_coords], axis=1)\n",
    "    return result.reset_index()"
   ]
  },
  {
   "cell_type": "markdown",
   "id": "57a5417b-7f99-4914-84ed-6ee2ff7c0fe4",
   "metadata": {},
   "source": [
    "## Haetaan dataa"
   ]
  },
  {
   "cell_type": "code",
   "execution_count": 5,
   "id": "9d65a662-3b11-436b-8662-8d0374461b9c",
   "metadata": {},
   "outputs": [
    {
     "name": "stdout",
     "output_type": "stream",
     "text": [
      "probably table {table_name} does not exist\n"
     ]
    }
   ],
   "source": [
    "df = None\n",
    "distances = None\n",
    "\n",
    "use_db = True\n",
    "\n",
    "if use_db:\n",
    "    df = db.get_df_from_db(\"jamsa_orivesi\", from_extra=True)\n",
    "    distances = db.get_df_from_db(\"jamsa_orivesi_distance\", from_extra=True)\n",
    "\n",
    "if df is not None and distances is None:\n",
    "    distances = get_distances_from_df(df)\n",
    "\n",
    "if df is None:\n",
    "    alkuasema = \"JÄS\"\n",
    "    loppuasema = \"OV\"\n",
    "    dates = pd.date_range(\"2023-01-01\", periods=2, freq=\"1D\")\n",
    "    # dates = pd.date_range(\"2022-04-01\", \"2022-09-30\", freq=\"1D\")\n",
    "    \n",
    "    timetables = get_timetables(alkuasema, loppuasema, dates)\n",
    "    uniques = uniques = timetables.apply(lambda r: (r[\"trainNumber\"], r[\"departureDate\"]), axis=1).unique()\n",
    "    df, distances = get_data(uniques)"
   ]
  },
  {
   "cell_type": "code",
   "execution_count": 6,
   "id": "c78826fc-ffb4-4dee-ba39-81882be06dd9",
   "metadata": {},
   "outputs": [],
   "source": [
    "# pitääkäö seivata?\n",
    "save_to_db = False\n",
    "\n",
    "if save_to_db:\n",
    "    db.save_df_to_db(df, \"jamsa_orivesi\", to_extra=True)"
   ]
  },
  {
   "cell_type": "markdown",
   "id": "e8b053f2-82d9-48bd-9ea2-982e2505bb1d",
   "metadata": {},
   "source": [
    "## Katsotaan mitä data sisältää"
   ]
  },
  {
   "cell_type": "code",
   "execution_count": 7,
   "id": "fb0a2bbe-477c-4989-b01f-79d91c027069",
   "metadata": {},
   "outputs": [
    {
     "name": "stdout",
     "output_type": "stream",
     "text": [
      "<class 'pandas.core.frame.DataFrame'>\n",
      "RangeIndex: 161180 entries, 0 to 161179\n",
      "Data columns (total 13 columns):\n",
      " #   Column              Non-Null Count   Dtype              \n",
      "---  ------              --------------   -----              \n",
      " 0   trainNumber         161180 non-null  int64              \n",
      " 1   departureDate       161180 non-null  object             \n",
      " 2   timestamp           161180 non-null  datetime64[ns, UTC]\n",
      " 3   speed               161180 non-null  int64              \n",
      " 4   duration            161180 non-null  float64            \n",
      " 5   latitude            161180 non-null  float64            \n",
      " 6   longitude           161180 non-null  float64            \n",
      " 7   acceleration        161180 non-null  float64            \n",
      " 8   change_of_location  161180 non-null  float64            \n",
      " 9   dist_from_coords    161180 non-null  float64            \n",
      " 10  dist_from_speed     161180 non-null  float64            \n",
      " 11  stops_from_speed    161180 non-null  int64              \n",
      " 12  station             2811 non-null    object             \n",
      "dtypes: datetime64[ns, UTC](1), float64(7), int64(3), object(2)\n",
      "memory usage: 16.0+ MB\n"
     ]
    }
   ],
   "source": [
    "# 42766 entries, 13 columns\n",
    "df.info()"
   ]
  },
  {
   "cell_type": "code",
   "execution_count": 8,
   "id": "527fe57d-1261-44e9-9d9d-d8ecc056b082",
   "metadata": {},
   "outputs": [
    {
     "name": "stdout",
     "output_type": "stream",
     "text": [
      "<class 'pandas.core.frame.DataFrame'>\n",
      "RangeIndex: 1305 entries, 0 to 1304\n",
      "Data columns (total 4 columns):\n",
      " #   Column            Non-Null Count  Dtype  \n",
      "---  ------            --------------  -----  \n",
      " 0   trainNumber       1305 non-null   int64  \n",
      " 1   departureDate     1305 non-null   object \n",
      " 2   dist_from_speed   1305 non-null   float64\n",
      " 3   dist_from_coords  1305 non-null   float64\n",
      "dtypes: float64(2), int64(1), object(1)\n",
      "memory usage: 40.9+ KB\n"
     ]
    }
   ],
   "source": [
    "# 212 entries, 4 columns\n",
    "distances.info()"
   ]
  },
  {
   "cell_type": "code",
   "execution_count": 9,
   "id": "65707d6e-cbbd-49ff-b93a-99e460b63a10",
   "metadata": {},
   "outputs": [
    {
     "data": {
      "text/html": [
       "<div>\n",
       "<style scoped>\n",
       "    .dataframe tbody tr th:only-of-type {\n",
       "        vertical-align: middle;\n",
       "    }\n",
       "\n",
       "    .dataframe tbody tr th {\n",
       "        vertical-align: top;\n",
       "    }\n",
       "\n",
       "    .dataframe thead th {\n",
       "        text-align: right;\n",
       "    }\n",
       "</style>\n",
       "<table border=\"1\" class=\"dataframe\">\n",
       "  <thead>\n",
       "    <tr style=\"text-align: right;\">\n",
       "      <th></th>\n",
       "      <th>dist_from_speed</th>\n",
       "      <th>dist_from_coords</th>\n",
       "    </tr>\n",
       "  </thead>\n",
       "  <tbody>\n",
       "    <tr>\n",
       "      <th>count</th>\n",
       "      <td>1305.000000</td>\n",
       "      <td>1305.000000</td>\n",
       "    </tr>\n",
       "    <tr>\n",
       "      <th>mean</th>\n",
       "      <td>55878.060026</td>\n",
       "      <td>56699.175514</td>\n",
       "    </tr>\n",
       "    <tr>\n",
       "      <th>std</th>\n",
       "      <td>954.979897</td>\n",
       "      <td>9089.027928</td>\n",
       "    </tr>\n",
       "    <tr>\n",
       "      <th>min</th>\n",
       "      <td>40549.166667</td>\n",
       "      <td>51220.111309</td>\n",
       "    </tr>\n",
       "    <tr>\n",
       "      <th>25%</th>\n",
       "      <td>55786.111111</td>\n",
       "      <td>55438.758124</td>\n",
       "    </tr>\n",
       "    <tr>\n",
       "      <th>50%</th>\n",
       "      <td>55901.388889</td>\n",
       "      <td>55528.163342</td>\n",
       "    </tr>\n",
       "    <tr>\n",
       "      <th>75%</th>\n",
       "      <td>56000.833333</td>\n",
       "      <td>55735.921545</td>\n",
       "    </tr>\n",
       "    <tr>\n",
       "      <th>max</th>\n",
       "      <td>62320.555556</td>\n",
       "      <td>356808.125073</td>\n",
       "    </tr>\n",
       "  </tbody>\n",
       "</table>\n",
       "</div>"
      ],
      "text/plain": [
       "       dist_from_speed  dist_from_coords\n",
       "count      1305.000000       1305.000000\n",
       "mean      55878.060026      56699.175514\n",
       "std         954.979897       9089.027928\n",
       "min       40549.166667      51220.111309\n",
       "25%       55786.111111      55438.758124\n",
       "50%       55901.388889      55528.163342\n",
       "75%       56000.833333      55735.921545\n",
       "max       62320.555556     356808.125073"
      ]
     },
     "execution_count": 9,
     "metadata": {},
     "output_type": "execute_result"
    }
   ],
   "source": [
    "distances.loc[:, [\"dist_from_speed\", \"dist_from_coords\"]].describe()"
   ]
  },
  {
   "cell_type": "code",
   "execution_count": 10,
   "id": "6cd611a1-f45b-442e-9b75-5541445ff8de",
   "metadata": {},
   "outputs": [],
   "source": [
    "# mean / median\n",
    "\n",
    "# koko tammikuu\n",
    "# based on speed\n",
    "# 55.75 km / 55.90 km\n",
    "# based on coords\n",
    "# 55.25 km / 55.61 km\n",
    "\n",
    "# 2 ekaa päivää\n",
    "# based on speed\n",
    "# 55.97 km / 55.91 km\n",
    "# based on coords\n",
    "# 55.34 km / 55.55 km"
   ]
  },
  {
   "cell_type": "markdown",
   "id": "080acaa3-34d5-4e71-9075-14d2e125df90",
   "metadata": {},
   "source": [
    "### Paras arvio etäisyydestä 100 metrin tarkkuudella"
   ]
  },
  {
   "cell_type": "code",
   "execution_count": 11,
   "id": "016edbbb-e22e-4e65-9181-15051643c6bd",
   "metadata": {},
   "outputs": [
    {
     "data": {
      "text/plain": [
       "55900.0"
      ]
     },
     "execution_count": 11,
     "metadata": {},
     "output_type": "execute_result"
    }
   ],
   "source": [
    "# voisi toki käyttää mediaania keskiarvon sijaan\n",
    "best_dist = round(distances[\"dist_from_speed\"].mean(), -2)\n",
    "best_dist"
   ]
  },
  {
   "cell_type": "code",
   "execution_count": null,
   "id": "d03c9a30-2814-4a1d-be59-e0e7853ecdc7",
   "metadata": {},
   "outputs": [],
   "source": []
  },
  {
   "cell_type": "code",
   "execution_count": 12,
   "id": "4acc6712-baa7-4bc8-b953-273169e368ae",
   "metadata": {},
   "outputs": [],
   "source": [
    "# distances.reset_index(drop=True, inplace=True)\n",
    "\n",
    "# trains = []\n",
    "# for i in distances.index:\n",
    "#     trains.append((distances.loc[i, \"trainNumber\"], distances.loc[i, \"departureDate\"]))"
   ]
  },
  {
   "cell_type": "code",
   "execution_count": 13,
   "id": "f645616d-d161-44ef-a7a6-0fb2c5eb56d9",
   "metadata": {},
   "outputs": [],
   "source": [
    "trains = list(distances.value_counts([\"trainNumber\", \"departureDate\"]).index)"
   ]
  },
  {
   "cell_type": "code",
   "execution_count": 14,
   "id": "4c65e81b-f34a-4ee9-a3a5-618cf0e0f7c9",
   "metadata": {},
   "outputs": [
    {
     "data": {
      "text/plain": [
       "1305"
      ]
     },
     "execution_count": 14,
     "metadata": {},
     "output_type": "execute_result"
    }
   ],
   "source": [
    "len(trains)"
   ]
  },
  {
   "cell_type": "code",
   "execution_count": 15,
   "id": "735782db-2102-49c2-a824-8a21f443702d",
   "metadata": {},
   "outputs": [],
   "source": [
    "# trains[0]"
   ]
  },
  {
   "cell_type": "markdown",
   "id": "89ff1d76-f858-4c1c-a057-1ae1545c8d78",
   "metadata": {},
   "source": [
    "### Pudotetaan turhat muuttujat pois"
   ]
  },
  {
   "cell_type": "code",
   "execution_count": 16,
   "id": "fe103f83-b379-4643-9093-75c25d38c7f7",
   "metadata": {},
   "outputs": [
    {
     "name": "stdout",
     "output_type": "stream",
     "text": [
      "<class 'pandas.core.frame.DataFrame'>\n",
      "RangeIndex: 161180 entries, 0 to 161179\n",
      "Data columns (total 4 columns):\n",
      " #   Column           Non-Null Count   Dtype  \n",
      "---  ------           --------------   -----  \n",
      " 0   trainNumber      161180 non-null  int64  \n",
      " 1   departureDate    161180 non-null  object \n",
      " 2   dist_from_speed  161180 non-null  float64\n",
      " 3   acceleration     161180 non-null  float64\n",
      "dtypes: float64(2), int64(1), object(1)\n",
      "memory usage: 4.9+ MB\n"
     ]
    }
   ],
   "source": [
    "main_df = df.loc[:, [\"trainNumber\", \"departureDate\", \"dist_from_speed\", \"acceleration\"]].copy()\n",
    "main_df.info()"
   ]
  },
  {
   "cell_type": "code",
   "execution_count": 17,
   "id": "8861f466-4635-493c-b4e3-707e0539b856",
   "metadata": {},
   "outputs": [],
   "source": [
    "main_df.reset_index(drop=True, inplace=True)"
   ]
  },
  {
   "cell_type": "code",
   "execution_count": null,
   "id": "5aff9196-a991-42f0-9be2-230d1995d0df",
   "metadata": {},
   "outputs": [],
   "source": []
  },
  {
   "cell_type": "markdown",
   "id": "1f720947-8b23-47a0-a806-4acd456aebee",
   "metadata": {},
   "source": [
    "### Skaalataan kuljettu matka"
   ]
  },
  {
   "cell_type": "code",
   "execution_count": 18,
   "id": "d0b90e1b-7e73-484c-a03d-a28bc590f230",
   "metadata": {},
   "outputs": [],
   "source": [
    "def scale_distance(row, ref_df, best_dist):\n",
    "    # max_dist = df[(df[\"trainNumber\"] == row[\"trainNumber\"]) & (df[\"departureDate\"] == row[\"departureDate\"])][\"dist_from_speed\"].max()\n",
    "    max_dist = ref_df[(row[\"trainNumber\"], row[\"departureDate\"])]\n",
    "    return row[\"dist_from_speed\"] * best_dist / max_dist"
   ]
  },
  {
   "cell_type": "code",
   "execution_count": 19,
   "id": "7580982a-1dbe-4676-877a-55deb93ae170",
   "metadata": {},
   "outputs": [],
   "source": [
    "max_d = main_df.groupby([\"trainNumber\", \"departureDate\"])[\"dist_from_speed\"].max()\n",
    "main_df[\"dist_from_speed\"] = main_df.apply(lambda r: scale_distance(r, max_d, best_dist), axis=1)"
   ]
  },
  {
   "cell_type": "code",
   "execution_count": 20,
   "id": "4e9d1ad5-e4ca-435b-976c-86bce4367a9d",
   "metadata": {},
   "outputs": [],
   "source": [
    "# for num, date in trains:\n",
    "#     d = main_df[(main_df[\"trainNumber\"] == num) & (main_df[\"departureDate\"] == date)][\"dist_from_speed\"]\n",
    "#     i1 = d.index.min()\n",
    "#     i2 = d.index.max()\n",
    "#     main_df.loc[i1:i2, \"dist_from_speed\"] = d * best_dist / d.max()"
   ]
  },
  {
   "cell_type": "code",
   "execution_count": null,
   "id": "f2b1215d-3354-47c8-a809-9861b37b37ba",
   "metadata": {},
   "outputs": [],
   "source": []
  },
  {
   "cell_type": "code",
   "execution_count": 21,
   "id": "59edce4d-c119-444e-8215-8772616cd163",
   "metadata": {},
   "outputs": [],
   "source": [
    "# voi olla turha\n",
    "def peculiar_rounding(num, reference=best_dist):\n",
    "    res = round(num)\n",
    "    if res == reference:\n",
    "        return reference\n",
    "    return num"
   ]
  },
  {
   "cell_type": "code",
   "execution_count": 22,
   "id": "769da9cf-97b6-4aa2-a240-61e8370467b5",
   "metadata": {},
   "outputs": [],
   "source": [
    "# pyöristys varmistaa, että perillä etäisyys on aina sama\n",
    "main_df[\"dist_from_speed\"] = main_df[\"dist_from_speed\"].apply(peculiar_rounding)"
   ]
  },
  {
   "cell_type": "markdown",
   "id": "714f5f03-91ce-40e4-8d1d-e28b5e975a11",
   "metadata": {},
   "source": [
    "### Lisätään etäisyyden checkpointit dataan (100 m välein)"
   ]
  },
  {
   "cell_type": "code",
   "execution_count": 23,
   "id": "ea7277c3-2311-423f-8bc0-2e59ba52319b",
   "metadata": {},
   "outputs": [],
   "source": [
    "step_length = 100\n",
    "checkpoints = np.arange(0, best_dist + 1, step_length)"
   ]
  },
  {
   "cell_type": "code",
   "execution_count": 24,
   "id": "c7c69cb0-ba0d-4e98-924f-41ae8b33fddd",
   "metadata": {},
   "outputs": [],
   "source": [
    "def accel_dict(num, date, dist, accel=None):\n",
    "    return {\"trainNumber\": num,\n",
    "            \"departureDate\": date,\n",
    "            \"dist_from_speed\": dist,\n",
    "            \"acceleration\": accel\n",
    "           }"
   ]
  },
  {
   "cell_type": "code",
   "execution_count": 25,
   "id": "c9514441-acc3-430b-b800-75dedaaebb00",
   "metadata": {},
   "outputs": [],
   "source": [
    "additions = []\n",
    "for num, date in trains:\n",
    "    for d in checkpoints[1:-1]:\n",
    "        additions.append(accel_dict(num, date, d))"
   ]
  },
  {
   "cell_type": "code",
   "execution_count": 26,
   "id": "5e3dd56b-e19a-4576-8133-4787a5caab9e",
   "metadata": {},
   "outputs": [],
   "source": [
    "main_df = pd.concat([main_df, pd.DataFrame(additions)])"
   ]
  },
  {
   "cell_type": "code",
   "execution_count": 27,
   "id": "8555be8e-596e-495b-a6bc-d2413544c6e1",
   "metadata": {},
   "outputs": [
    {
     "name": "stdout",
     "output_type": "stream",
     "text": [
      "<class 'pandas.core.frame.DataFrame'>\n",
      "Int64Index: 889370 entries, 0 to 728189\n",
      "Data columns (total 4 columns):\n",
      " #   Column           Non-Null Count   Dtype  \n",
      "---  ------           --------------   -----  \n",
      " 0   trainNumber      889370 non-null  int64  \n",
      " 1   departureDate    889370 non-null  object \n",
      " 2   dist_from_speed  889370 non-null  float64\n",
      " 3   acceleration     161180 non-null  object \n",
      "dtypes: float64(1), int64(1), object(2)\n",
      "memory usage: 33.9+ MB\n"
     ]
    }
   ],
   "source": [
    "main_df.info()"
   ]
  },
  {
   "cell_type": "markdown",
   "id": "3e0996dd-e9c0-4339-a528-cfe68ba4ffe8",
   "metadata": {},
   "source": [
    "### Täytetään checkpointtien kiihtyvyysarvot"
   ]
  },
  {
   "cell_type": "code",
   "execution_count": 28,
   "id": "55d42e96-00e9-45b0-a36d-26ca6933772f",
   "metadata": {},
   "outputs": [],
   "source": [
    "main_df = main_df.sort_values([\"departureDate\", \"trainNumber\", \"dist_from_speed\"])"
   ]
  },
  {
   "cell_type": "code",
   "execution_count": 29,
   "id": "2e98cf4c-11f5-409b-9b0a-b85d7d9b8baf",
   "metadata": {},
   "outputs": [],
   "source": [
    "main_df = main_df.fillna(method=\"bfill\")"
   ]
  },
  {
   "cell_type": "code",
   "execution_count": 30,
   "id": "838c5ccc-8d0d-4ac1-980a-010b70cc612a",
   "metadata": {},
   "outputs": [
    {
     "data": {
      "text/html": [
       "<div>\n",
       "<style scoped>\n",
       "    .dataframe tbody tr th:only-of-type {\n",
       "        vertical-align: middle;\n",
       "    }\n",
       "\n",
       "    .dataframe tbody tr th {\n",
       "        vertical-align: top;\n",
       "    }\n",
       "\n",
       "    .dataframe thead th {\n",
       "        text-align: right;\n",
       "    }\n",
       "</style>\n",
       "<table border=\"1\" class=\"dataframe\">\n",
       "  <thead>\n",
       "    <tr style=\"text-align: right;\">\n",
       "      <th></th>\n",
       "      <th>trainNumber</th>\n",
       "      <th>departureDate</th>\n",
       "      <th>dist_from_speed</th>\n",
       "      <th>acceleration</th>\n",
       "    </tr>\n",
       "  </thead>\n",
       "  <tbody>\n",
       "    <tr>\n",
       "      <th>507</th>\n",
       "      <td>86</td>\n",
       "      <td>2022-04-01</td>\n",
       "      <td>0.000000</td>\n",
       "      <td>0.000000</td>\n",
       "    </tr>\n",
       "    <tr>\n",
       "      <th>508</th>\n",
       "      <td>86</td>\n",
       "      <td>2022-04-01</td>\n",
       "      <td>0.000000</td>\n",
       "      <td>0.277778</td>\n",
       "    </tr>\n",
       "    <tr>\n",
       "      <th>509</th>\n",
       "      <td>86</td>\n",
       "      <td>2022-04-01</td>\n",
       "      <td>62.419974</td>\n",
       "      <td>0.388889</td>\n",
       "    </tr>\n",
       "    <tr>\n",
       "      <th>527310</th>\n",
       "      <td>86</td>\n",
       "      <td>2022-04-01</td>\n",
       "      <td>100.000000</td>\n",
       "      <td>0.407407</td>\n",
       "    </tr>\n",
       "    <tr>\n",
       "      <th>527311</th>\n",
       "      <td>86</td>\n",
       "      <td>2022-04-01</td>\n",
       "      <td>200.000000</td>\n",
       "      <td>0.407407</td>\n",
       "    </tr>\n",
       "    <tr>\n",
       "      <th>510</th>\n",
       "      <td>86</td>\n",
       "      <td>2022-04-01</td>\n",
       "      <td>212.227913</td>\n",
       "      <td>0.407407</td>\n",
       "    </tr>\n",
       "    <tr>\n",
       "      <th>527312</th>\n",
       "      <td>86</td>\n",
       "      <td>2022-04-01</td>\n",
       "      <td>300.000000</td>\n",
       "      <td>0.296296</td>\n",
       "    </tr>\n",
       "    <tr>\n",
       "      <th>527313</th>\n",
       "      <td>86</td>\n",
       "      <td>2022-04-01</td>\n",
       "      <td>400.000000</td>\n",
       "      <td>0.296296</td>\n",
       "    </tr>\n",
       "    <tr>\n",
       "      <th>511</th>\n",
       "      <td>86</td>\n",
       "      <td>2022-04-01</td>\n",
       "      <td>453.585147</td>\n",
       "      <td>0.296296</td>\n",
       "    </tr>\n",
       "    <tr>\n",
       "      <th>527314</th>\n",
       "      <td>86</td>\n",
       "      <td>2022-04-01</td>\n",
       "      <td>500.000000</td>\n",
       "      <td>0.074074</td>\n",
       "    </tr>\n",
       "    <tr>\n",
       "      <th>527315</th>\n",
       "      <td>86</td>\n",
       "      <td>2022-04-01</td>\n",
       "      <td>600.000000</td>\n",
       "      <td>0.074074</td>\n",
       "    </tr>\n",
       "    <tr>\n",
       "      <th>527316</th>\n",
       "      <td>86</td>\n",
       "      <td>2022-04-01</td>\n",
       "      <td>700.000000</td>\n",
       "      <td>0.074074</td>\n",
       "    </tr>\n",
       "    <tr>\n",
       "      <th>512</th>\n",
       "      <td>86</td>\n",
       "      <td>2022-04-01</td>\n",
       "      <td>761.523688</td>\n",
       "      <td>0.074074</td>\n",
       "    </tr>\n",
       "    <tr>\n",
       "      <th>527317</th>\n",
       "      <td>86</td>\n",
       "      <td>2022-04-01</td>\n",
       "      <td>800.000000</td>\n",
       "      <td>0.034722</td>\n",
       "    </tr>\n",
       "    <tr>\n",
       "      <th>527318</th>\n",
       "      <td>86</td>\n",
       "      <td>2022-04-01</td>\n",
       "      <td>900.000000</td>\n",
       "      <td>0.034722</td>\n",
       "    </tr>\n",
       "    <tr>\n",
       "      <th>527319</th>\n",
       "      <td>86</td>\n",
       "      <td>2022-04-01</td>\n",
       "      <td>1000.000000</td>\n",
       "      <td>0.034722</td>\n",
       "    </tr>\n",
       "    <tr>\n",
       "      <th>527320</th>\n",
       "      <td>86</td>\n",
       "      <td>2022-04-01</td>\n",
       "      <td>1100.000000</td>\n",
       "      <td>0.034722</td>\n",
       "    </tr>\n",
       "    <tr>\n",
       "      <th>513</th>\n",
       "      <td>86</td>\n",
       "      <td>2022-04-01</td>\n",
       "      <td>1107.746479</td>\n",
       "      <td>0.034722</td>\n",
       "    </tr>\n",
       "    <tr>\n",
       "      <th>527321</th>\n",
       "      <td>86</td>\n",
       "      <td>2022-04-01</td>\n",
       "      <td>1200.000000</td>\n",
       "      <td>0.129630</td>\n",
       "    </tr>\n",
       "    <tr>\n",
       "      <th>527322</th>\n",
       "      <td>86</td>\n",
       "      <td>2022-04-01</td>\n",
       "      <td>1300.000000</td>\n",
       "      <td>0.129630</td>\n",
       "    </tr>\n",
       "  </tbody>\n",
       "</table>\n",
       "</div>"
      ],
      "text/plain": [
       "        trainNumber departureDate  dist_from_speed  acceleration\n",
       "507              86    2022-04-01         0.000000      0.000000\n",
       "508              86    2022-04-01         0.000000      0.277778\n",
       "509              86    2022-04-01        62.419974      0.388889\n",
       "527310           86    2022-04-01       100.000000      0.407407\n",
       "527311           86    2022-04-01       200.000000      0.407407\n",
       "510              86    2022-04-01       212.227913      0.407407\n",
       "527312           86    2022-04-01       300.000000      0.296296\n",
       "527313           86    2022-04-01       400.000000      0.296296\n",
       "511              86    2022-04-01       453.585147      0.296296\n",
       "527314           86    2022-04-01       500.000000      0.074074\n",
       "527315           86    2022-04-01       600.000000      0.074074\n",
       "527316           86    2022-04-01       700.000000      0.074074\n",
       "512              86    2022-04-01       761.523688      0.074074\n",
       "527317           86    2022-04-01       800.000000      0.034722\n",
       "527318           86    2022-04-01       900.000000      0.034722\n",
       "527319           86    2022-04-01      1000.000000      0.034722\n",
       "527320           86    2022-04-01      1100.000000      0.034722\n",
       "513              86    2022-04-01      1107.746479      0.034722\n",
       "527321           86    2022-04-01      1200.000000      0.129630\n",
       "527322           86    2022-04-01      1300.000000      0.129630"
      ]
     },
     "execution_count": 30,
     "metadata": {},
     "output_type": "execute_result"
    }
   ],
   "source": [
    "main_df.head(20)"
   ]
  },
  {
   "cell_type": "code",
   "execution_count": null,
   "id": "24e5a523-07bd-4cd0-b295-58ecc6874483",
   "metadata": {},
   "outputs": [],
   "source": []
  },
  {
   "cell_type": "code",
   "execution_count": null,
   "id": "0bb1f4e4-015a-4023-8ea0-d5bf4dff03f9",
   "metadata": {},
   "outputs": [],
   "source": []
  },
  {
   "cell_type": "markdown",
   "id": "4d6a93e5-7f0b-44db-badb-1d2565cd11c9",
   "metadata": {},
   "source": [
    "## Tarkastellaan vain checkpointteja"
   ]
  },
  {
   "cell_type": "code",
   "execution_count": 31,
   "id": "3fa2e418-86a3-4b63-b2a3-cd612534517e",
   "metadata": {},
   "outputs": [],
   "source": [
    "testi = main_df[main_df[\"dist_from_speed\"].isin(checkpoints)].copy()"
   ]
  },
  {
   "cell_type": "code",
   "execution_count": 32,
   "id": "60ba470e-8820-4d18-826c-de374c9ccad3",
   "metadata": {},
   "outputs": [
    {
     "data": {
      "text/plain": [
       "732105"
      ]
     },
     "execution_count": 32,
     "metadata": {},
     "output_type": "execute_result"
    }
   ],
   "source": [
    "len(testi)"
   ]
  },
  {
   "cell_type": "code",
   "execution_count": 33,
   "id": "aa6c849f-bca9-4bb6-bd5c-db8b061422b1",
   "metadata": {},
   "outputs": [],
   "source": [
    "# jyrkkä ei kopioille\n",
    "testi.drop_duplicates([\"departureDate\", \"trainNumber\", \"dist_from_speed\"], inplace=True)"
   ]
  },
  {
   "cell_type": "code",
   "execution_count": 34,
   "id": "46e67c85-b5d6-45f5-ad5e-c4661ac4b954",
   "metadata": {},
   "outputs": [
    {
     "data": {
      "text/plain": [
       "730800"
      ]
     },
     "execution_count": 34,
     "metadata": {},
     "output_type": "execute_result"
    }
   ],
   "source": [
    "len(testi)"
   ]
  },
  {
   "cell_type": "code",
   "execution_count": 35,
   "id": "a7673d3e-b9ec-4fa2-8bf8-1a6cfc5be523",
   "metadata": {},
   "outputs": [],
   "source": [
    "# for num, date in trains:\n",
    "#     if len(testi[(testi[\"trainNumber\"] == num) & (testi[\"departureDate\"] == date)]) != len(checkpoints):\n",
    "#         print(num, date)"
   ]
  },
  {
   "cell_type": "code",
   "execution_count": 36,
   "id": "7ce87953-9581-4b65-ad7c-07e8339e1f08",
   "metadata": {},
   "outputs": [],
   "source": [
    "testi.reset_index(drop=True, inplace=True)"
   ]
  },
  {
   "cell_type": "code",
   "execution_count": 37,
   "id": "e64472dd-908a-4dc8-86c1-45adb35a5fa0",
   "metadata": {},
   "outputs": [],
   "source": [
    "testi[\"acceleration+\"] = testi[\"acceleration\"].apply(lambda a: max(a, 0))\n",
    "testi[\"acceleration_abs\"] = testi[\"acceleration\"].apply(abs)"
   ]
  },
  {
   "cell_type": "code",
   "execution_count": 38,
   "id": "bd287d8f-59f5-4080-b584-39792da2dcd3",
   "metadata": {},
   "outputs": [
    {
     "data": {
      "text/html": [
       "<div>\n",
       "<style scoped>\n",
       "    .dataframe tbody tr th:only-of-type {\n",
       "        vertical-align: middle;\n",
       "    }\n",
       "\n",
       "    .dataframe tbody tr th {\n",
       "        vertical-align: top;\n",
       "    }\n",
       "\n",
       "    .dataframe thead th {\n",
       "        text-align: right;\n",
       "    }\n",
       "</style>\n",
       "<table border=\"1\" class=\"dataframe\">\n",
       "  <thead>\n",
       "    <tr style=\"text-align: right;\">\n",
       "      <th></th>\n",
       "      <th>trainNumber</th>\n",
       "      <th>departureDate</th>\n",
       "      <th>dist_from_speed</th>\n",
       "      <th>acceleration</th>\n",
       "      <th>acceleration+</th>\n",
       "      <th>acceleration_abs</th>\n",
       "    </tr>\n",
       "  </thead>\n",
       "  <tbody>\n",
       "    <tr>\n",
       "      <th>0</th>\n",
       "      <td>86</td>\n",
       "      <td>2022-04-01</td>\n",
       "      <td>0.0</td>\n",
       "      <td>0.000000</td>\n",
       "      <td>0.000000</td>\n",
       "      <td>0.000000</td>\n",
       "    </tr>\n",
       "    <tr>\n",
       "      <th>1</th>\n",
       "      <td>86</td>\n",
       "      <td>2022-04-01</td>\n",
       "      <td>100.0</td>\n",
       "      <td>0.407407</td>\n",
       "      <td>0.407407</td>\n",
       "      <td>0.407407</td>\n",
       "    </tr>\n",
       "    <tr>\n",
       "      <th>2</th>\n",
       "      <td>86</td>\n",
       "      <td>2022-04-01</td>\n",
       "      <td>200.0</td>\n",
       "      <td>0.407407</td>\n",
       "      <td>0.407407</td>\n",
       "      <td>0.407407</td>\n",
       "    </tr>\n",
       "    <tr>\n",
       "      <th>3</th>\n",
       "      <td>86</td>\n",
       "      <td>2022-04-01</td>\n",
       "      <td>300.0</td>\n",
       "      <td>0.296296</td>\n",
       "      <td>0.296296</td>\n",
       "      <td>0.296296</td>\n",
       "    </tr>\n",
       "    <tr>\n",
       "      <th>4</th>\n",
       "      <td>86</td>\n",
       "      <td>2022-04-01</td>\n",
       "      <td>400.0</td>\n",
       "      <td>0.296296</td>\n",
       "      <td>0.296296</td>\n",
       "      <td>0.296296</td>\n",
       "    </tr>\n",
       "  </tbody>\n",
       "</table>\n",
       "</div>"
      ],
      "text/plain": [
       "   trainNumber departureDate  dist_from_speed  acceleration  acceleration+  \\\n",
       "0           86    2022-04-01              0.0      0.000000       0.000000   \n",
       "1           86    2022-04-01            100.0      0.407407       0.407407   \n",
       "2           86    2022-04-01            200.0      0.407407       0.407407   \n",
       "3           86    2022-04-01            300.0      0.296296       0.296296   \n",
       "4           86    2022-04-01            400.0      0.296296       0.296296   \n",
       "\n",
       "   acceleration_abs  \n",
       "0          0.000000  \n",
       "1          0.407407  \n",
       "2          0.407407  \n",
       "3          0.296296  \n",
       "4          0.296296  "
      ]
     },
     "execution_count": 38,
     "metadata": {},
     "output_type": "execute_result"
    }
   ],
   "source": [
    "testi.head()"
   ]
  },
  {
   "cell_type": "markdown",
   "id": "bf48f762-cac5-49ee-988d-0cfed6fa76c7",
   "metadata": {},
   "source": [
    "### Muunnetaan DF klusterointiin soveltuvaan muotoon"
   ]
  },
  {
   "cell_type": "code",
   "execution_count": 39,
   "id": "8f9b38fa-09be-4d57-96ab-3bda27476fe7",
   "metadata": {},
   "outputs": [],
   "source": [
    "# MUISTA\n",
    "\n",
    "# pd.pivot_table(testi, values=\"acceleration\", index=[\"departureDate\", \"trainNumber\"], columns=[\"dist_from_speed\"], aggfunc=np.mean)"
   ]
  },
  {
   "cell_type": "code",
   "execution_count": 40,
   "id": "fef6978d-fd34-4a5b-a588-ab89b167e7a9",
   "metadata": {},
   "outputs": [],
   "source": [
    "def get_cluster_df(df, col_name=\"acceleration\"):\n",
    "    result = pd.pivot_table(df, values=col_name, index=[\"departureDate\", \"trainNumber\"], columns=[\"dist_from_speed\"], aggfunc=np.mean)\n",
    "    return result.dropna()"
   ]
  },
  {
   "cell_type": "code",
   "execution_count": 41,
   "id": "4a574acb-761d-4162-b26f-cca490983885",
   "metadata": {},
   "outputs": [],
   "source": [
    "clustering_df = get_cluster_df(testi)"
   ]
  },
  {
   "cell_type": "code",
   "execution_count": 42,
   "id": "8b36b20c-f473-4b67-993a-b904ded7f327",
   "metadata": {},
   "outputs": [],
   "source": [
    "# clustering_df.dropna(inplace=True)"
   ]
  },
  {
   "cell_type": "code",
   "execution_count": 43,
   "id": "8896e195-99e4-414d-bb15-d9cf7a44dfc7",
   "metadata": {},
   "outputs": [],
   "source": [
    "# vanha tapa\n",
    "def get_clustering_df(nums_and_dates, df, clustering_columns, col_name=\"acceleration\"):\n",
    "    clustering_df = pd.DataFrame(columns=clustering_columns)\n",
    "    \n",
    "    for num, date in nums_and_dates:\n",
    "        partial_df = fcns.get_locations_for_train(num, date, df)\n",
    "        i1 = partial_df.index.min()\n",
    "        i2 = partial_df.index.max()\n",
    "        accel = df.loc[i1:i2, col_name].copy().to_numpy()\n",
    "        clustering_df = pd.concat([clustering_df, pd.DataFrame([accel], columns=clustering_columns)])\n",
    "        \n",
    "    clustering_df.index = nums_and_dates\n",
    "    \n",
    "    return clustering_df"
   ]
  },
  {
   "cell_type": "code",
   "execution_count": null,
   "id": "31e64979-fa40-4979-88fd-08995f8ae1b6",
   "metadata": {},
   "outputs": [],
   "source": []
  },
  {
   "cell_type": "code",
   "execution_count": 44,
   "id": "3e42a01c-1d50-40b7-9333-2ea4db833815",
   "metadata": {},
   "outputs": [],
   "source": [
    "# clustering_df.insert(0, \"mean_accel\", clustering_df.mean(axis=1))"
   ]
  },
  {
   "cell_type": "code",
   "execution_count": 45,
   "id": "f9e05379-6faa-4a0c-8d4d-2b0fbf58e41b",
   "metadata": {},
   "outputs": [],
   "source": [
    "# clustering_results = testi.groupby([\"departureDate\", \"trainNumber\"]).mean()"
   ]
  },
  {
   "cell_type": "code",
   "execution_count": 46,
   "id": "c2b155f2-45c5-4bc4-b39e-06fa01d4a8bd",
   "metadata": {},
   "outputs": [],
   "source": [
    "# clustering_results[\"cluster_id\"] = km.predict(clustering_df.drop([\"mean_accel\", \"cluster_id\"], axis=1))"
   ]
  },
  {
   "cell_type": "code",
   "execution_count": null,
   "id": "1ec9102e-6516-4e04-b7a5-eaa7f55fc363",
   "metadata": {},
   "outputs": [],
   "source": []
  },
  {
   "cell_type": "code",
   "execution_count": 47,
   "id": "2e1ab68b-96e3-4f1b-8489-81380bb23b47",
   "metadata": {},
   "outputs": [],
   "source": [
    "# clustering_results.head(10)"
   ]
  },
  {
   "cell_type": "markdown",
   "id": "ba02c8a1-9f04-4d68-99ea-a72f4d859268",
   "metadata": {},
   "source": [
    "### KMeans kehiin"
   ]
  },
  {
   "cell_type": "code",
   "execution_count": 48,
   "id": "769a63f6-9d89-4803-8071-41d4a50e8fbd",
   "metadata": {},
   "outputs": [],
   "source": [
    "# km = KMeans(n_clusters=15, n_init=\"auto\", max_iter=1337, random_state=4096)\n",
    "km = KMeans(n_clusters=25, n_init=\"auto\")\n",
    "if \"cluster_id\" in clustering_df.columns:\n",
    "    clustering_df.drop(\"cluster_id\", axis=1, inplace=True)\n",
    "km.fit(clustering_df)\n",
    "\n",
    "if \"cluster_id\" in clustering_df.columns:\n",
    "    clustering_df.drop(\"cluster_id\", axis=1, inplace=True)\n",
    "# clustering_df.insert(0, \"cluster_id\", km.predict(clustering_df))\n",
    "\n",
    "clustering_results = testi.groupby([\"departureDate\", \"trainNumber\"]).mean()\n",
    "clustering_results[\"cluster_id\"] = km.predict(clustering_df)"
   ]
  },
  {
   "cell_type": "code",
   "execution_count": 49,
   "id": "41d89e19-8804-45b7-8476-4f53679ae220",
   "metadata": {},
   "outputs": [],
   "source": [
    "def get_clusters(clustering_results):\n",
    "    clusters = clustering_results.groupby(\"cluster_id\")\n",
    "\n",
    "    table = pd.concat([clusters[\"acceleration_abs\"].count(), clusters[\"acceleration_abs\"].min(), clusters[\"acceleration_abs\"].max(), clusters[\"acceleration_abs\"].mean()], axis=1)\n",
    "    table.columns=[\"count\", \"min mean abs accel\", \"max mean abs accel\", \"mean mean abs accel\"]\n",
    "    return table.sort_values(\"count\", ascending=False)"
   ]
  },
  {
   "cell_type": "code",
   "execution_count": 50,
   "id": "2306a9a7-5514-43f6-ba5e-453baaf4034a",
   "metadata": {},
   "outputs": [],
   "source": [
    "#clusters = clustering_results.groupby(\"cluster_id\")\n",
    "\n",
    "#table = pd.concat([clusters[\"acceleration_abs\"].count(), clusters[\"acceleration_abs\"].min(), clusters[\"acceleration_abs\"].max(), clusters[\"acceleration_abs\"].mean()], axis=1)\n",
    "#table.columns=[\"count\", \"min mean abs accel\", \"max mean abs accel\", \"mean mean abs accel\"]\n",
    "#clustering_res = table.sort_values(\"count\", ascending=False)\n",
    "#clustering_res.head()"
   ]
  },
  {
   "cell_type": "code",
   "execution_count": 51,
   "id": "5420a964-9883-48f3-8fa7-daa29235c30e",
   "metadata": {},
   "outputs": [
    {
     "data": {
      "text/html": [
       "<div>\n",
       "<style scoped>\n",
       "    .dataframe tbody tr th:only-of-type {\n",
       "        vertical-align: middle;\n",
       "    }\n",
       "\n",
       "    .dataframe tbody tr th {\n",
       "        vertical-align: top;\n",
       "    }\n",
       "\n",
       "    .dataframe thead th {\n",
       "        text-align: right;\n",
       "    }\n",
       "</style>\n",
       "<table border=\"1\" class=\"dataframe\">\n",
       "  <thead>\n",
       "    <tr style=\"text-align: right;\">\n",
       "      <th></th>\n",
       "      <th>count</th>\n",
       "      <th>min mean abs accel</th>\n",
       "      <th>max mean abs accel</th>\n",
       "      <th>mean mean abs accel</th>\n",
       "    </tr>\n",
       "    <tr>\n",
       "      <th>cluster_id</th>\n",
       "      <th></th>\n",
       "      <th></th>\n",
       "      <th></th>\n",
       "      <th></th>\n",
       "    </tr>\n",
       "  </thead>\n",
       "  <tbody>\n",
       "    <tr>\n",
       "      <th>9</th>\n",
       "      <td>351</td>\n",
       "      <td>0.026125</td>\n",
       "      <td>0.126762</td>\n",
       "      <td>0.058249</td>\n",
       "    </tr>\n",
       "    <tr>\n",
       "      <th>19</th>\n",
       "      <td>284</td>\n",
       "      <td>0.045915</td>\n",
       "      <td>0.131092</td>\n",
       "      <td>0.069043</td>\n",
       "    </tr>\n",
       "    <tr>\n",
       "      <th>8</th>\n",
       "      <td>211</td>\n",
       "      <td>0.046299</td>\n",
       "      <td>0.146278</td>\n",
       "      <td>0.071431</td>\n",
       "    </tr>\n",
       "    <tr>\n",
       "      <th>6</th>\n",
       "      <td>179</td>\n",
       "      <td>0.044509</td>\n",
       "      <td>0.162174</td>\n",
       "      <td>0.071581</td>\n",
       "    </tr>\n",
       "    <tr>\n",
       "      <th>4</th>\n",
       "      <td>167</td>\n",
       "      <td>0.019866</td>\n",
       "      <td>0.112290</td>\n",
       "      <td>0.059064</td>\n",
       "    </tr>\n",
       "  </tbody>\n",
       "</table>\n",
       "</div>"
      ],
      "text/plain": [
       "            count  min mean abs accel  max mean abs accel  mean mean abs accel\n",
       "cluster_id                                                                    \n",
       "9             351            0.026125            0.126762             0.058249\n",
       "19            284            0.045915            0.131092             0.069043\n",
       "8             211            0.046299            0.146278             0.071431\n",
       "6             179            0.044509            0.162174             0.071581\n",
       "4             167            0.019866            0.112290             0.059064"
      ]
     },
     "execution_count": 51,
     "metadata": {},
     "output_type": "execute_result"
    }
   ],
   "source": [
    "clustering_res = get_clusters(clustering_results)\n",
    "clustering_res.head()"
   ]
  },
  {
   "cell_type": "code",
   "execution_count": 52,
   "id": "52acc370-89b2-4094-8103-23a9f4bf17c9",
   "metadata": {},
   "outputs": [],
   "source": [
    "# clustering_results.head(10)"
   ]
  },
  {
   "cell_type": "code",
   "execution_count": 53,
   "id": "a94064ca-68a0-4586-a44a-c6962f2d98d6",
   "metadata": {},
   "outputs": [],
   "source": [
    "# clustering_df.head()"
   ]
  },
  {
   "cell_type": "code",
   "execution_count": 54,
   "id": "a29e2afd-c453-45ba-806f-fd767c8ce3b3",
   "metadata": {},
   "outputs": [],
   "source": [
    "def run_kmeans(df_to_cluster, k):\n",
    "    km = KMeans(n_clusters=k, n_init=\"auto\")\n",
    "    km.fit(df_to_cluster)\n",
    "    cluster_ids = km_pos.predict(cluster_df_pos)\n",
    "    return [km, cluster_ids]"
   ]
  },
  {
   "cell_type": "code",
   "execution_count": 55,
   "id": "74514a81-f99e-4841-8a0e-161fc388d9a7",
   "metadata": {},
   "outputs": [],
   "source": [
    "# cluster_df_pos = get_clustering_df(trains, testi, checkpoints, \"acceleration+\")\n",
    "cluster_df_pos = get_cluster_df(testi, \"acceleration+\")"
   ]
  },
  {
   "cell_type": "code",
   "execution_count": 56,
   "id": "dc7530e4-739c-4b59-a467-83a0e3a46957",
   "metadata": {},
   "outputs": [
    {
     "data": {
      "text/plain": [
       "1305"
      ]
     },
     "execution_count": 56,
     "metadata": {},
     "output_type": "execute_result"
    }
   ],
   "source": [
    "len(cluster_df_pos)"
   ]
  },
  {
   "cell_type": "code",
   "execution_count": 57,
   "id": "ce667506-d0c2-4716-9818-a007b14da008",
   "metadata": {},
   "outputs": [],
   "source": [
    "km_pos = KMeans(n_clusters=25, n_init=\"auto\")\n",
    "\n",
    "if \"mean_accel+\" in cluster_df_pos.columns:\n",
    "    cluster_df_pos.drop(\"mean_accel+\", axis=1, inplace=True)\n",
    "if \"cluster_id\" in cluster_df_pos.columns:\n",
    "    cluster_df_pos.drop(\"cluster_id\", axis=1, inplace=True)\n",
    "km_pos.fit(cluster_df_pos)\n",
    "cluster_ids = km_pos.predict(cluster_df_pos)\n",
    "\n",
    "cluster_df_pos.insert(0, \"mean_accel+\", cluster_df_pos.mean(axis=1))\n",
    "cluster_df_pos.insert(0, \"cluster_id\", cluster_ids)"
   ]
  },
  {
   "cell_type": "code",
   "execution_count": 58,
   "id": "2c4dc50d-5983-4db0-8276-9dcada193334",
   "metadata": {},
   "outputs": [
    {
     "data": {
      "text/html": [
       "<div>\n",
       "<style scoped>\n",
       "    .dataframe tbody tr th:only-of-type {\n",
       "        vertical-align: middle;\n",
       "    }\n",
       "\n",
       "    .dataframe tbody tr th {\n",
       "        vertical-align: top;\n",
       "    }\n",
       "\n",
       "    .dataframe thead th {\n",
       "        text-align: right;\n",
       "    }\n",
       "</style>\n",
       "<table border=\"1\" class=\"dataframe\">\n",
       "  <thead>\n",
       "    <tr style=\"text-align: right;\">\n",
       "      <th></th>\n",
       "      <th>count</th>\n",
       "      <th>min mean accel+</th>\n",
       "      <th>max mean accel+</th>\n",
       "    </tr>\n",
       "    <tr>\n",
       "      <th>cluster_id</th>\n",
       "      <th></th>\n",
       "      <th></th>\n",
       "      <th></th>\n",
       "    </tr>\n",
       "  </thead>\n",
       "  <tbody>\n",
       "    <tr>\n",
       "      <th>3</th>\n",
       "      <td>282</td>\n",
       "      <td>0.005400</td>\n",
       "      <td>0.049326</td>\n",
       "    </tr>\n",
       "    <tr>\n",
       "      <th>1</th>\n",
       "      <td>230</td>\n",
       "      <td>0.018237</td>\n",
       "      <td>0.046213</td>\n",
       "    </tr>\n",
       "    <tr>\n",
       "      <th>20</th>\n",
       "      <td>214</td>\n",
       "      <td>0.014170</td>\n",
       "      <td>0.052947</td>\n",
       "    </tr>\n",
       "    <tr>\n",
       "      <th>9</th>\n",
       "      <td>201</td>\n",
       "      <td>0.017164</td>\n",
       "      <td>0.048775</td>\n",
       "    </tr>\n",
       "    <tr>\n",
       "      <th>7</th>\n",
       "      <td>142</td>\n",
       "      <td>0.020345</td>\n",
       "      <td>0.051038</td>\n",
       "    </tr>\n",
       "    <tr>\n",
       "      <th>2</th>\n",
       "      <td>107</td>\n",
       "      <td>0.025385</td>\n",
       "      <td>0.072779</td>\n",
       "    </tr>\n",
       "    <tr>\n",
       "      <th>24</th>\n",
       "      <td>55</td>\n",
       "      <td>0.022117</td>\n",
       "      <td>0.069226</td>\n",
       "    </tr>\n",
       "    <tr>\n",
       "      <th>19</th>\n",
       "      <td>28</td>\n",
       "      <td>0.025412</td>\n",
       "      <td>0.052001</td>\n",
       "    </tr>\n",
       "  </tbody>\n",
       "</table>\n",
       "</div>"
      ],
      "text/plain": [
       "            count  min mean accel+  max mean accel+\n",
       "cluster_id                                         \n",
       "3             282         0.005400         0.049326\n",
       "1             230         0.018237         0.046213\n",
       "20            214         0.014170         0.052947\n",
       "9             201         0.017164         0.048775\n",
       "7             142         0.020345         0.051038\n",
       "2             107         0.025385         0.072779\n",
       "24             55         0.022117         0.069226\n",
       "19             28         0.025412         0.052001"
      ]
     },
     "execution_count": 58,
     "metadata": {},
     "output_type": "execute_result"
    }
   ],
   "source": [
    "clusters_pos = cluster_df_pos.groupby(\"cluster_id\")\n",
    "\n",
    "table = pd.concat([clusters_pos[\"mean_accel+\"].count(), clusters_pos[\"mean_accel+\"].min(), clusters_pos[\"mean_accel+\"].max()], axis=1)\n",
    "table.columns=[\"count\", \"min mean accel+\", \"max mean accel+\"]\n",
    "c_counts = table.sort_values(\"count\", ascending=False)\n",
    "c_counts.head(8)"
   ]
  },
  {
   "cell_type": "code",
   "execution_count": null,
   "id": "b5431bf4-5a73-4466-9d7e-4ac25f1ac1a5",
   "metadata": {},
   "outputs": [],
   "source": []
  },
  {
   "cell_type": "code",
   "execution_count": 59,
   "id": "c9971d4a-544d-47f1-83dc-2f729689334a",
   "metadata": {},
   "outputs": [],
   "source": [
    "# cluster_df_pos.iloc[:6, :6]"
   ]
  },
  {
   "cell_type": "code",
   "execution_count": null,
   "id": "1823943a-6efe-47d0-9221-06c69e6636ec",
   "metadata": {},
   "outputs": [],
   "source": []
  },
  {
   "cell_type": "code",
   "execution_count": null,
   "id": "18a83c9e-c66a-4800-99bd-a88acf517790",
   "metadata": {},
   "outputs": [],
   "source": []
  },
  {
   "cell_type": "code",
   "execution_count": null,
   "id": "14a73c44-c0fa-4f88-9adf-1ae0b6798a7a",
   "metadata": {},
   "outputs": [],
   "source": []
  },
  {
   "cell_type": "code",
   "execution_count": 60,
   "id": "fd489aee-d10a-45d2-91e3-2b7a98570962",
   "metadata": {},
   "outputs": [],
   "source": [
    "def print_stuff(cluster_id):\n",
    "    a = clustering_df[clustering_df[\"cluster_id\"] == cluster_id]\n",
    "    # print(a.iloc[0, :2])\n",
    "    \n",
    "    plt.plot(a.iloc[0, :])\n",
    "    plt.grid()\n",
    "    plt.show()\n",
    "    print()\n",
    "    "
   ]
  },
  {
   "cell_type": "code",
   "execution_count": null,
   "id": "253dbfaf-5ccc-4f54-94f8-9812f7f0165b",
   "metadata": {},
   "outputs": [],
   "source": []
  },
  {
   "cell_type": "code",
   "execution_count": 61,
   "id": "e33367eb-8a92-4012-ae8e-2d27c80002db",
   "metadata": {},
   "outputs": [],
   "source": [
    "# for i in table.index:\n",
    "    # if table.loc[i, \"count\"] == 1:\n",
    "        # print_stuff(i)"
   ]
  },
  {
   "cell_type": "code",
   "execution_count": null,
   "id": "4b275fc8-9a06-4a6c-af04-a497d0f4ff0a",
   "metadata": {},
   "outputs": [],
   "source": []
  },
  {
   "cell_type": "code",
   "execution_count": null,
   "id": "da5ae100-a459-4e92-a072-c4897df676c5",
   "metadata": {},
   "outputs": [],
   "source": []
  },
  {
   "cell_type": "code",
   "execution_count": 62,
   "id": "0a7417e7-a111-4af7-8e4f-49d6ed043c17",
   "metadata": {},
   "outputs": [
    {
     "data": {
      "text/html": [
       "<div>\n",
       "<style scoped>\n",
       "    .dataframe tbody tr th:only-of-type {\n",
       "        vertical-align: middle;\n",
       "    }\n",
       "\n",
       "    .dataframe tbody tr th {\n",
       "        vertical-align: top;\n",
       "    }\n",
       "\n",
       "    .dataframe thead th {\n",
       "        text-align: right;\n",
       "    }\n",
       "</style>\n",
       "<table border=\"1\" class=\"dataframe\">\n",
       "  <thead>\n",
       "    <tr style=\"text-align: right;\">\n",
       "      <th></th>\n",
       "      <th></th>\n",
       "      <th>dist_from_speed</th>\n",
       "      <th>acceleration</th>\n",
       "      <th>acceleration+</th>\n",
       "      <th>acceleration_abs</th>\n",
       "      <th>cluster_id</th>\n",
       "    </tr>\n",
       "    <tr>\n",
       "      <th>departureDate</th>\n",
       "      <th>trainNumber</th>\n",
       "      <th></th>\n",
       "      <th></th>\n",
       "      <th></th>\n",
       "      <th></th>\n",
       "      <th></th>\n",
       "    </tr>\n",
       "  </thead>\n",
       "  <tbody>\n",
       "    <tr>\n",
       "      <th rowspan=\"5\" valign=\"top\">2022-04-01</th>\n",
       "      <th>86</th>\n",
       "      <td>27950.0</td>\n",
       "      <td>-0.003095</td>\n",
       "      <td>0.020451</td>\n",
       "      <td>0.043997</td>\n",
       "      <td>9</td>\n",
       "    </tr>\n",
       "    <tr>\n",
       "      <th>88</th>\n",
       "      <td>27950.0</td>\n",
       "      <td>-0.004472</td>\n",
       "      <td>0.022419</td>\n",
       "      <td>0.049311</td>\n",
       "      <td>4</td>\n",
       "    </tr>\n",
       "    <tr>\n",
       "      <th>94</th>\n",
       "      <td>27950.0</td>\n",
       "      <td>-0.004702</td>\n",
       "      <td>0.030857</td>\n",
       "      <td>0.066417</td>\n",
       "      <td>4</td>\n",
       "    </tr>\n",
       "    <tr>\n",
       "      <th>140</th>\n",
       "      <td>27950.0</td>\n",
       "      <td>-0.003398</td>\n",
       "      <td>0.037506</td>\n",
       "      <td>0.078410</td>\n",
       "      <td>8</td>\n",
       "    </tr>\n",
       "    <tr>\n",
       "      <th>142</th>\n",
       "      <td>27950.0</td>\n",
       "      <td>-0.005155</td>\n",
       "      <td>0.026133</td>\n",
       "      <td>0.057420</td>\n",
       "      <td>19</td>\n",
       "    </tr>\n",
       "  </tbody>\n",
       "</table>\n",
       "</div>"
      ],
      "text/plain": [
       "                           dist_from_speed  acceleration  acceleration+  \\\n",
       "departureDate trainNumber                                                 \n",
       "2022-04-01    86                   27950.0     -0.003095       0.020451   \n",
       "              88                   27950.0     -0.004472       0.022419   \n",
       "              94                   27950.0     -0.004702       0.030857   \n",
       "              140                  27950.0     -0.003398       0.037506   \n",
       "              142                  27950.0     -0.005155       0.026133   \n",
       "\n",
       "                           acceleration_abs  cluster_id  \n",
       "departureDate trainNumber                                \n",
       "2022-04-01    86                   0.043997           9  \n",
       "              88                   0.049311           4  \n",
       "              94                   0.066417           4  \n",
       "              140                  0.078410           8  \n",
       "              142                  0.057420          19  "
      ]
     },
     "execution_count": 62,
     "metadata": {},
     "output_type": "execute_result"
    }
   ],
   "source": [
    "clustering_results.head()"
   ]
  },
  {
   "cell_type": "code",
   "execution_count": 63,
   "id": "cbf1e9d6-b3f0-4f10-99e9-e9f6689f12f1",
   "metadata": {},
   "outputs": [],
   "source": [
    "c_df_res = clustering_results.loc[:, [\"cluster_id\", \"acceleration\"]]\n",
    "c_df = clustering_df\n",
    "# c_df_res = cluster_df_pos.loc[:, [\"cluster_id\", \"mean_accel+\"]]\n",
    "# c_df = cluster_df_pos.drop([\"cluster_id\", \"mean_accel+\"], axis=1)"
   ]
  },
  {
   "cell_type": "code",
   "execution_count": 64,
   "id": "500e1c8a-c2ba-42eb-b02f-5a68d04092dd",
   "metadata": {},
   "outputs": [],
   "source": [
    "default_lower_bound = max(30, 0.05 * len(clustering_df))\n",
    "# default_lower_bound = 0.1 * len(cluster_df_pos)\n",
    "\n",
    "def get_replacements(cluster_counts, lower_bound=default_lower_bound):\n",
    "    clusters = cluster_counts[cluster_counts > lower_bound]\n",
    "    return {c: i for i, c in enumerate(clusters.index)}"
   ]
  },
  {
   "cell_type": "code",
   "execution_count": 65,
   "id": "2c86cb47-1767-4825-9f48-f1dd610369df",
   "metadata": {},
   "outputs": [
    {
     "data": {
      "text/plain": [
       "{9: 0, 19: 1, 8: 2, 6: 3, 4: 4}"
      ]
     },
     "execution_count": 65,
     "metadata": {},
     "output_type": "execute_result"
    }
   ],
   "source": [
    "get_replacements(clustering_res[\"count\"])\n",
    "# get_replacements(c_counts[\"count\"])"
   ]
  },
  {
   "cell_type": "code",
   "execution_count": 66,
   "id": "9b1421b8-7398-4f18-b7a8-f8b6ba521336",
   "metadata": {},
   "outputs": [
    {
     "data": {
      "text/html": [
       "<div>\n",
       "<style scoped>\n",
       "    .dataframe tbody tr th:only-of-type {\n",
       "        vertical-align: middle;\n",
       "    }\n",
       "\n",
       "    .dataframe tbody tr th {\n",
       "        vertical-align: top;\n",
       "    }\n",
       "\n",
       "    .dataframe thead th {\n",
       "        text-align: right;\n",
       "    }\n",
       "</style>\n",
       "<table border=\"1\" class=\"dataframe\">\n",
       "  <thead>\n",
       "    <tr style=\"text-align: right;\">\n",
       "      <th></th>\n",
       "      <th>acceleration</th>\n",
       "    </tr>\n",
       "    <tr>\n",
       "      <th>cluster_id</th>\n",
       "      <th></th>\n",
       "    </tr>\n",
       "  </thead>\n",
       "  <tbody>\n",
       "    <tr>\n",
       "      <th>9</th>\n",
       "      <td>351</td>\n",
       "    </tr>\n",
       "    <tr>\n",
       "      <th>19</th>\n",
       "      <td>284</td>\n",
       "    </tr>\n",
       "    <tr>\n",
       "      <th>8</th>\n",
       "      <td>211</td>\n",
       "    </tr>\n",
       "    <tr>\n",
       "      <th>6</th>\n",
       "      <td>179</td>\n",
       "    </tr>\n",
       "    <tr>\n",
       "      <th>4</th>\n",
       "      <td>167</td>\n",
       "    </tr>\n",
       "  </tbody>\n",
       "</table>\n",
       "</div>"
      ],
      "text/plain": [
       "            acceleration\n",
       "cluster_id              \n",
       "9                    351\n",
       "19                   284\n",
       "8                    211\n",
       "6                    179\n",
       "4                    167"
      ]
     },
     "execution_count": 66,
     "metadata": {},
     "output_type": "execute_result"
    }
   ],
   "source": [
    "c_df_res.groupby(\"cluster_id\").count().sort_values(\"acceleration\", ascending=False).head()\n",
    "# c_df_res.groupby(\"cluster_id\").count().sort_values(\"mean_accel+\", ascending=False).head()"
   ]
  },
  {
   "cell_type": "code",
   "execution_count": 67,
   "id": "7665d03b-b46f-4dbf-b93e-5a293cca1f96",
   "metadata": {},
   "outputs": [],
   "source": [
    "def replacement_fcn(num, cluster_counts):\n",
    "    replacements = get_replacements(cluster_counts)\n",
    "    # replacements = {22: 0, 19: 1, 23: 2, 17: 3, 24: 4}\n",
    "    if replacements.get(num) is None:\n",
    "        return len(replacements)\n",
    "    return replacements[num]"
   ]
  },
  {
   "cell_type": "code",
   "execution_count": 68,
   "id": "cad0285d-a2da-4721-af25-46a48a01df96",
   "metadata": {},
   "outputs": [],
   "source": [
    "c_df_res[\"cluster_id\"] = c_df_res[\"cluster_id\"].apply(lambda n: replacement_fcn(n, clustering_res[\"count\"]))\n",
    "# c_df_res[\"cluster_id\"] = c_df_res[\"cluster_id\"].apply(lambda n: replacement_fcn(n, c_counts[\"count\"]))"
   ]
  },
  {
   "cell_type": "code",
   "execution_count": 69,
   "id": "aca133a7-0bcb-4126-8654-fa570055b216",
   "metadata": {},
   "outputs": [
    {
     "data": {
      "text/html": [
       "<div>\n",
       "<style scoped>\n",
       "    .dataframe tbody tr th:only-of-type {\n",
       "        vertical-align: middle;\n",
       "    }\n",
       "\n",
       "    .dataframe tbody tr th {\n",
       "        vertical-align: top;\n",
       "    }\n",
       "\n",
       "    .dataframe thead th {\n",
       "        text-align: right;\n",
       "    }\n",
       "</style>\n",
       "<table border=\"1\" class=\"dataframe\">\n",
       "  <thead>\n",
       "    <tr style=\"text-align: right;\">\n",
       "      <th></th>\n",
       "      <th>acceleration</th>\n",
       "    </tr>\n",
       "    <tr>\n",
       "      <th>cluster_id</th>\n",
       "      <th></th>\n",
       "    </tr>\n",
       "  </thead>\n",
       "  <tbody>\n",
       "    <tr>\n",
       "      <th>0</th>\n",
       "      <td>351</td>\n",
       "    </tr>\n",
       "    <tr>\n",
       "      <th>1</th>\n",
       "      <td>284</td>\n",
       "    </tr>\n",
       "    <tr>\n",
       "      <th>2</th>\n",
       "      <td>211</td>\n",
       "    </tr>\n",
       "    <tr>\n",
       "      <th>3</th>\n",
       "      <td>179</td>\n",
       "    </tr>\n",
       "    <tr>\n",
       "      <th>4</th>\n",
       "      <td>167</td>\n",
       "    </tr>\n",
       "    <tr>\n",
       "      <th>5</th>\n",
       "      <td>113</td>\n",
       "    </tr>\n",
       "  </tbody>\n",
       "</table>\n",
       "</div>"
      ],
      "text/plain": [
       "            acceleration\n",
       "cluster_id              \n",
       "0                    351\n",
       "1                    284\n",
       "2                    211\n",
       "3                    179\n",
       "4                    167\n",
       "5                    113"
      ]
     },
     "execution_count": 69,
     "metadata": {},
     "output_type": "execute_result"
    }
   ],
   "source": [
    "c_df_res.groupby(\"cluster_id\").count().sort_values(\"acceleration\", ascending=False)\n",
    "# c_df_res.groupby(\"cluster_id\").count().sort_values(\"mean_accel+\", ascending=False)"
   ]
  },
  {
   "cell_type": "code",
   "execution_count": null,
   "id": "381989a9-028a-4b9d-8277-2fa6c4a4c9a9",
   "metadata": {},
   "outputs": [],
   "source": []
  },
  {
   "cell_type": "code",
   "execution_count": 70,
   "id": "6a9494db-04c6-484d-b8f3-f9a48a0ebc31",
   "metadata": {},
   "outputs": [],
   "source": [
    "X_train, X_test, Y_train, Y_test = train_test_split(c_df, c_df_res[\"cluster_id\"].to_numpy(), test_size=0.2)"
   ]
  },
  {
   "cell_type": "code",
   "execution_count": 71,
   "id": "8a9439a7-ed5f-40d5-ac2a-90b8624fc346",
   "metadata": {},
   "outputs": [],
   "source": [
    "knn = KNeighborsClassifier(n_neighbors=5)\n",
    "knn.fit(X_train, Y_train)\n",
    "Y_pred = knn.predict(X_test)"
   ]
  },
  {
   "cell_type": "code",
   "execution_count": 72,
   "id": "791b2e03-8c24-4843-82fd-c3c5ea97e809",
   "metadata": {},
   "outputs": [
    {
     "data": {
      "text/plain": [
       "0.5440613026819924"
      ]
     },
     "execution_count": 72,
     "metadata": {},
     "output_type": "execute_result"
    }
   ],
   "source": [
    "accuracy_score(Y_test, Y_pred)"
   ]
  },
  {
   "cell_type": "code",
   "execution_count": 73,
   "id": "e085817e-f3ec-4e86-85e7-6d7572ee813d",
   "metadata": {},
   "outputs": [
    {
     "name": "stdout",
     "output_type": "stream",
     "text": [
      "              precision    recall  f1-score   support\n",
      "\n",
      "           0       0.45      0.96      0.61        72\n",
      "           1       0.62      0.51      0.56        51\n",
      "           2       0.62      0.24      0.35        41\n",
      "           3       0.50      0.19      0.27        32\n",
      "           4       0.79      0.56      0.66        34\n",
      "           5       1.00      0.39      0.56        31\n",
      "\n",
      "    accuracy                           0.54       261\n",
      "   macro avg       0.66      0.47      0.50       261\n",
      "weighted avg       0.63      0.54      0.52       261\n",
      "\n"
     ]
    }
   ],
   "source": [
    "print(classification_report(Y_test, Y_pred))"
   ]
  },
  {
   "cell_type": "code",
   "execution_count": null,
   "id": "53b38135-2741-493b-96ea-c1da76155654",
   "metadata": {},
   "outputs": [],
   "source": []
  },
  {
   "cell_type": "code",
   "execution_count": 74,
   "id": "b9cd23b0-80f0-4670-9736-56c59ba8ffc3",
   "metadata": {},
   "outputs": [],
   "source": [
    "# clustering_df[\"cluster_id\"].value_counts()"
   ]
  },
  {
   "cell_type": "code",
   "execution_count": 75,
   "id": "11936c39-061b-4b2c-89bf-5887ac32ba4e",
   "metadata": {},
   "outputs": [],
   "source": [
    "clustering_df.insert(0, \"cluster_id\", clustering_results[\"cluster_id\"])\n",
    "k = clustering_df.groupby(\"cluster_id\").mean()\n",
    "k.insert(0, \"count\", clustering_df[\"cluster_id\"].value_counts())\n",
    "k = k.sort_values(\"count\", ascending=False)\n",
    "clustering_df.drop(\"cluster_id\", axis=1, inplace=True)"
   ]
  },
  {
   "cell_type": "code",
   "execution_count": 76,
   "id": "ec651fdc-8be2-4551-91bd-8b70b4ba1b92",
   "metadata": {},
   "outputs": [],
   "source": [
    "# k.insert(0, \"count\", clustering_df[\"cluster_id\"].value_counts())"
   ]
  },
  {
   "cell_type": "code",
   "execution_count": 77,
   "id": "c700d5d5-4d50-4ae5-8c1c-4522cdb14db9",
   "metadata": {},
   "outputs": [],
   "source": [
    "a = k.iloc[:, 1:]"
   ]
  },
  {
   "cell_type": "code",
   "execution_count": null,
   "id": "c23d75ef-b34c-4b4a-85d8-37effbcd582d",
   "metadata": {},
   "outputs": [],
   "source": []
  },
  {
   "cell_type": "code",
   "execution_count": null,
   "id": "fa413c56-ed09-4fd6-a267-b73d1280d7ec",
   "metadata": {},
   "outputs": [],
   "source": []
  },
  {
   "cell_type": "code",
   "execution_count": 78,
   "id": "8871373f-46f6-413a-b3a3-b1f0be0fa678",
   "metadata": {},
   "outputs": [
    {
     "data": {
      "image/png": "[encoded data removed]",
      "text/plain": [
       "<Figure size 1400x500 with 1 Axes>"
      ]
     },
     "metadata": {},
     "output_type": "display_data"
    },
    {
     "name": "stdout",
     "output_type": "stream",
     "text": [
      "18.41317128350665\n",
      "26.4990973770489\n",
      "26.553504949253742\n",
      "24.98606223416776\n"
     ]
    }
   ],
   "source": [
    "fig, ax = plt.subplots(figsize=(14, 5))\n",
    "abs_mean = []\n",
    "n = 4\n",
    "decrease = 0\n",
    "for i in a.index[:n]:\n",
    "    # ax.plot(a.columns[1:] / 1000, a.loc[i, 100.0:])\n",
    "    ax.plot(a.columns / 1000, a.loc[i, :], alpha=0.8 - 0.4 * np.sqrt(decrease))\n",
    "    decrease += 1\n",
    "    \n",
    "    abs_mean.append(a.loc[i, :].apply(abs).sum())\n",
    "\n",
    "# ax.set_title(f\"Accelerations of train {train_num} during {str(dates[0].date())} - {str(dates[-1].date())}\")\n",
    "ax.set_ylabel(\"acceleration ($m/s^2$)\")\n",
    "ax.set_xlabel(\"distance ($km$)\")\n",
    "ax.set_ylim(-0.5, 0.5)\n",
    "ax.legend(k[\"count\"].head(n))\n",
    "ax.grid()\n",
    "plt.show()\n",
    "\n",
    "for m in abs_mean:\n",
    "    print(m)"
   ]
  },
  {
   "cell_type": "code",
   "execution_count": 79,
   "id": "f480b1f2-1581-453c-9ce2-a1e7e8e5179d",
   "metadata": {},
   "outputs": [
    {
     "data": {
      "text/plain": [
       "0.6948603200143133"
      ]
     },
     "execution_count": 79,
     "metadata": {},
     "output_type": "execute_result"
    }
   ],
   "source": [
    "abs_mean[0] / abs_mean[1]"
   ]
  },
  {
   "cell_type": "code",
   "execution_count": null,
   "id": "363c1cef-8c1b-450c-b482-061e5df0164e",
   "metadata": {},
   "outputs": [],
   "source": []
  },
  {
   "cell_type": "code",
   "execution_count": null,
   "id": "ef9d0f72-8a8c-4c2a-8675-483826239bb1",
   "metadata": {},
   "outputs": [],
   "source": []
  },
  {
   "cell_type": "code",
   "execution_count": null,
   "id": "90a5d15e-76b8-4921-9b75-46307f73b3a4",
   "metadata": {},
   "outputs": [],
   "source": []
  },
  {
   "cell_type": "code",
   "execution_count": null,
   "id": "d0d2b824-9ad2-4712-ae50-344878e181fc",
   "metadata": {},
   "outputs": [],
   "source": []
  },
  {
   "cell_type": "code",
   "execution_count": 80,
   "id": "570ca44f-0b44-4bb8-98d6-99fb5ae9e90f",
   "metadata": {},
   "outputs": [
    {
     "data": {
      "text/plain": [
       "(25, 560)"
      ]
     },
     "execution_count": 80,
     "metadata": {},
     "output_type": "execute_result"
    }
   ],
   "source": [
    "km.cluster_centers_.shape"
   ]
  },
  {
   "cell_type": "code",
   "execution_count": 81,
   "id": "6c69284c-2208-4076-9361-fdb64e47ab31",
   "metadata": {},
   "outputs": [
    {
     "data": {
      "image/png": "[encoded data removed]",
      "text/plain": [
       "<Figure size 1400x500 with 1 Axes>"
      ]
     },
     "metadata": {},
     "output_type": "display_data"
    },
    {
     "name": "stdout",
     "output_type": "stream",
     "text": [
      "18.41317128350665\n",
      "26.4990973770489\n",
      "26.55350494925375\n",
      "24.98606223416776\n"
     ]
    },
    {
     "data": {
      "text/plain": [
       "0.6948603200143133"
      ]
     },
     "execution_count": 81,
     "metadata": {},
     "output_type": "execute_result"
    }
   ],
   "source": [
    "fig, ax = plt.subplots(figsize=(14, 5))\n",
    "abs_mean = []\n",
    "n = 4\n",
    "decrease = 0\n",
    "for i in a.index[:n]:\n",
    "    # ax.plot(checkpoints / 1000, km.cluster_centers_[i, :])\n",
    "    ax.plot(a.columns / 1000, a.loc[i, :], alpha=0.8 - 0.4 * np.sqrt(decrease))\n",
    "    decrease += 1\n",
    "    \n",
    "    abs_mean.append(abs(km.cluster_centers_[i, :]).sum())\n",
    "\n",
    "# ax.set_title(f\"Accelerations of train {train_num} during {str(dates[0].date())} - {str(dates[-1].date())}\")\n",
    "ax.set_ylabel(\"acceleration ($m/s^2$)\")\n",
    "ax.set_xlabel(\"distance ($km$)\")\n",
    "ax.set_ylim(-0.5, 0.5)\n",
    "ax.legend(k[\"count\"].head(n))\n",
    "ax.grid()\n",
    "plt.show()\n",
    "\n",
    "for m in abs_mean:\n",
    "    print(m)\n",
    "\n",
    "abs_mean[0] / abs_mean[1]"
   ]
  },
  {
   "cell_type": "code",
   "execution_count": null,
   "id": "d8f35d33-cc71-467e-8818-b48f7e78e170",
   "metadata": {},
   "outputs": [],
   "source": []
  }
 ],
 "metadata": {
  "kernelspec": {
   "display_name": "Python 3 (ipykernel)",
   "language": "python",
   "name": "python3"
  },
  "language_info": {
   "codemirror_mode": {
    "name": "ipython",
    "version": 3
   },
   "file_extension": ".py",
   "mimetype": "text/x-python",
   "name": "python",
   "nbconvert_exporter": "python",
   "pygments_lexer": "ipython3",
   "version": "3.9.7"
  }
 },
 "nbformat": 4,
 "nbformat_minor": 5
}
