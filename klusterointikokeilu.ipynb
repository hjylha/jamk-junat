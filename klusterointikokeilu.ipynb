{
 "cells": [
  {
   "cell_type": "code",
   "execution_count": 1,
   "id": "a57c01ed-d782-465d-959e-f5f3772ed7d2",
   "metadata": {},
   "outputs": [],
   "source": [
    "import time\n",
    "\n",
    "import numpy as np\n",
    "import pandas as pd\n",
    "import matplotlib.pyplot as plt\n",
    "import seaborn as sns\n",
    "\n",
    "from sklearn.cluster import KMeans\n",
    "\n",
    "from sklearn.neighbors import KNeighborsClassifier\n",
    "from sklearn.metrics import accuracy_score, classification_report\n",
    "from sklearn.model_selection import train_test_split\n",
    "\n",
    "import py_scripts.db_fcns as db\n",
    "import py_scripts.data_fcns as fcns"
   ]
  },
  {
   "cell_type": "code",
   "execution_count": null,
   "id": "16c3d62b-7bb8-4c21-befb-47fc12055b58",
   "metadata": {},
   "outputs": [],
   "source": []
  },
  {
   "cell_type": "code",
   "execution_count": null,
   "id": "5d7dcbc7-528b-4d09-8369-96df7d6d2799",
   "metadata": {},
   "outputs": [],
   "source": []
  },
  {
   "cell_type": "code",
   "execution_count": null,
   "id": "bf9252ed-ba97-4646-8c9b-e47e99afb4b6",
   "metadata": {},
   "outputs": [],
   "source": []
  },
  {
   "cell_type": "code",
   "execution_count": null,
   "id": "88c526d8-9378-47e6-903f-f05f5121019a",
   "metadata": {},
   "outputs": [],
   "source": []
  },
  {
   "cell_type": "code",
   "execution_count": 2,
   "id": "ed2d5bd5-dc8b-4e10-a40c-d0f5d2af66d2",
   "metadata": {},
   "outputs": [],
   "source": [
    "alkuasema = \"JÄS\"\n",
    "loppuasema = \"OV\"\n",
    "# dates = pd.date_range(\"2023-01-01\", periods=2, freq=\"1D\")\n",
    "dates = pd.date_range(\"2022-04-01\", \"2022-09-30\", freq=\"1D\")\n",
    "# date = \"2023-\"\n",
    "\n",
    "timetables = pd.DataFrame()\n",
    "for date in dates:\n",
    "    new_table = fcns.get_train_nums(alkuasema, loppuasema, str(date.date()))\n",
    "    if new_table is None:\n",
    "        continue\n",
    "    new_table[\"departureDate\"] = str(date.date())\n",
    "    timetables = pd.concat([timetables, new_table])\n",
    "# train_nums = fcns.get_train_nums(alkuasema, loppuasema, date)"
   ]
  },
  {
   "cell_type": "code",
   "execution_count": null,
   "id": "7a6ac864-7dec-44e9-9a2d-54bef6f5dd5b",
   "metadata": {},
   "outputs": [],
   "source": []
  },
  {
   "cell_type": "code",
   "execution_count": 3,
   "id": "d67ace70-0305-4baf-b1e7-5d6dca988e8b",
   "metadata": {},
   "outputs": [],
   "source": [
    "timetables[\"scheduledTime\"] = pd.to_datetime(timetables[\"scheduledTime\"])"
   ]
  },
  {
   "cell_type": "code",
   "execution_count": 4,
   "id": "5815cc10-2cd5-40cc-ab2e-d117cb6f936f",
   "metadata": {},
   "outputs": [
    {
     "name": "stdout",
     "output_type": "stream",
     "text": [
      "<class 'pandas.core.frame.DataFrame'>\n",
      "Int64Index: 182220 entries, 24 to 37\n",
      "Data columns (total 11 columns):\n",
      " #   Column            Non-Null Count   Dtype              \n",
      "---  ------            --------------   -----              \n",
      " 0   stationShortCode  182220 non-null  object             \n",
      " 1   stationUICCode    182220 non-null  int64              \n",
      " 2   countryCode       182220 non-null  object             \n",
      " 3   type              182220 non-null  object             \n",
      " 4   trainStopping     182220 non-null  bool               \n",
      " 5   commercialStop    34664 non-null   object             \n",
      " 6   commercialTrack   182220 non-null  object             \n",
      " 7   cancelled         182220 non-null  bool               \n",
      " 8   scheduledTime     182220 non-null  datetime64[ns, UTC]\n",
      " 9   trainNumber       182220 non-null  int64              \n",
      " 10  departureDate     182220 non-null  object             \n",
      "dtypes: bool(2), datetime64[ns, UTC](1), int64(2), object(6)\n",
      "memory usage: 14.2+ MB\n"
     ]
    }
   ],
   "source": [
    "timetables.info()"
   ]
  },
  {
   "cell_type": "code",
   "execution_count": 5,
   "id": "ca0e7119-4b29-467e-abdf-08e1b8dda477",
   "metadata": {},
   "outputs": [
    {
     "data": {
      "text/plain": [
       "array(['DEPARTURE', 'ARRIVAL'], dtype=object)"
      ]
     },
     "execution_count": 5,
     "metadata": {},
     "output_type": "execute_result"
    }
   ],
   "source": [
    "timetables[\"type\"].unique()"
   ]
  },
  {
   "cell_type": "code",
   "execution_count": 6,
   "id": "e6b8e5d1-9fc7-4115-9426-8820bb8795b8",
   "metadata": {},
   "outputs": [
    {
     "data": {
      "text/html": [
       "<div>\n",
       "<style scoped>\n",
       "    .dataframe tbody tr th:only-of-type {\n",
       "        vertical-align: middle;\n",
       "    }\n",
       "\n",
       "    .dataframe tbody tr th {\n",
       "        vertical-align: top;\n",
       "    }\n",
       "\n",
       "    .dataframe thead th {\n",
       "        text-align: right;\n",
       "    }\n",
       "</style>\n",
       "<table border=\"1\" class=\"dataframe\">\n",
       "  <thead>\n",
       "    <tr style=\"text-align: right;\">\n",
       "      <th></th>\n",
       "      <th>stationShortCode</th>\n",
       "      <th>stationUICCode</th>\n",
       "      <th>countryCode</th>\n",
       "      <th>type</th>\n",
       "      <th>trainStopping</th>\n",
       "      <th>commercialStop</th>\n",
       "      <th>commercialTrack</th>\n",
       "      <th>cancelled</th>\n",
       "      <th>scheduledTime</th>\n",
       "      <th>trainNumber</th>\n",
       "      <th>departureDate</th>\n",
       "    </tr>\n",
       "  </thead>\n",
       "  <tbody>\n",
       "    <tr>\n",
       "      <th>24</th>\n",
       "      <td>TPE</td>\n",
       "      <td>160</td>\n",
       "      <td>FI</td>\n",
       "      <td>DEPARTURE</td>\n",
       "      <td>True</td>\n",
       "      <td>True</td>\n",
       "      <td>3</td>\n",
       "      <td>False</td>\n",
       "      <td>2022-04-01 04:04:00+00:00</td>\n",
       "      <td>80</td>\n",
       "      <td>2022-04-01</td>\n",
       "    </tr>\n",
       "    <tr>\n",
       "      <th>25</th>\n",
       "      <td>SJ</td>\n",
       "      <td>157</td>\n",
       "      <td>FI</td>\n",
       "      <td>ARRIVAL</td>\n",
       "      <td>False</td>\n",
       "      <td>NaN</td>\n",
       "      <td></td>\n",
       "      <td>False</td>\n",
       "      <td>2022-04-01 04:10:00+00:00</td>\n",
       "      <td>80</td>\n",
       "      <td>2022-04-01</td>\n",
       "    </tr>\n",
       "    <tr>\n",
       "      <th>26</th>\n",
       "      <td>SJ</td>\n",
       "      <td>157</td>\n",
       "      <td>FI</td>\n",
       "      <td>DEPARTURE</td>\n",
       "      <td>False</td>\n",
       "      <td>NaN</td>\n",
       "      <td></td>\n",
       "      <td>False</td>\n",
       "      <td>2022-04-01 04:10:00+00:00</td>\n",
       "      <td>80</td>\n",
       "      <td>2022-04-01</td>\n",
       "    </tr>\n",
       "    <tr>\n",
       "      <th>27</th>\n",
       "      <td>VTR</td>\n",
       "      <td>1295</td>\n",
       "      <td>FI</td>\n",
       "      <td>ARRIVAL</td>\n",
       "      <td>False</td>\n",
       "      <td>NaN</td>\n",
       "      <td></td>\n",
       "      <td>False</td>\n",
       "      <td>2022-04-01 04:12:00+00:00</td>\n",
       "      <td>80</td>\n",
       "      <td>2022-04-01</td>\n",
       "    </tr>\n",
       "    <tr>\n",
       "      <th>28</th>\n",
       "      <td>VTR</td>\n",
       "      <td>1295</td>\n",
       "      <td>FI</td>\n",
       "      <td>DEPARTURE</td>\n",
       "      <td>False</td>\n",
       "      <td>NaN</td>\n",
       "      <td></td>\n",
       "      <td>False</td>\n",
       "      <td>2022-04-01 04:12:00+00:00</td>\n",
       "      <td>80</td>\n",
       "      <td>2022-04-01</td>\n",
       "    </tr>\n",
       "    <tr>\n",
       "      <th>29</th>\n",
       "      <td>LPÄ</td>\n",
       "      <td>156</td>\n",
       "      <td>FI</td>\n",
       "      <td>ARRIVAL</td>\n",
       "      <td>True</td>\n",
       "      <td>True</td>\n",
       "      <td>1</td>\n",
       "      <td>False</td>\n",
       "      <td>2022-04-01 04:15:00+00:00</td>\n",
       "      <td>80</td>\n",
       "      <td>2022-04-01</td>\n",
       "    </tr>\n",
       "    <tr>\n",
       "      <th>30</th>\n",
       "      <td>LPÄ</td>\n",
       "      <td>156</td>\n",
       "      <td>FI</td>\n",
       "      <td>DEPARTURE</td>\n",
       "      <td>True</td>\n",
       "      <td>True</td>\n",
       "      <td>1</td>\n",
       "      <td>False</td>\n",
       "      <td>2022-04-01 04:16:00+00:00</td>\n",
       "      <td>80</td>\n",
       "      <td>2022-04-01</td>\n",
       "    </tr>\n",
       "    <tr>\n",
       "      <th>31</th>\n",
       "      <td>MAT</td>\n",
       "      <td>1172</td>\n",
       "      <td>FI</td>\n",
       "      <td>ARRIVAL</td>\n",
       "      <td>False</td>\n",
       "      <td>NaN</td>\n",
       "      <td></td>\n",
       "      <td>False</td>\n",
       "      <td>2022-04-01 04:19:00+00:00</td>\n",
       "      <td>80</td>\n",
       "      <td>2022-04-01</td>\n",
       "    </tr>\n",
       "    <tr>\n",
       "      <th>32</th>\n",
       "      <td>MAT</td>\n",
       "      <td>1172</td>\n",
       "      <td>FI</td>\n",
       "      <td>DEPARTURE</td>\n",
       "      <td>False</td>\n",
       "      <td>NaN</td>\n",
       "      <td></td>\n",
       "      <td>False</td>\n",
       "      <td>2022-04-01 04:19:00+00:00</td>\n",
       "      <td>80</td>\n",
       "      <td>2022-04-01</td>\n",
       "    </tr>\n",
       "    <tr>\n",
       "      <th>33</th>\n",
       "      <td>VIA</td>\n",
       "      <td>155</td>\n",
       "      <td>FI</td>\n",
       "      <td>ARRIVAL</td>\n",
       "      <td>False</td>\n",
       "      <td>NaN</td>\n",
       "      <td></td>\n",
       "      <td>False</td>\n",
       "      <td>2022-04-01 04:21:00+00:00</td>\n",
       "      <td>80</td>\n",
       "      <td>2022-04-01</td>\n",
       "    </tr>\n",
       "  </tbody>\n",
       "</table>\n",
       "</div>"
      ],
      "text/plain": [
       "   stationShortCode  stationUICCode countryCode       type  trainStopping  \\\n",
       "24              TPE             160          FI  DEPARTURE           True   \n",
       "25               SJ             157          FI    ARRIVAL          False   \n",
       "26               SJ             157          FI  DEPARTURE          False   \n",
       "27              VTR            1295          FI    ARRIVAL          False   \n",
       "28              VTR            1295          FI  DEPARTURE          False   \n",
       "29              LPÄ             156          FI    ARRIVAL           True   \n",
       "30              LPÄ             156          FI  DEPARTURE           True   \n",
       "31              MAT            1172          FI    ARRIVAL          False   \n",
       "32              MAT            1172          FI  DEPARTURE          False   \n",
       "33              VIA             155          FI    ARRIVAL          False   \n",
       "\n",
       "   commercialStop commercialTrack  cancelled             scheduledTime  \\\n",
       "24           True               3      False 2022-04-01 04:04:00+00:00   \n",
       "25            NaN                      False 2022-04-01 04:10:00+00:00   \n",
       "26            NaN                      False 2022-04-01 04:10:00+00:00   \n",
       "27            NaN                      False 2022-04-01 04:12:00+00:00   \n",
       "28            NaN                      False 2022-04-01 04:12:00+00:00   \n",
       "29           True               1      False 2022-04-01 04:15:00+00:00   \n",
       "30           True               1      False 2022-04-01 04:16:00+00:00   \n",
       "31            NaN                      False 2022-04-01 04:19:00+00:00   \n",
       "32            NaN                      False 2022-04-01 04:19:00+00:00   \n",
       "33            NaN                      False 2022-04-01 04:21:00+00:00   \n",
       "\n",
       "    trainNumber departureDate  \n",
       "24           80    2022-04-01  \n",
       "25           80    2022-04-01  \n",
       "26           80    2022-04-01  \n",
       "27           80    2022-04-01  \n",
       "28           80    2022-04-01  \n",
       "29           80    2022-04-01  \n",
       "30           80    2022-04-01  \n",
       "31           80    2022-04-01  \n",
       "32           80    2022-04-01  \n",
       "33           80    2022-04-01  "
      ]
     },
     "execution_count": 6,
     "metadata": {},
     "output_type": "execute_result"
    }
   ],
   "source": [
    "timetables.head(10)"
   ]
  },
  {
   "cell_type": "code",
   "execution_count": 7,
   "id": "8863f0d3-5833-463a-b964-c00a383ed493",
   "metadata": {},
   "outputs": [],
   "source": [
    "uniques = timetables.apply(lambda r: (r[\"trainNumber\"], r[\"departureDate\"]), axis=1).unique()"
   ]
  },
  {
   "cell_type": "code",
   "execution_count": 8,
   "id": "70ba5749-5a8c-4db8-b505-efbfd5eb2d02",
   "metadata": {},
   "outputs": [
    {
     "data": {
      "text/plain": [
       "1684"
      ]
     },
     "execution_count": 8,
     "metadata": {},
     "output_type": "execute_result"
    }
   ],
   "source": [
    "len(uniques)"
   ]
  },
  {
   "cell_type": "code",
   "execution_count": 9,
   "id": "ad8dcac5-bfa5-4d9c-9174-48a7829e017b",
   "metadata": {},
   "outputs": [],
   "source": [
    "# time_df = pd.DataFrame()\n",
    "# for num, date in uniques:\n",
    "    # time_df = pd.concat([time_df, fcns.get_train_timetable(num, date)])"
   ]
  },
  {
   "cell_type": "code",
   "execution_count": 10,
   "id": "f49d7fca-2f5d-4244-b053-b44053fb0297",
   "metadata": {},
   "outputs": [],
   "source": [
    "# time_df.info()"
   ]
  },
  {
   "cell_type": "code",
   "execution_count": 11,
   "id": "d54e6e81-186a-4c56-ad0b-51178f733eef",
   "metadata": {},
   "outputs": [],
   "source": [
    "# time_df[\"differenceInMinutes\"].describe()"
   ]
  },
  {
   "cell_type": "code",
   "execution_count": 12,
   "id": "33e79029-7c89-4e9d-8998-5a52b4f36e96",
   "metadata": {},
   "outputs": [],
   "source": [
    "# df[df[\"station\"] == alkuasema].index.max()"
   ]
  },
  {
   "cell_type": "code",
   "execution_count": 13,
   "id": "c5e028e2-f7fd-40c3-a0ca-1d50069a13fb",
   "metadata": {},
   "outputs": [],
   "source": [
    "# num = df.iloc[1157, :][\"trainNumber\"]\n",
    "# date = df.iloc[1157, :][\"departureDate\"]\n",
    "# d = df.iloc[1157, :][\"dist_from_speed\"]\n",
    "# c = df.iloc[1157, :][\"dist_from_coords\"]"
   ]
  },
  {
   "cell_type": "code",
   "execution_count": 14,
   "id": "71ea7294-4255-4ad5-a8b3-4eebe3de045d",
   "metadata": {},
   "outputs": [],
   "source": [
    "def some_dict(train_num, date, d, c):\n",
    "    return {\"trainNumber\": train_num, \n",
    "            \"departureDate\": date, \n",
    "            \"dist_from_speed\": d, \n",
    "            \"dist_from_coords\": c\n",
    "           }"
   ]
  },
  {
   "cell_type": "code",
   "execution_count": 15,
   "id": "1e1e4de2-bf6f-4888-a7c1-342e08f68443",
   "metadata": {},
   "outputs": [],
   "source": [
    "# some_dict(num, date, d, c)"
   ]
  },
  {
   "cell_type": "code",
   "execution_count": 16,
   "id": "d17f492c-5f37-4f53-9d52-fe42a7d40ba9",
   "metadata": {},
   "outputs": [],
   "source": [
    "# test = pd.DataFrame()\n",
    "# test = pd.concat([test, pd.DataFrame([some_dict(num, date, d, c)])])\n",
    "# test = pd.concat([test, pd.DataFrame([some_dict(num, date, d, c)])])\n",
    "# test"
   ]
  },
  {
   "cell_type": "code",
   "execution_count": null,
   "id": "11bd15eb-7482-4b67-8abe-b1105fc7bc4e",
   "metadata": {},
   "outputs": [],
   "source": []
  },
  {
   "cell_type": "code",
   "execution_count": 17,
   "id": "9bd40645-24bc-46ec-8b0d-8a4130ca33ae",
   "metadata": {},
   "outputs": [],
   "source": [
    "def get_data():\n",
    "    df = pd.DataFrame()\n",
    "    distances = pd.DataFrame()\n",
    "\n",
    "    for num, date in uniques:\n",
    "        try:\n",
    "            new_df = fcns.get_train_location_data(num, date, False)\n",
    "        except KeyError as e:\n",
    "            print(f\"{type(e)}: {e} [{date=}, {num=}]\")\n",
    "            continue\n",
    "        if new_df is None:\n",
    "            continue\n",
    "            \n",
    "        alku = new_df[new_df[\"station\"] == alkuasema]\n",
    "        if len(alku) > 0:\n",
    "            index1 = alku.index.max()\n",
    "        else:\n",
    "            continue\n",
    "        loppu = new_df[new_df[\"station\"] == loppuasema]\n",
    "        if len(loppu) > 0:\n",
    "            index2 = loppu.index.min()\n",
    "        else:\n",
    "            continue\n",
    "        dist_from_speed = new_df.loc[index2, \"dist_from_speed\"] - new_df.loc[index1, \"dist_from_speed\"]\n",
    "        dist_from_coords = new_df.loc[index2, \"dist_from_coords\"] - new_df.loc[index1, \"dist_from_coords\"]\n",
    "        distances = pd.concat([distances, pd.DataFrame([some_dict(num, date, dist_from_speed, dist_from_coords)])])\n",
    "\n",
    "        new_df = new_df.loc[index1:index2, :]\n",
    "        new_df[\"dist_from_speed\"] = new_df[\"dist_from_speed\"] - new_df[\"dist_from_speed\"].min()\n",
    "        new_df[\"dist_from_coords\"] = new_df[\"dist_from_coords\"] - new_df[\"dist_from_coords\"].min()\n",
    "        df = pd.concat([df, new_df])\n",
    "        \n",
    "        time.sleep(0.3)\n",
    "        \n",
    "    return [df, distances]"
   ]
  },
  {
   "cell_type": "code",
   "execution_count": 18,
   "id": "9d65a662-3b11-436b-8662-8d0374461b9c",
   "metadata": {},
   "outputs": [
    {
     "name": "stdout",
     "output_type": "stream",
     "text": [
      "Data not found: train_num=148, date='2022-04-02'\n",
      "Data not found: train_num=80, date='2022-04-04'\n",
      "Data not found: train_num=148, date='2022-04-24'\n",
      "Data not found: train_num=148, date='2022-05-07'\n",
      "Data not found: train_num=148, date='2022-05-12'\n",
      "Data not found: train_num=148, date='2022-05-19'\n",
      "Data not found: train_num=148, date='2022-06-01'\n",
      "Data not found: train_num=80, date='2022-06-27'\n",
      "Data not found: train_num=80, date='2022-07-01'\n",
      "Data not found: train_num=94, date='2022-08-19'\n",
      "Data not found: train_num=140, date='2022-09-19'\n"
     ]
    }
   ],
   "source": [
    "df = None\n",
    "distances = None\n",
    "\n",
    "use_db = False\n",
    "\n",
    "if use_db:\n",
    "    df = db.get_df_from_db(\"testi\")\n",
    "    distances = db.get_df_from_db(\"testi_distances\")\n",
    "\n",
    "if df is None or distances is None:\n",
    "    df, distances = get_data()"
   ]
  },
  {
   "cell_type": "code",
   "execution_count": 19,
   "id": "fb0a2bbe-477c-4989-b01f-79d91c027069",
   "metadata": {},
   "outputs": [
    {
     "name": "stdout",
     "output_type": "stream",
     "text": [
      "<class 'pandas.core.frame.DataFrame'>\n",
      "Int64Index: 161180 entries, 122 to 548\n",
      "Data columns (total 13 columns):\n",
      " #   Column              Non-Null Count   Dtype              \n",
      "---  ------              --------------   -----              \n",
      " 0   trainNumber         161180 non-null  int64              \n",
      " 1   departureDate       161180 non-null  object             \n",
      " 2   timestamp           161180 non-null  datetime64[ns, UTC]\n",
      " 3   speed               161180 non-null  int64              \n",
      " 4   duration            161180 non-null  float64            \n",
      " 5   latitude            161180 non-null  float64            \n",
      " 6   longitude           161180 non-null  float64            \n",
      " 7   acceleration        161180 non-null  float64            \n",
      " 8   change_of_location  161180 non-null  float64            \n",
      " 9   dist_from_coords    161180 non-null  float64            \n",
      " 10  dist_from_speed     161180 non-null  float64            \n",
      " 11  stops_from_speed    161180 non-null  int64              \n",
      " 12  station             2811 non-null    object             \n",
      "dtypes: datetime64[ns, UTC](1), float64(7), int64(3), object(2)\n",
      "memory usage: 17.2+ MB\n"
     ]
    }
   ],
   "source": [
    "# 42766 entries, 13 columns\n",
    "df.info()"
   ]
  },
  {
   "cell_type": "code",
   "execution_count": 20,
   "id": "527fe57d-1261-44e9-9d9d-d8ecc056b082",
   "metadata": {},
   "outputs": [
    {
     "name": "stdout",
     "output_type": "stream",
     "text": [
      "<class 'pandas.core.frame.DataFrame'>\n",
      "Int64Index: 1305 entries, 0 to 0\n",
      "Data columns (total 4 columns):\n",
      " #   Column            Non-Null Count  Dtype  \n",
      "---  ------            --------------  -----  \n",
      " 0   trainNumber       1305 non-null   int64  \n",
      " 1   departureDate     1305 non-null   object \n",
      " 2   dist_from_speed   1305 non-null   float64\n",
      " 3   dist_from_coords  1305 non-null   float64\n",
      "dtypes: float64(2), int64(1), object(1)\n",
      "memory usage: 51.0+ KB\n"
     ]
    }
   ],
   "source": [
    "# 212 entries, 4 columns\n",
    "distances.info()"
   ]
  },
  {
   "cell_type": "code",
   "execution_count": 21,
   "id": "65707d6e-cbbd-49ff-b93a-99e460b63a10",
   "metadata": {},
   "outputs": [
    {
     "data": {
      "text/html": [
       "<div>\n",
       "<style scoped>\n",
       "    .dataframe tbody tr th:only-of-type {\n",
       "        vertical-align: middle;\n",
       "    }\n",
       "\n",
       "    .dataframe tbody tr th {\n",
       "        vertical-align: top;\n",
       "    }\n",
       "\n",
       "    .dataframe thead th {\n",
       "        text-align: right;\n",
       "    }\n",
       "</style>\n",
       "<table border=\"1\" class=\"dataframe\">\n",
       "  <thead>\n",
       "    <tr style=\"text-align: right;\">\n",
       "      <th></th>\n",
       "      <th>dist_from_speed</th>\n",
       "      <th>dist_from_coords</th>\n",
       "    </tr>\n",
       "  </thead>\n",
       "  <tbody>\n",
       "    <tr>\n",
       "      <th>count</th>\n",
       "      <td>1305.000000</td>\n",
       "      <td>1305.000000</td>\n",
       "    </tr>\n",
       "    <tr>\n",
       "      <th>mean</th>\n",
       "      <td>55878.060026</td>\n",
       "      <td>56699.175514</td>\n",
       "    </tr>\n",
       "    <tr>\n",
       "      <th>std</th>\n",
       "      <td>954.979897</td>\n",
       "      <td>9089.027928</td>\n",
       "    </tr>\n",
       "    <tr>\n",
       "      <th>min</th>\n",
       "      <td>40549.166667</td>\n",
       "      <td>51220.111309</td>\n",
       "    </tr>\n",
       "    <tr>\n",
       "      <th>25%</th>\n",
       "      <td>55786.111111</td>\n",
       "      <td>55438.758124</td>\n",
       "    </tr>\n",
       "    <tr>\n",
       "      <th>50%</th>\n",
       "      <td>55901.388889</td>\n",
       "      <td>55528.163342</td>\n",
       "    </tr>\n",
       "    <tr>\n",
       "      <th>75%</th>\n",
       "      <td>56000.833333</td>\n",
       "      <td>55735.921545</td>\n",
       "    </tr>\n",
       "    <tr>\n",
       "      <th>max</th>\n",
       "      <td>62320.555556</td>\n",
       "      <td>356808.125073</td>\n",
       "    </tr>\n",
       "  </tbody>\n",
       "</table>\n",
       "</div>"
      ],
      "text/plain": [
       "       dist_from_speed  dist_from_coords\n",
       "count      1305.000000       1305.000000\n",
       "mean      55878.060026      56699.175514\n",
       "std         954.979897       9089.027928\n",
       "min       40549.166667      51220.111309\n",
       "25%       55786.111111      55438.758124\n",
       "50%       55901.388889      55528.163342\n",
       "75%       56000.833333      55735.921545\n",
       "max       62320.555556     356808.125073"
      ]
     },
     "execution_count": 21,
     "metadata": {},
     "output_type": "execute_result"
    }
   ],
   "source": [
    "distances.loc[:, [\"dist_from_speed\", \"dist_from_coords\"]].describe()"
   ]
  },
  {
   "cell_type": "code",
   "execution_count": 22,
   "id": "6cd611a1-f45b-442e-9b75-5541445ff8de",
   "metadata": {},
   "outputs": [],
   "source": [
    "# mean / median\n",
    "\n",
    "# koko tammikuu\n",
    "# based on speed\n",
    "# 55.75 km / 55.90 km\n",
    "# based on coords\n",
    "# 55.25 km / 55.61 km\n",
    "\n",
    "# 2 ekaa päivää\n",
    "# based on speed\n",
    "# 55.97 km / 55.91 km\n",
    "# based on coords\n",
    "# 55.34 km / 55.55 km"
   ]
  },
  {
   "cell_type": "code",
   "execution_count": 23,
   "id": "016edbbb-e22e-4e65-9181-15051643c6bd",
   "metadata": {},
   "outputs": [
    {
     "data": {
      "text/plain": [
       "55900.0"
      ]
     },
     "execution_count": 23,
     "metadata": {},
     "output_type": "execute_result"
    }
   ],
   "source": [
    "best_dist = round(distances[\"dist_from_speed\"].mean(), -2)\n",
    "best_dist"
   ]
  },
  {
   "cell_type": "code",
   "execution_count": 24,
   "id": "967473a9-6fe3-4181-b39b-8d6e0142c9e4",
   "metadata": {},
   "outputs": [],
   "source": [
    "# joku yritys\n",
    "# df.groupby([\"trainNumber\", \"departureDate\"])[[\"dist_from_coords\", \"dist_from_speed\"]].describe()"
   ]
  },
  {
   "cell_type": "code",
   "execution_count": null,
   "id": "403143c0-0267-4f4e-b54e-d24f5b5e9de8",
   "metadata": {},
   "outputs": [],
   "source": []
  },
  {
   "cell_type": "code",
   "execution_count": null,
   "id": "ce918657-e808-4479-ab13-ce7ea81e6045",
   "metadata": {},
   "outputs": [],
   "source": []
  },
  {
   "cell_type": "code",
   "execution_count": null,
   "id": "2a0e5fbb-9507-43cb-90d7-f294a79751cf",
   "metadata": {},
   "outputs": [],
   "source": []
  },
  {
   "cell_type": "code",
   "execution_count": 25,
   "id": "07e70351-44a8-4575-891a-349ae4d36f83",
   "metadata": {},
   "outputs": [
    {
     "data": {
      "text/html": [
       "<div>\n",
       "<style scoped>\n",
       "    .dataframe tbody tr th:only-of-type {\n",
       "        vertical-align: middle;\n",
       "    }\n",
       "\n",
       "    .dataframe tbody tr th {\n",
       "        vertical-align: top;\n",
       "    }\n",
       "\n",
       "    .dataframe thead th {\n",
       "        text-align: right;\n",
       "    }\n",
       "</style>\n",
       "<table border=\"1\" class=\"dataframe\">\n",
       "  <thead>\n",
       "    <tr style=\"text-align: right;\">\n",
       "      <th></th>\n",
       "      <th>trainNumber</th>\n",
       "      <th>departureDate</th>\n",
       "      <th>timestamp</th>\n",
       "      <th>speed</th>\n",
       "      <th>duration</th>\n",
       "      <th>latitude</th>\n",
       "      <th>longitude</th>\n",
       "      <th>acceleration</th>\n",
       "      <th>change_of_location</th>\n",
       "      <th>dist_from_coords</th>\n",
       "      <th>dist_from_speed</th>\n",
       "      <th>stops_from_speed</th>\n",
       "      <th>station</th>\n",
       "    </tr>\n",
       "  </thead>\n",
       "  <tbody>\n",
       "  </tbody>\n",
       "</table>\n",
       "</div>"
      ],
      "text/plain": [
       "Empty DataFrame\n",
       "Columns: [trainNumber, departureDate, timestamp, speed, duration, latitude, longitude, acceleration, change_of_location, dist_from_coords, dist_from_speed, stops_from_speed, station]\n",
       "Index: []"
      ]
     },
     "execution_count": 25,
     "metadata": {},
     "output_type": "execute_result"
    }
   ],
   "source": [
    "# joitain kiihtyvyyksiä puuttuu?\n",
    "df[df[\"acceleration\"].isna()]"
   ]
  },
  {
   "cell_type": "code",
   "execution_count": null,
   "id": "5704a8cf-83ce-44a9-b398-cbc778ac2935",
   "metadata": {},
   "outputs": [],
   "source": []
  },
  {
   "cell_type": "code",
   "execution_count": null,
   "id": "281ca89a-b25d-4b15-9a7f-c87fdeb2fe44",
   "metadata": {},
   "outputs": [],
   "source": []
  },
  {
   "cell_type": "code",
   "execution_count": 26,
   "id": "f757f919-0603-4ef4-97bb-34ba9a8ecab4",
   "metadata": {},
   "outputs": [],
   "source": [
    "# \"testi\"\n",
    "# import py_scripts.db_fcns as db\n",
    "# db.save_df_to_db(df, \"testi\")"
   ]
  },
  {
   "cell_type": "code",
   "execution_count": 27,
   "id": "5950f9ff-3d11-4bcb-a856-41a5042ec232",
   "metadata": {},
   "outputs": [],
   "source": [
    "# db.save_df_to_db(distances, \"testi_distances\")"
   ]
  },
  {
   "cell_type": "code",
   "execution_count": null,
   "id": "e36d9e5a-0962-40fd-b0b7-9e817dc3fcae",
   "metadata": {},
   "outputs": [],
   "source": []
  },
  {
   "cell_type": "code",
   "execution_count": null,
   "id": "46ea1c31-c9ab-4f31-a05d-5a6d2885856f",
   "metadata": {},
   "outputs": [],
   "source": []
  },
  {
   "cell_type": "code",
   "execution_count": 28,
   "id": "d03c9a30-2814-4a1d-be59-e0e7853ecdc7",
   "metadata": {},
   "outputs": [],
   "source": [
    "distances.reset_index(drop=True, inplace=True)"
   ]
  },
  {
   "cell_type": "code",
   "execution_count": 29,
   "id": "4acc6712-baa7-4bc8-b953-273169e368ae",
   "metadata": {},
   "outputs": [],
   "source": [
    "trains = []\n",
    "for i in distances.index:\n",
    "    trains.append((distances.loc[i, \"trainNumber\"], distances.loc[i, \"departureDate\"]))"
   ]
  },
  {
   "cell_type": "code",
   "execution_count": 30,
   "id": "4c65e81b-f34a-4ee9-a3a5-618cf0e0f7c9",
   "metadata": {},
   "outputs": [
    {
     "data": {
      "text/plain": [
       "1305"
      ]
     },
     "execution_count": 30,
     "metadata": {},
     "output_type": "execute_result"
    }
   ],
   "source": [
    "len(trains)"
   ]
  },
  {
   "cell_type": "code",
   "execution_count": null,
   "id": "735782db-2102-49c2-a824-8a21f443702d",
   "metadata": {},
   "outputs": [],
   "source": []
  },
  {
   "cell_type": "code",
   "execution_count": null,
   "id": "ad5d0b35-36d9-4e8d-98b4-1790c4ddf02b",
   "metadata": {},
   "outputs": [],
   "source": []
  },
  {
   "cell_type": "code",
   "execution_count": 31,
   "id": "fe103f83-b379-4643-9093-75c25d38c7f7",
   "metadata": {},
   "outputs": [
    {
     "name": "stdout",
     "output_type": "stream",
     "text": [
      "<class 'pandas.core.frame.DataFrame'>\n",
      "Int64Index: 161180 entries, 122 to 548\n",
      "Data columns (total 4 columns):\n",
      " #   Column           Non-Null Count   Dtype  \n",
      "---  ------           --------------   -----  \n",
      " 0   trainNumber      161180 non-null  int64  \n",
      " 1   departureDate    161180 non-null  object \n",
      " 2   dist_from_speed  161180 non-null  float64\n",
      " 3   acceleration     161180 non-null  float64\n",
      "dtypes: float64(2), int64(1), object(1)\n",
      "memory usage: 6.1+ MB\n"
     ]
    }
   ],
   "source": [
    "main_df = df.loc[:, [\"trainNumber\", \"departureDate\", \"dist_from_speed\", \"acceleration\"]].copy()\n",
    "main_df.info()"
   ]
  },
  {
   "cell_type": "code",
   "execution_count": 32,
   "id": "8861f466-4635-493c-b4e3-707e0539b856",
   "metadata": {},
   "outputs": [],
   "source": [
    "main_df.reset_index(drop=True, inplace=True)"
   ]
  },
  {
   "cell_type": "code",
   "execution_count": null,
   "id": "400fe2e1-164c-4718-ada2-6dcd8bfa70b7",
   "metadata": {},
   "outputs": [],
   "source": []
  },
  {
   "cell_type": "code",
   "execution_count": null,
   "id": "221bb097-07e0-49ab-8a25-9222b79205c9",
   "metadata": {},
   "outputs": [],
   "source": []
  },
  {
   "cell_type": "code",
   "execution_count": null,
   "id": "b6ff8fcd-aa00-40a2-86b5-79d9e6df23b2",
   "metadata": {},
   "outputs": [],
   "source": []
  },
  {
   "cell_type": "code",
   "execution_count": 33,
   "id": "7c02e13a-702a-49f3-8672-13190c7c360a",
   "metadata": {},
   "outputs": [],
   "source": [
    "# fcns.get_locations_for_train(88, \"2023-01-01\", main_df).tail()"
   ]
  },
  {
   "cell_type": "code",
   "execution_count": 34,
   "id": "49bcd924-a12f-40cb-80c5-ab9cfffbe73d",
   "metadata": {},
   "outputs": [],
   "source": [
    "# main_df[(main_df[\"trainNumber\"] == 88) & (main_df[\"departureDate\"] == \"2023-01-01\") & (main_df[\"dist_from_speed\"] == 55700)]"
   ]
  },
  {
   "cell_type": "code",
   "execution_count": null,
   "id": "a005ec71-985e-4859-aac3-97ebbdec3fb1",
   "metadata": {},
   "outputs": [],
   "source": []
  },
  {
   "cell_type": "code",
   "execution_count": null,
   "id": "b018c1a5-29ca-4b61-b18d-5caff1b6647d",
   "metadata": {},
   "outputs": [],
   "source": []
  },
  {
   "cell_type": "code",
   "execution_count": null,
   "id": "5aff9196-a991-42f0-9be2-230d1995d0df",
   "metadata": {},
   "outputs": [],
   "source": []
  },
  {
   "cell_type": "code",
   "execution_count": 35,
   "id": "26669cbc-3b70-4bce-9bac-509e51f3b2de",
   "metadata": {},
   "outputs": [],
   "source": [
    "step_length = 100\n",
    "checkpoints = np.arange(0, best_dist + 1, step_length)"
   ]
  },
  {
   "cell_type": "code",
   "execution_count": null,
   "id": "d0b90e1b-7e73-484c-a03d-a28bc590f230",
   "metadata": {},
   "outputs": [],
   "source": []
  },
  {
   "cell_type": "code",
   "execution_count": null,
   "id": "7580982a-1dbe-4676-877a-55deb93ae170",
   "metadata": {},
   "outputs": [],
   "source": []
  },
  {
   "cell_type": "code",
   "execution_count": 36,
   "id": "4e9d1ad5-e4ca-435b-976c-86bce4367a9d",
   "metadata": {},
   "outputs": [],
   "source": [
    "for num, date in trains:\n",
    "    d = main_df[(main_df[\"trainNumber\"] == num) & (main_df[\"departureDate\"] == date)][\"dist_from_speed\"]\n",
    "    i1 = d.index.min()\n",
    "    i2 = d.index.max()\n",
    "    main_df.loc[i1:i2, \"dist_from_speed\"] = d * best_dist / d.max()"
   ]
  },
  {
   "cell_type": "code",
   "execution_count": 37,
   "id": "c7c69cb0-ba0d-4e98-924f-41ae8b33fddd",
   "metadata": {},
   "outputs": [],
   "source": [
    "def accel_dict(num, date, dist, accel=None):\n",
    "    return {\"trainNumber\": num,\n",
    "            \"departureDate\": date,\n",
    "            \"dist_from_speed\": dist,\n",
    "            \"acceleration\": accel\n",
    "           }"
   ]
  },
  {
   "cell_type": "code",
   "execution_count": 38,
   "id": "3a8076ec-1568-42d0-8937-1e21968f652e",
   "metadata": {},
   "outputs": [],
   "source": [
    "#for num, date in trains:\n",
    "    #if (maksimi := main_df[(main_df[\"trainNumber\"] == num) & (main_df[\"departureDate\"] == date)][\"dist_from_speed\"].max()) != best_dist:\n",
    "        # print(f\"ropleema: {maksimi} != {best_dist}\")"
   ]
  },
  {
   "cell_type": "code",
   "execution_count": 39,
   "id": "c9514441-acc3-430b-b800-75dedaaebb00",
   "metadata": {},
   "outputs": [],
   "source": [
    "additions = []\n",
    "for num, date in trains:\n",
    "    for d in checkpoints[1:-1]:\n",
    "        additions.append(accel_dict(num, date, d))"
   ]
  },
  {
   "cell_type": "code",
   "execution_count": 40,
   "id": "5e3dd56b-e19a-4576-8133-4787a5caab9e",
   "metadata": {},
   "outputs": [],
   "source": [
    "main_df = pd.concat([main_df, pd.DataFrame(additions)])"
   ]
  },
  {
   "cell_type": "code",
   "execution_count": 41,
   "id": "8555be8e-596e-495b-a6bc-d2413544c6e1",
   "metadata": {},
   "outputs": [
    {
     "name": "stdout",
     "output_type": "stream",
     "text": [
      "<class 'pandas.core.frame.DataFrame'>\n",
      "Int64Index: 889370 entries, 0 to 728189\n",
      "Data columns (total 4 columns):\n",
      " #   Column           Non-Null Count   Dtype  \n",
      "---  ------           --------------   -----  \n",
      " 0   trainNumber      889370 non-null  int64  \n",
      " 1   departureDate    889370 non-null  object \n",
      " 2   dist_from_speed  889370 non-null  float64\n",
      " 3   acceleration     161180 non-null  object \n",
      "dtypes: float64(1), int64(1), object(2)\n",
      "memory usage: 33.9+ MB\n"
     ]
    }
   ],
   "source": [
    "main_df.info()"
   ]
  },
  {
   "cell_type": "code",
   "execution_count": null,
   "id": "0f809c08-2ac3-44fb-ace4-a302a84deaa0",
   "metadata": {},
   "outputs": [],
   "source": []
  },
  {
   "cell_type": "code",
   "execution_count": 42,
   "id": "55d42e96-00e9-45b0-a36d-26ca6933772f",
   "metadata": {},
   "outputs": [],
   "source": [
    "main_df = main_df.sort_values([\"departureDate\", \"trainNumber\", \"dist_from_speed\"])"
   ]
  },
  {
   "cell_type": "code",
   "execution_count": 43,
   "id": "2e98cf4c-11f5-409b-9b0a-b85d7d9b8baf",
   "metadata": {},
   "outputs": [],
   "source": [
    "main_df = main_df.fillna(method=\"ffill\")"
   ]
  },
  {
   "cell_type": "code",
   "execution_count": 44,
   "id": "838c5ccc-8d0d-4ac1-980a-010b70cc612a",
   "metadata": {},
   "outputs": [
    {
     "data": {
      "text/html": [
       "<div>\n",
       "<style scoped>\n",
       "    .dataframe tbody tr th:only-of-type {\n",
       "        vertical-align: middle;\n",
       "    }\n",
       "\n",
       "    .dataframe tbody tr th {\n",
       "        vertical-align: top;\n",
       "    }\n",
       "\n",
       "    .dataframe thead th {\n",
       "        text-align: right;\n",
       "    }\n",
       "</style>\n",
       "<table border=\"1\" class=\"dataframe\">\n",
       "  <thead>\n",
       "    <tr style=\"text-align: right;\">\n",
       "      <th></th>\n",
       "      <th>trainNumber</th>\n",
       "      <th>departureDate</th>\n",
       "      <th>dist_from_speed</th>\n",
       "      <th>acceleration</th>\n",
       "    </tr>\n",
       "  </thead>\n",
       "  <tbody>\n",
       "    <tr>\n",
       "      <th>507</th>\n",
       "      <td>86</td>\n",
       "      <td>2022-04-01</td>\n",
       "      <td>0.000000</td>\n",
       "      <td>0.000000</td>\n",
       "    </tr>\n",
       "    <tr>\n",
       "      <th>508</th>\n",
       "      <td>86</td>\n",
       "      <td>2022-04-01</td>\n",
       "      <td>0.000000</td>\n",
       "      <td>0.277778</td>\n",
       "    </tr>\n",
       "    <tr>\n",
       "      <th>509</th>\n",
       "      <td>86</td>\n",
       "      <td>2022-04-01</td>\n",
       "      <td>62.419974</td>\n",
       "      <td>0.388889</td>\n",
       "    </tr>\n",
       "    <tr>\n",
       "      <th>2232</th>\n",
       "      <td>86</td>\n",
       "      <td>2022-04-01</td>\n",
       "      <td>100.000000</td>\n",
       "      <td>0.388889</td>\n",
       "    </tr>\n",
       "    <tr>\n",
       "      <th>2233</th>\n",
       "      <td>86</td>\n",
       "      <td>2022-04-01</td>\n",
       "      <td>200.000000</td>\n",
       "      <td>0.388889</td>\n",
       "    </tr>\n",
       "    <tr>\n",
       "      <th>510</th>\n",
       "      <td>86</td>\n",
       "      <td>2022-04-01</td>\n",
       "      <td>212.227913</td>\n",
       "      <td>0.407407</td>\n",
       "    </tr>\n",
       "    <tr>\n",
       "      <th>2234</th>\n",
       "      <td>86</td>\n",
       "      <td>2022-04-01</td>\n",
       "      <td>300.000000</td>\n",
       "      <td>0.407407</td>\n",
       "    </tr>\n",
       "    <tr>\n",
       "      <th>2235</th>\n",
       "      <td>86</td>\n",
       "      <td>2022-04-01</td>\n",
       "      <td>400.000000</td>\n",
       "      <td>0.407407</td>\n",
       "    </tr>\n",
       "    <tr>\n",
       "      <th>511</th>\n",
       "      <td>86</td>\n",
       "      <td>2022-04-01</td>\n",
       "      <td>453.585147</td>\n",
       "      <td>0.296296</td>\n",
       "    </tr>\n",
       "    <tr>\n",
       "      <th>2236</th>\n",
       "      <td>86</td>\n",
       "      <td>2022-04-01</td>\n",
       "      <td>500.000000</td>\n",
       "      <td>0.296296</td>\n",
       "    </tr>\n",
       "    <tr>\n",
       "      <th>2237</th>\n",
       "      <td>86</td>\n",
       "      <td>2022-04-01</td>\n",
       "      <td>600.000000</td>\n",
       "      <td>0.296296</td>\n",
       "    </tr>\n",
       "    <tr>\n",
       "      <th>2238</th>\n",
       "      <td>86</td>\n",
       "      <td>2022-04-01</td>\n",
       "      <td>700.000000</td>\n",
       "      <td>0.296296</td>\n",
       "    </tr>\n",
       "    <tr>\n",
       "      <th>512</th>\n",
       "      <td>86</td>\n",
       "      <td>2022-04-01</td>\n",
       "      <td>761.523688</td>\n",
       "      <td>0.074074</td>\n",
       "    </tr>\n",
       "    <tr>\n",
       "      <th>2239</th>\n",
       "      <td>86</td>\n",
       "      <td>2022-04-01</td>\n",
       "      <td>800.000000</td>\n",
       "      <td>0.074074</td>\n",
       "    </tr>\n",
       "    <tr>\n",
       "      <th>2240</th>\n",
       "      <td>86</td>\n",
       "      <td>2022-04-01</td>\n",
       "      <td>900.000000</td>\n",
       "      <td>0.074074</td>\n",
       "    </tr>\n",
       "    <tr>\n",
       "      <th>2241</th>\n",
       "      <td>86</td>\n",
       "      <td>2022-04-01</td>\n",
       "      <td>1000.000000</td>\n",
       "      <td>0.074074</td>\n",
       "    </tr>\n",
       "    <tr>\n",
       "      <th>2242</th>\n",
       "      <td>86</td>\n",
       "      <td>2022-04-01</td>\n",
       "      <td>1100.000000</td>\n",
       "      <td>0.074074</td>\n",
       "    </tr>\n",
       "    <tr>\n",
       "      <th>513</th>\n",
       "      <td>86</td>\n",
       "      <td>2022-04-01</td>\n",
       "      <td>1107.746479</td>\n",
       "      <td>0.034722</td>\n",
       "    </tr>\n",
       "    <tr>\n",
       "      <th>2243</th>\n",
       "      <td>86</td>\n",
       "      <td>2022-04-01</td>\n",
       "      <td>1200.000000</td>\n",
       "      <td>0.034722</td>\n",
       "    </tr>\n",
       "    <tr>\n",
       "      <th>2244</th>\n",
       "      <td>86</td>\n",
       "      <td>2022-04-01</td>\n",
       "      <td>1300.000000</td>\n",
       "      <td>0.034722</td>\n",
       "    </tr>\n",
       "  </tbody>\n",
       "</table>\n",
       "</div>"
      ],
      "text/plain": [
       "      trainNumber departureDate  dist_from_speed  acceleration\n",
       "507            86    2022-04-01         0.000000      0.000000\n",
       "508            86    2022-04-01         0.000000      0.277778\n",
       "509            86    2022-04-01        62.419974      0.388889\n",
       "2232           86    2022-04-01       100.000000      0.388889\n",
       "2233           86    2022-04-01       200.000000      0.388889\n",
       "510            86    2022-04-01       212.227913      0.407407\n",
       "2234           86    2022-04-01       300.000000      0.407407\n",
       "2235           86    2022-04-01       400.000000      0.407407\n",
       "511            86    2022-04-01       453.585147      0.296296\n",
       "2236           86    2022-04-01       500.000000      0.296296\n",
       "2237           86    2022-04-01       600.000000      0.296296\n",
       "2238           86    2022-04-01       700.000000      0.296296\n",
       "512            86    2022-04-01       761.523688      0.074074\n",
       "2239           86    2022-04-01       800.000000      0.074074\n",
       "2240           86    2022-04-01       900.000000      0.074074\n",
       "2241           86    2022-04-01      1000.000000      0.074074\n",
       "2242           86    2022-04-01      1100.000000      0.074074\n",
       "513            86    2022-04-01      1107.746479      0.034722\n",
       "2243           86    2022-04-01      1200.000000      0.034722\n",
       "2244           86    2022-04-01      1300.000000      0.034722"
      ]
     },
     "execution_count": 44,
     "metadata": {},
     "output_type": "execute_result"
    }
   ],
   "source": [
    "main_df.head(20)"
   ]
  },
  {
   "cell_type": "code",
   "execution_count": 45,
   "id": "f28eaac0-4ff0-4fb2-8548-17592d81a3e7",
   "metadata": {},
   "outputs": [
    {
     "data": {
      "text/plain": [
       "(140, '2022-04-01')"
      ]
     },
     "execution_count": 45,
     "metadata": {},
     "output_type": "execute_result"
    }
   ],
   "source": [
    "trains[0]"
   ]
  },
  {
   "cell_type": "code",
   "execution_count": null,
   "id": "24e5a523-07bd-4cd0-b295-58ecc6874483",
   "metadata": {},
   "outputs": [],
   "source": []
  },
  {
   "cell_type": "code",
   "execution_count": null,
   "id": "0bb1f4e4-015a-4023-8ea0-d5bf4dff03f9",
   "metadata": {},
   "outputs": [],
   "source": []
  },
  {
   "cell_type": "code",
   "execution_count": 46,
   "id": "0cdc00a4-c09d-4cd2-b890-3ecddc106f9b",
   "metadata": {},
   "outputs": [],
   "source": [
    "# lienee turha\n",
    "def peculiar_rounding(num, reference=best_dist):\n",
    "    res = round(num)\n",
    "    if res == reference:\n",
    "        return reference\n",
    "    return res"
   ]
  },
  {
   "cell_type": "code",
   "execution_count": 47,
   "id": "7d566a2b-5d3c-4ad6-9cd4-1cdc599f9ea7",
   "metadata": {},
   "outputs": [],
   "source": [
    "main_df[\"dist_from_speed\"] = main_df[\"dist_from_speed\"].apply(round)"
   ]
  },
  {
   "cell_type": "code",
   "execution_count": null,
   "id": "ede1854a-f44d-407c-b695-f43842d1f4b7",
   "metadata": {},
   "outputs": [],
   "source": []
  },
  {
   "cell_type": "code",
   "execution_count": null,
   "id": "98d61d21-e248-4a5b-9666-c48d0f1d4d11",
   "metadata": {},
   "outputs": [],
   "source": []
  },
  {
   "cell_type": "code",
   "execution_count": 48,
   "id": "cc77adef-a6dc-49fc-b537-a8ab0798f462",
   "metadata": {},
   "outputs": [],
   "source": [
    "# main_df[(main_df[\"trainNumber\"] == 88) & (main_df[\"departureDate\"] == \"2023-01-01\")].tail(1)[\"dist_from_speed\"].to_numpy()[0]"
   ]
  },
  {
   "cell_type": "code",
   "execution_count": 49,
   "id": "156d4960-92ea-4a17-a2e6-5b07a86e19eb",
   "metadata": {},
   "outputs": [],
   "source": [
    "# onko ongelmia?\n",
    "for num, date in trains:\n",
    "    d = checkpoints[-1]\n",
    "    if len(main_df[(main_df[\"trainNumber\"] == num) & (main_df[\"departureDate\"] == date) & (main_df[\"dist_from_speed\"] == d)]) == 0:\n",
    "        print(num, date, d)"
   ]
  },
  {
   "cell_type": "code",
   "execution_count": null,
   "id": "d0427fbc-af80-4582-8438-c3eb016f7e5e",
   "metadata": {},
   "outputs": [],
   "source": []
  },
  {
   "cell_type": "code",
   "execution_count": 50,
   "id": "84705847-5f50-42e6-b764-15a2b0359634",
   "metadata": {},
   "outputs": [
    {
     "data": {
      "text/html": [
       "<div>\n",
       "<style scoped>\n",
       "    .dataframe tbody tr th:only-of-type {\n",
       "        vertical-align: middle;\n",
       "    }\n",
       "\n",
       "    .dataframe tbody tr th {\n",
       "        vertical-align: top;\n",
       "    }\n",
       "\n",
       "    .dataframe thead th {\n",
       "        text-align: right;\n",
       "    }\n",
       "</style>\n",
       "<table border=\"1\" class=\"dataframe\">\n",
       "  <thead>\n",
       "    <tr style=\"text-align: right;\">\n",
       "      <th></th>\n",
       "      <th>trainNumber</th>\n",
       "      <th>departureDate</th>\n",
       "      <th>dist_from_speed</th>\n",
       "      <th>acceleration</th>\n",
       "    </tr>\n",
       "  </thead>\n",
       "  <tbody>\n",
       "    <tr>\n",
       "      <th>507</th>\n",
       "      <td>86</td>\n",
       "      <td>2022-04-01</td>\n",
       "      <td>0</td>\n",
       "      <td>0.000000</td>\n",
       "    </tr>\n",
       "    <tr>\n",
       "      <th>508</th>\n",
       "      <td>86</td>\n",
       "      <td>2022-04-01</td>\n",
       "      <td>0</td>\n",
       "      <td>0.277778</td>\n",
       "    </tr>\n",
       "  </tbody>\n",
       "</table>\n",
       "</div>"
      ],
      "text/plain": [
       "     trainNumber departureDate  dist_from_speed  acceleration\n",
       "507           86    2022-04-01                0      0.000000\n",
       "508           86    2022-04-01                0      0.277778"
      ]
     },
     "execution_count": 50,
     "metadata": {},
     "output_type": "execute_result"
    }
   ],
   "source": [
    "main_df.head(2)"
   ]
  },
  {
   "cell_type": "code",
   "execution_count": 51,
   "id": "05618d22-019d-49a8-859f-78a0b2f922c3",
   "metadata": {},
   "outputs": [],
   "source": [
    "ongelma = fcns.get_locations_for_train(88, \"2021-06-04\", main_df)"
   ]
  },
  {
   "cell_type": "code",
   "execution_count": 52,
   "id": "de1d0269-a2c4-48d1-80ee-48d337266ede",
   "metadata": {},
   "outputs": [
    {
     "data": {
      "text/plain": [
       "0"
      ]
     },
     "execution_count": 52,
     "metadata": {},
     "output_type": "execute_result"
    }
   ],
   "source": [
    "len(ongelma)"
   ]
  },
  {
   "cell_type": "code",
   "execution_count": 53,
   "id": "739a2b02-99cb-4608-aec2-e6a514cfd984",
   "metadata": {},
   "outputs": [
    {
     "data": {
      "text/html": [
       "<div>\n",
       "<style scoped>\n",
       "    .dataframe tbody tr th:only-of-type {\n",
       "        vertical-align: middle;\n",
       "    }\n",
       "\n",
       "    .dataframe tbody tr th {\n",
       "        vertical-align: top;\n",
       "    }\n",
       "\n",
       "    .dataframe thead th {\n",
       "        text-align: right;\n",
       "    }\n",
       "</style>\n",
       "<table border=\"1\" class=\"dataframe\">\n",
       "  <thead>\n",
       "    <tr style=\"text-align: right;\">\n",
       "      <th></th>\n",
       "      <th>trainNumber</th>\n",
       "      <th>departureDate</th>\n",
       "      <th>dist_from_speed</th>\n",
       "      <th>acceleration</th>\n",
       "    </tr>\n",
       "  </thead>\n",
       "  <tbody>\n",
       "  </tbody>\n",
       "</table>\n",
       "</div>"
      ],
      "text/plain": [
       "Empty DataFrame\n",
       "Columns: [trainNumber, departureDate, dist_from_speed, acceleration]\n",
       "Index: []"
      ]
     },
     "execution_count": 53,
     "metadata": {},
     "output_type": "execute_result"
    }
   ],
   "source": [
    "ongelma.head(2)"
   ]
  },
  {
   "cell_type": "code",
   "execution_count": 54,
   "id": "b9d8904a-311c-4583-951c-65cfa4645118",
   "metadata": {},
   "outputs": [
    {
     "data": {
      "text/html": [
       "<div>\n",
       "<style scoped>\n",
       "    .dataframe tbody tr th:only-of-type {\n",
       "        vertical-align: middle;\n",
       "    }\n",
       "\n",
       "    .dataframe tbody tr th {\n",
       "        vertical-align: top;\n",
       "    }\n",
       "\n",
       "    .dataframe thead th {\n",
       "        text-align: right;\n",
       "    }\n",
       "</style>\n",
       "<table border=\"1\" class=\"dataframe\">\n",
       "  <thead>\n",
       "    <tr style=\"text-align: right;\">\n",
       "      <th></th>\n",
       "      <th>trainNumber</th>\n",
       "      <th>departureDate</th>\n",
       "      <th>dist_from_speed</th>\n",
       "      <th>acceleration</th>\n",
       "    </tr>\n",
       "  </thead>\n",
       "  <tbody>\n",
       "  </tbody>\n",
       "</table>\n",
       "</div>"
      ],
      "text/plain": [
       "Empty DataFrame\n",
       "Columns: [trainNumber, departureDate, dist_from_speed, acceleration]\n",
       "Index: []"
      ]
     },
     "execution_count": 54,
     "metadata": {},
     "output_type": "execute_result"
    }
   ],
   "source": [
    "ongelma.tail(2)"
   ]
  },
  {
   "cell_type": "code",
   "execution_count": 55,
   "id": "8fa2f481-9b6e-460f-b88a-f4fb2d3b8f02",
   "metadata": {},
   "outputs": [
    {
     "data": {
      "text/html": [
       "<div>\n",
       "<style scoped>\n",
       "    .dataframe tbody tr th:only-of-type {\n",
       "        vertical-align: middle;\n",
       "    }\n",
       "\n",
       "    .dataframe tbody tr th {\n",
       "        vertical-align: top;\n",
       "    }\n",
       "\n",
       "    .dataframe thead th {\n",
       "        text-align: right;\n",
       "    }\n",
       "</style>\n",
       "<table border=\"1\" class=\"dataframe\">\n",
       "  <thead>\n",
       "    <tr style=\"text-align: right;\">\n",
       "      <th></th>\n",
       "      <th>trainNumber</th>\n",
       "      <th>departureDate</th>\n",
       "      <th>dist_from_speed</th>\n",
       "      <th>acceleration</th>\n",
       "    </tr>\n",
       "  </thead>\n",
       "  <tbody>\n",
       "    <tr>\n",
       "      <th>724283</th>\n",
       "      <td>150</td>\n",
       "      <td>2022-09-30</td>\n",
       "      <td>55800</td>\n",
       "      <td>-0.500000</td>\n",
       "    </tr>\n",
       "    <tr>\n",
       "      <th>160241</th>\n",
       "      <td>150</td>\n",
       "      <td>2022-09-30</td>\n",
       "      <td>55900</td>\n",
       "      <td>-0.611111</td>\n",
       "    </tr>\n",
       "  </tbody>\n",
       "</table>\n",
       "</div>"
      ],
      "text/plain": [
       "        trainNumber departureDate  dist_from_speed  acceleration\n",
       "724283          150    2022-09-30            55800     -0.500000\n",
       "160241          150    2022-09-30            55900     -0.611111"
      ]
     },
     "execution_count": 55,
     "metadata": {},
     "output_type": "execute_result"
    }
   ],
   "source": [
    "main_df.tail(2)"
   ]
  },
  {
   "cell_type": "code",
   "execution_count": null,
   "id": "9c20a99e-6744-4c11-a309-67ccaa90457d",
   "metadata": {},
   "outputs": [],
   "source": []
  },
  {
   "cell_type": "code",
   "execution_count": null,
   "id": "1db93cee-19b1-4fed-943f-9158d99e17a9",
   "metadata": {},
   "outputs": [],
   "source": []
  },
  {
   "cell_type": "code",
   "execution_count": 56,
   "id": "3fa2e418-86a3-4b63-b2a3-cd612534517e",
   "metadata": {},
   "outputs": [],
   "source": [
    "testi = main_df[main_df[\"dist_from_speed\"].isin(checkpoints)].copy()"
   ]
  },
  {
   "cell_type": "code",
   "execution_count": 57,
   "id": "60ba470e-8820-4d18-826c-de374c9ccad3",
   "metadata": {},
   "outputs": [
    {
     "data": {
      "text/plain": [
       "733679"
      ]
     },
     "execution_count": 57,
     "metadata": {},
     "output_type": "execute_result"
    }
   ],
   "source": [
    "len(testi)"
   ]
  },
  {
   "cell_type": "code",
   "execution_count": 58,
   "id": "aa6c849f-bca9-4bb6-bd5c-db8b061422b1",
   "metadata": {},
   "outputs": [],
   "source": [
    "testi.drop_duplicates([\"departureDate\", \"trainNumber\", \"dist_from_speed\"], inplace=True)"
   ]
  },
  {
   "cell_type": "code",
   "execution_count": 59,
   "id": "46e67c85-b5d6-45f5-ad5e-c4661ac4b954",
   "metadata": {},
   "outputs": [
    {
     "data": {
      "text/plain": [
       "730800"
      ]
     },
     "execution_count": 59,
     "metadata": {},
     "output_type": "execute_result"
    }
   ],
   "source": [
    "len(testi)"
   ]
  },
  {
   "cell_type": "code",
   "execution_count": 60,
   "id": "a7673d3e-b9ec-4fa2-8bf8-1a6cfc5be523",
   "metadata": {},
   "outputs": [],
   "source": [
    "for num, date in trains:\n",
    "    if len(testi[(testi[\"trainNumber\"] == num) & (testi[\"departureDate\"] == date)]) != len(checkpoints):\n",
    "        print(num, date)"
   ]
  },
  {
   "cell_type": "code",
   "execution_count": 61,
   "id": "7ce87953-9581-4b65-ad7c-07e8339e1f08",
   "metadata": {},
   "outputs": [],
   "source": [
    "testi.reset_index(drop=True, inplace=True)"
   ]
  },
  {
   "cell_type": "code",
   "execution_count": 62,
   "id": "e64472dd-908a-4dc8-86c1-45adb35a5fa0",
   "metadata": {},
   "outputs": [],
   "source": [
    "testi[\"acceleration+\"] = testi[\"acceleration\"].apply(lambda a: max(a, 0))"
   ]
  },
  {
   "cell_type": "code",
   "execution_count": 63,
   "id": "b4e2fd09-6bd4-4dd0-89be-02b745ccf385",
   "metadata": {},
   "outputs": [],
   "source": [
    "testi[\"acceleration_abs\"] = testi[\"acceleration\"].apply(abs)"
   ]
  },
  {
   "cell_type": "code",
   "execution_count": null,
   "id": "0a29fbca-16d4-4016-8a93-0f07b807d2e2",
   "metadata": {},
   "outputs": [],
   "source": []
  },
  {
   "cell_type": "code",
   "execution_count": 64,
   "id": "bd287d8f-59f5-4080-b584-39792da2dcd3",
   "metadata": {},
   "outputs": [
    {
     "data": {
      "text/html": [
       "<div>\n",
       "<style scoped>\n",
       "    .dataframe tbody tr th:only-of-type {\n",
       "        vertical-align: middle;\n",
       "    }\n",
       "\n",
       "    .dataframe tbody tr th {\n",
       "        vertical-align: top;\n",
       "    }\n",
       "\n",
       "    .dataframe thead th {\n",
       "        text-align: right;\n",
       "    }\n",
       "</style>\n",
       "<table border=\"1\" class=\"dataframe\">\n",
       "  <thead>\n",
       "    <tr style=\"text-align: right;\">\n",
       "      <th></th>\n",
       "      <th>trainNumber</th>\n",
       "      <th>departureDate</th>\n",
       "      <th>dist_from_speed</th>\n",
       "      <th>acceleration</th>\n",
       "      <th>acceleration+</th>\n",
       "      <th>acceleration_abs</th>\n",
       "    </tr>\n",
       "  </thead>\n",
       "  <tbody>\n",
       "    <tr>\n",
       "      <th>0</th>\n",
       "      <td>86</td>\n",
       "      <td>2022-04-01</td>\n",
       "      <td>0</td>\n",
       "      <td>0.000000</td>\n",
       "      <td>0.000000</td>\n",
       "      <td>0.000000</td>\n",
       "    </tr>\n",
       "    <tr>\n",
       "      <th>1</th>\n",
       "      <td>86</td>\n",
       "      <td>2022-04-01</td>\n",
       "      <td>100</td>\n",
       "      <td>0.388889</td>\n",
       "      <td>0.388889</td>\n",
       "      <td>0.388889</td>\n",
       "    </tr>\n",
       "    <tr>\n",
       "      <th>2</th>\n",
       "      <td>86</td>\n",
       "      <td>2022-04-01</td>\n",
       "      <td>200</td>\n",
       "      <td>0.388889</td>\n",
       "      <td>0.388889</td>\n",
       "      <td>0.388889</td>\n",
       "    </tr>\n",
       "    <tr>\n",
       "      <th>3</th>\n",
       "      <td>86</td>\n",
       "      <td>2022-04-01</td>\n",
       "      <td>300</td>\n",
       "      <td>0.407407</td>\n",
       "      <td>0.407407</td>\n",
       "      <td>0.407407</td>\n",
       "    </tr>\n",
       "    <tr>\n",
       "      <th>4</th>\n",
       "      <td>86</td>\n",
       "      <td>2022-04-01</td>\n",
       "      <td>400</td>\n",
       "      <td>0.407407</td>\n",
       "      <td>0.407407</td>\n",
       "      <td>0.407407</td>\n",
       "    </tr>\n",
       "  </tbody>\n",
       "</table>\n",
       "</div>"
      ],
      "text/plain": [
       "   trainNumber departureDate  dist_from_speed  acceleration  acceleration+  \\\n",
       "0           86    2022-04-01                0      0.000000       0.000000   \n",
       "1           86    2022-04-01              100      0.388889       0.388889   \n",
       "2           86    2022-04-01              200      0.388889       0.388889   \n",
       "3           86    2022-04-01              300      0.407407       0.407407   \n",
       "4           86    2022-04-01              400      0.407407       0.407407   \n",
       "\n",
       "   acceleration_abs  \n",
       "0          0.000000  \n",
       "1          0.388889  \n",
       "2          0.388889  \n",
       "3          0.407407  \n",
       "4          0.407407  "
      ]
     },
     "execution_count": 64,
     "metadata": {},
     "output_type": "execute_result"
    }
   ],
   "source": [
    "testi.head()"
   ]
  },
  {
   "cell_type": "code",
   "execution_count": 65,
   "id": "8f9b38fa-09be-4d57-96ab-3bda27476fe7",
   "metadata": {},
   "outputs": [],
   "source": [
    "# MUISTA\n",
    "\n",
    "# pd.pivot_table(testi, values=\"acceleration\", index=[\"departureDate\", \"trainNumber\"], columns=[\"dist_from_speed\"], aggfunc=np.mean)"
   ]
  },
  {
   "cell_type": "code",
   "execution_count": 66,
   "id": "fef6978d-fd34-4a5b-a588-ab89b167e7a9",
   "metadata": {},
   "outputs": [],
   "source": [
    "def get_cluster_df(df, col_name=\"acceleration\"):\n",
    "    result = pd.pivot_table(df, values=col_name, index=[\"departureDate\", \"trainNumber\"], columns=[\"dist_from_speed\"], aggfunc=np.mean)\n",
    "    return result.dropna()"
   ]
  },
  {
   "cell_type": "code",
   "execution_count": 67,
   "id": "4a574acb-761d-4162-b26f-cca490983885",
   "metadata": {},
   "outputs": [],
   "source": [
    "clustering_df = get_cluster_df(testi)"
   ]
  },
  {
   "cell_type": "code",
   "execution_count": 68,
   "id": "8b36b20c-f473-4b67-993a-b904ded7f327",
   "metadata": {},
   "outputs": [],
   "source": [
    "# clustering_df.dropna(inplace=True)"
   ]
  },
  {
   "cell_type": "code",
   "execution_count": null,
   "id": "5a670259-5a96-4079-9ee0-c1d6bc2963d6",
   "metadata": {},
   "outputs": [],
   "source": []
  },
  {
   "cell_type": "code",
   "execution_count": 69,
   "id": "8896e195-99e4-414d-bb15-d9cf7a44dfc7",
   "metadata": {},
   "outputs": [],
   "source": [
    "def get_clustering_df(nums_and_dates, df, clustering_columns, col_name=\"acceleration\"):\n",
    "    clustering_df = pd.DataFrame(columns=clustering_columns)\n",
    "    \n",
    "    for num, date in nums_and_dates:\n",
    "        partial_df = fcns.get_locations_for_train(num, date, df)\n",
    "        i1 = partial_df.index.min()\n",
    "        i2 = partial_df.index.max()\n",
    "        accel = df.loc[i1:i2, col_name].copy().to_numpy()\n",
    "        clustering_df = pd.concat([clustering_df, pd.DataFrame([accel], columns=clustering_columns)])\n",
    "        \n",
    "    clustering_df.index = nums_and_dates\n",
    "    \n",
    "    return clustering_df"
   ]
  },
  {
   "cell_type": "code",
   "execution_count": null,
   "id": "31e64979-fa40-4979-88fd-08995f8ae1b6",
   "metadata": {},
   "outputs": [],
   "source": []
  },
  {
   "cell_type": "code",
   "execution_count": 70,
   "id": "a81961e5-d214-4c88-b605-3367fb6b25b6",
   "metadata": {},
   "outputs": [],
   "source": [
    "#clustering_df = pd.DataFrame(columns=checkpoints)\n",
    "\n",
    "#for num, date in trains:\n",
    "#    dataa = fcns.get_locations_for_train(num, date, testi)\n",
    "#    i1 = dataa.index.min()\n",
    "#    i2 = dataa.index.max()\n",
    "#    accel = testi.loc[i1:i2, \"acceleration\"].copy().to_numpy()\n",
    "#    clustering_df = pd.concat([clustering_df, pd.DataFrame([accel], columns=checkpoints)])"
   ]
  },
  {
   "cell_type": "code",
   "execution_count": 71,
   "id": "4c4a4162-0b9b-44c3-aca9-fa3f940bf329",
   "metadata": {},
   "outputs": [],
   "source": [
    "# clustering_df.index = trains"
   ]
  },
  {
   "cell_type": "code",
   "execution_count": 72,
   "id": "3e42a01c-1d50-40b7-9333-2ea4db833815",
   "metadata": {},
   "outputs": [],
   "source": [
    "clustering_df.insert(0, \"mean_accel\", clustering_df.mean(axis=1))"
   ]
  },
  {
   "cell_type": "code",
   "execution_count": 73,
   "id": "9f9b012e-b39e-4211-a890-b9f7229e0475",
   "metadata": {},
   "outputs": [],
   "source": [
    "# clustering_df.head()"
   ]
  },
  {
   "cell_type": "code",
   "execution_count": null,
   "id": "347743fd-7df3-41a4-89ac-ba88d4dbdc14",
   "metadata": {},
   "outputs": [],
   "source": []
  },
  {
   "cell_type": "code",
   "execution_count": 74,
   "id": "fac5404d-625d-4b5f-849e-2bc85e7f0928",
   "metadata": {},
   "outputs": [
    {
     "data": {
      "text/plain": [
       "1305"
      ]
     },
     "execution_count": 74,
     "metadata": {},
     "output_type": "execute_result"
    }
   ],
   "source": [
    "len(clustering_df)"
   ]
  },
  {
   "cell_type": "code",
   "execution_count": null,
   "id": "09a183dd-f915-4b58-9ebb-30e95abd4044",
   "metadata": {},
   "outputs": [],
   "source": []
  },
  {
   "cell_type": "code",
   "execution_count": 75,
   "id": "7bf76e4c-51e5-476d-ac17-fdec5a316c7d",
   "metadata": {},
   "outputs": [],
   "source": [
    "# from sklearn.cluster import KMeans"
   ]
  },
  {
   "cell_type": "code",
   "execution_count": 76,
   "id": "769a63f6-9d89-4803-8071-41d4a50e8fbd",
   "metadata": {},
   "outputs": [],
   "source": [
    "# km = KMeans(n_clusters=15, n_init=\"auto\", max_iter=1337, random_state=4096)\n",
    "km = KMeans(n_clusters=25, n_init=\"auto\")\n",
    "if \"cluster_id\" in clustering_df.columns:\n",
    "    clustering_df.drop(\"cluster_id\", axis=1, inplace=True)\n",
    "km.fit(clustering_df.drop(\"mean_accel\", axis=1))\n",
    "\n",
    "if \"cluster_id\" in clustering_df.columns:\n",
    "    clustering_df.drop(\"cluster_id\", axis=1, inplace=True)\n",
    "clustering_df.insert(0, \"cluster_id\", km.predict(clustering_df.drop(\"mean_accel\", axis=1)))"
   ]
  },
  {
   "cell_type": "code",
   "execution_count": 77,
   "id": "2306a9a7-5514-43f6-ba5e-453baaf4034a",
   "metadata": {},
   "outputs": [
    {
     "data": {
      "text/html": [
       "<div>\n",
       "<style scoped>\n",
       "    .dataframe tbody tr th:only-of-type {\n",
       "        vertical-align: middle;\n",
       "    }\n",
       "\n",
       "    .dataframe tbody tr th {\n",
       "        vertical-align: top;\n",
       "    }\n",
       "\n",
       "    .dataframe thead th {\n",
       "        text-align: right;\n",
       "    }\n",
       "</style>\n",
       "<table border=\"1\" class=\"dataframe\">\n",
       "  <thead>\n",
       "    <tr style=\"text-align: right;\">\n",
       "      <th></th>\n",
       "      <th>count</th>\n",
       "      <th>min mean accel</th>\n",
       "      <th>max mean accel</th>\n",
       "    </tr>\n",
       "    <tr>\n",
       "      <th>cluster_id</th>\n",
       "      <th></th>\n",
       "      <th></th>\n",
       "      <th></th>\n",
       "    </tr>\n",
       "  </thead>\n",
       "  <tbody>\n",
       "    <tr>\n",
       "      <th>12</th>\n",
       "      <td>670</td>\n",
       "      <td>-0.086573</td>\n",
       "      <td>0.159353</td>\n",
       "    </tr>\n",
       "    <tr>\n",
       "      <th>0</th>\n",
       "      <td>605</td>\n",
       "      <td>-0.173025</td>\n",
       "      <td>0.102336</td>\n",
       "    </tr>\n",
       "    <tr>\n",
       "      <th>5</th>\n",
       "      <td>3</td>\n",
       "      <td>-0.354890</td>\n",
       "      <td>-0.054341</td>\n",
       "    </tr>\n",
       "    <tr>\n",
       "      <th>3</th>\n",
       "      <td>3</td>\n",
       "      <td>-0.226239</td>\n",
       "      <td>-0.105710</td>\n",
       "    </tr>\n",
       "    <tr>\n",
       "      <th>9</th>\n",
       "      <td>2</td>\n",
       "      <td>0.171762</td>\n",
       "      <td>0.296593</td>\n",
       "    </tr>\n",
       "  </tbody>\n",
       "</table>\n",
       "</div>"
      ],
      "text/plain": [
       "            count  min mean accel  max mean accel\n",
       "cluster_id                                       \n",
       "12            670       -0.086573        0.159353\n",
       "0             605       -0.173025        0.102336\n",
       "5               3       -0.354890       -0.054341\n",
       "3               3       -0.226239       -0.105710\n",
       "9               2        0.171762        0.296593"
      ]
     },
     "execution_count": 77,
     "metadata": {},
     "output_type": "execute_result"
    }
   ],
   "source": [
    "clusters = clustering_df.groupby(\"cluster_id\")\n",
    "\n",
    "table = pd.concat([clusters[\"mean_accel\"].count(), clusters[\"mean_accel\"].min(), clusters[\"mean_accel\"].max()], axis=1)\n",
    "table.columns=[\"count\", \"min mean accel\", \"max mean accel\"]\n",
    "clustering_results = table.sort_values(\"count\", ascending=False)\n",
    "clustering_results.head()"
   ]
  },
  {
   "cell_type": "code",
   "execution_count": 78,
   "id": "a94064ca-68a0-4586-a44a-c6962f2d98d6",
   "metadata": {},
   "outputs": [],
   "source": [
    "# clustering_df.head()"
   ]
  },
  {
   "cell_type": "code",
   "execution_count": null,
   "id": "a29e2afd-c453-45ba-806f-fd767c8ce3b3",
   "metadata": {},
   "outputs": [],
   "source": []
  },
  {
   "cell_type": "code",
   "execution_count": 79,
   "id": "74514a81-f99e-4841-8a0e-161fc388d9a7",
   "metadata": {},
   "outputs": [],
   "source": [
    "# cluster_df_pos = get_clustering_df(trains, testi, checkpoints, \"acceleration+\")\n",
    "cluster_df_pos = get_cluster_df(testi, \"acceleration+\")"
   ]
  },
  {
   "cell_type": "code",
   "execution_count": 80,
   "id": "dc7530e4-739c-4b59-a467-83a0e3a46957",
   "metadata": {},
   "outputs": [
    {
     "data": {
      "text/plain": [
       "1305"
      ]
     },
     "execution_count": 80,
     "metadata": {},
     "output_type": "execute_result"
    }
   ],
   "source": [
    "len(cluster_df_pos)"
   ]
  },
  {
   "cell_type": "code",
   "execution_count": 81,
   "id": "ce667506-d0c2-4716-9818-a007b14da008",
   "metadata": {},
   "outputs": [],
   "source": [
    "km_pos = KMeans(n_clusters=25, n_init=\"auto\")\n",
    "\n",
    "if \"mean_accel+\" in cluster_df_pos.columns:\n",
    "    cluster_df_pos.drop(\"mean_accel+\", axis=1, inplace=True)\n",
    "if \"cluster_id\" in cluster_df_pos.columns:\n",
    "    cluster_df_pos.drop(\"cluster_id\", axis=1, inplace=True)\n",
    "km_pos.fit(cluster_df_pos)\n",
    "cluster_ids = km_pos.predict(cluster_df_pos)\n",
    "\n",
    "cluster_df_pos.insert(0, \"mean_accel+\", cluster_df_pos.mean(axis=1))\n",
    "cluster_df_pos.insert(0, \"cluster_id\", cluster_ids)"
   ]
  },
  {
   "cell_type": "code",
   "execution_count": 82,
   "id": "2c4dc50d-5983-4db0-8276-9dcada193334",
   "metadata": {},
   "outputs": [
    {
     "data": {
      "text/html": [
       "<div>\n",
       "<style scoped>\n",
       "    .dataframe tbody tr th:only-of-type {\n",
       "        vertical-align: middle;\n",
       "    }\n",
       "\n",
       "    .dataframe tbody tr th {\n",
       "        vertical-align: top;\n",
       "    }\n",
       "\n",
       "    .dataframe thead th {\n",
       "        text-align: right;\n",
       "    }\n",
       "</style>\n",
       "<table border=\"1\" class=\"dataframe\">\n",
       "  <thead>\n",
       "    <tr style=\"text-align: right;\">\n",
       "      <th></th>\n",
       "      <th>count</th>\n",
       "      <th>min mean accel+</th>\n",
       "      <th>max mean accel+</th>\n",
       "    </tr>\n",
       "    <tr>\n",
       "      <th>cluster_id</th>\n",
       "      <th></th>\n",
       "      <th></th>\n",
       "      <th></th>\n",
       "    </tr>\n",
       "  </thead>\n",
       "  <tbody>\n",
       "    <tr>\n",
       "      <th>19</th>\n",
       "      <td>615</td>\n",
       "      <td>0.014517</td>\n",
       "      <td>0.084476</td>\n",
       "    </tr>\n",
       "    <tr>\n",
       "      <th>5</th>\n",
       "      <td>580</td>\n",
       "      <td>0.012068</td>\n",
       "      <td>0.105170</td>\n",
       "    </tr>\n",
       "    <tr>\n",
       "      <th>0</th>\n",
       "      <td>43</td>\n",
       "      <td>0.030026</td>\n",
       "      <td>0.219358</td>\n",
       "    </tr>\n",
       "    <tr>\n",
       "      <th>4</th>\n",
       "      <td>26</td>\n",
       "      <td>0.040249</td>\n",
       "      <td>0.161036</td>\n",
       "    </tr>\n",
       "    <tr>\n",
       "      <th>1</th>\n",
       "      <td>9</td>\n",
       "      <td>0.107893</td>\n",
       "      <td>0.359815</td>\n",
       "    </tr>\n",
       "    <tr>\n",
       "      <th>8</th>\n",
       "      <td>4</td>\n",
       "      <td>0.058323</td>\n",
       "      <td>0.109213</td>\n",
       "    </tr>\n",
       "    <tr>\n",
       "      <th>13</th>\n",
       "      <td>4</td>\n",
       "      <td>0.062358</td>\n",
       "      <td>0.107211</td>\n",
       "    </tr>\n",
       "    <tr>\n",
       "      <th>15</th>\n",
       "      <td>4</td>\n",
       "      <td>0.047082</td>\n",
       "      <td>0.082274</td>\n",
       "    </tr>\n",
       "  </tbody>\n",
       "</table>\n",
       "</div>"
      ],
      "text/plain": [
       "            count  min mean accel+  max mean accel+\n",
       "cluster_id                                         \n",
       "19            615         0.014517         0.084476\n",
       "5             580         0.012068         0.105170\n",
       "0              43         0.030026         0.219358\n",
       "4              26         0.040249         0.161036\n",
       "1               9         0.107893         0.359815\n",
       "8               4         0.058323         0.109213\n",
       "13              4         0.062358         0.107211\n",
       "15              4         0.047082         0.082274"
      ]
     },
     "execution_count": 82,
     "metadata": {},
     "output_type": "execute_result"
    }
   ],
   "source": [
    "clusters_pos = cluster_df_pos.groupby(\"cluster_id\")\n",
    "\n",
    "table = pd.concat([clusters_pos[\"mean_accel+\"].count(), clusters_pos[\"mean_accel+\"].min(), clusters_pos[\"mean_accel+\"].max()], axis=1)\n",
    "table.columns=[\"count\", \"min mean accel+\", \"max mean accel+\"]\n",
    "c_counts = table.sort_values(\"count\", ascending=False)\n",
    "c_counts.head(8)"
   ]
  },
  {
   "cell_type": "code",
   "execution_count": null,
   "id": "b5431bf4-5a73-4466-9d7e-4ac25f1ac1a5",
   "metadata": {},
   "outputs": [],
   "source": []
  },
  {
   "cell_type": "code",
   "execution_count": 83,
   "id": "c9971d4a-544d-47f1-83dc-2f729689334a",
   "metadata": {},
   "outputs": [],
   "source": [
    "# cluster_df_pos.iloc[:6, :6]"
   ]
  },
  {
   "cell_type": "code",
   "execution_count": null,
   "id": "1823943a-6efe-47d0-9221-06c69e6636ec",
   "metadata": {},
   "outputs": [],
   "source": []
  },
  {
   "cell_type": "code",
   "execution_count": null,
   "id": "18a83c9e-c66a-4800-99bd-a88acf517790",
   "metadata": {},
   "outputs": [],
   "source": []
  },
  {
   "cell_type": "code",
   "execution_count": null,
   "id": "14a73c44-c0fa-4f88-9adf-1ae0b6798a7a",
   "metadata": {},
   "outputs": [],
   "source": []
  },
  {
   "cell_type": "code",
   "execution_count": 84,
   "id": "fd489aee-d10a-45d2-91e3-2b7a98570962",
   "metadata": {},
   "outputs": [],
   "source": [
    "def print_stuff(cluster_id):\n",
    "    a = clustering_df[clustering_df[\"cluster_id\"] == cluster_id]\n",
    "    print(a.iloc[0, :2])\n",
    "    \n",
    "    plt.plot(a.iloc[0, 2:])\n",
    "    plt.grid()\n",
    "    plt.show()\n",
    "    print()\n",
    "    "
   ]
  },
  {
   "cell_type": "code",
   "execution_count": null,
   "id": "253dbfaf-5ccc-4f54-94f8-9812f7f0165b",
   "metadata": {},
   "outputs": [],
   "source": []
  },
  {
   "cell_type": "code",
   "execution_count": 85,
   "id": "e33367eb-8a92-4012-ae8e-2d27c80002db",
   "metadata": {},
   "outputs": [],
   "source": [
    "# for i in table.index:\n",
    "    # if table.loc[i, \"count\"] == 1:\n",
    "        # print_stuff(i)"
   ]
  },
  {
   "cell_type": "code",
   "execution_count": null,
   "id": "4b275fc8-9a06-4a6c-af04-a497d0f4ff0a",
   "metadata": {},
   "outputs": [],
   "source": []
  },
  {
   "cell_type": "code",
   "execution_count": null,
   "id": "da5ae100-a459-4e92-a072-c4897df676c5",
   "metadata": {},
   "outputs": [],
   "source": []
  },
  {
   "cell_type": "code",
   "execution_count": null,
   "id": "0a7417e7-a111-4af7-8e4f-49d6ed043c17",
   "metadata": {},
   "outputs": [],
   "source": []
  },
  {
   "cell_type": "code",
   "execution_count": 86,
   "id": "cbf1e9d6-b3f0-4f10-99e9-e9f6689f12f1",
   "metadata": {},
   "outputs": [],
   "source": [
    "c_df_res = clustering_df.loc[:, [\"cluster_id\", \"mean_accel\"]]\n",
    "c_df = clustering_df.drop([\"cluster_id\", \"mean_accel\"], axis=1)\n",
    "# c_df_res = cluster_df_pos.loc[:, [\"cluster_id\", \"mean_accel+\"]]\n",
    "# c_df = cluster_df_pos.drop([\"cluster_id\", \"mean_accel+\"], axis=1)"
   ]
  },
  {
   "cell_type": "code",
   "execution_count": 87,
   "id": "500e1c8a-c2ba-42eb-b02f-5a68d04092dd",
   "metadata": {},
   "outputs": [],
   "source": [
    "default_lower_bound = max(30, 0.05 * len(clustering_df))\n",
    "# default_lower_bound = 0.1 * len(cluster_df_pos)\n",
    "\n",
    "def get_replacements(cluster_counts, lower_bound=default_lower_bound):\n",
    "    clusters = cluster_counts[cluster_counts > lower_bound]\n",
    "    return {c: i for i, c in enumerate(clusters.index)}"
   ]
  },
  {
   "cell_type": "code",
   "execution_count": 88,
   "id": "2c86cb47-1767-4825-9f48-f1dd610369df",
   "metadata": {},
   "outputs": [
    {
     "data": {
      "text/plain": [
       "{12: 0, 0: 1}"
      ]
     },
     "execution_count": 88,
     "metadata": {},
     "output_type": "execute_result"
    }
   ],
   "source": [
    "get_replacements(clustering_results[\"count\"])\n",
    "# get_replacements(c_counts[\"count\"])"
   ]
  },
  {
   "cell_type": "code",
   "execution_count": 89,
   "id": "9b1421b8-7398-4f18-b7a8-f8b6ba521336",
   "metadata": {},
   "outputs": [
    {
     "data": {
      "text/html": [
       "<div>\n",
       "<style scoped>\n",
       "    .dataframe tbody tr th:only-of-type {\n",
       "        vertical-align: middle;\n",
       "    }\n",
       "\n",
       "    .dataframe tbody tr th {\n",
       "        vertical-align: top;\n",
       "    }\n",
       "\n",
       "    .dataframe thead th {\n",
       "        text-align: right;\n",
       "    }\n",
       "</style>\n",
       "<table border=\"1\" class=\"dataframe\">\n",
       "  <thead>\n",
       "    <tr style=\"text-align: right;\">\n",
       "      <th>dist_from_speed</th>\n",
       "      <th>mean_accel</th>\n",
       "    </tr>\n",
       "    <tr>\n",
       "      <th>cluster_id</th>\n",
       "      <th></th>\n",
       "    </tr>\n",
       "  </thead>\n",
       "  <tbody>\n",
       "    <tr>\n",
       "      <th>12</th>\n",
       "      <td>670</td>\n",
       "    </tr>\n",
       "    <tr>\n",
       "      <th>0</th>\n",
       "      <td>605</td>\n",
       "    </tr>\n",
       "    <tr>\n",
       "      <th>5</th>\n",
       "      <td>3</td>\n",
       "    </tr>\n",
       "    <tr>\n",
       "      <th>3</th>\n",
       "      <td>3</td>\n",
       "    </tr>\n",
       "    <tr>\n",
       "      <th>9</th>\n",
       "      <td>2</td>\n",
       "    </tr>\n",
       "  </tbody>\n",
       "</table>\n",
       "</div>"
      ],
      "text/plain": [
       "dist_from_speed  mean_accel\n",
       "cluster_id                 \n",
       "12                      670\n",
       "0                       605\n",
       "5                         3\n",
       "3                         3\n",
       "9                         2"
      ]
     },
     "execution_count": 89,
     "metadata": {},
     "output_type": "execute_result"
    }
   ],
   "source": [
    "c_df_res.groupby(\"cluster_id\").count().sort_values(\"mean_accel\", ascending=False).head()\n",
    "# c_df_res.groupby(\"cluster_id\").count().sort_values(\"mean_accel+\", ascending=False).head()"
   ]
  },
  {
   "cell_type": "code",
   "execution_count": 90,
   "id": "7665d03b-b46f-4dbf-b93e-5a293cca1f96",
   "metadata": {},
   "outputs": [],
   "source": [
    "def replacement_fcn(num, cluster_counts):\n",
    "    replacements = get_replacements(cluster_counts)\n",
    "    # replacements = {22: 0, 19: 1, 23: 2, 17: 3, 24: 4}\n",
    "    if replacements.get(num) is None:\n",
    "        return len(replacements)\n",
    "    return replacements[num]"
   ]
  },
  {
   "cell_type": "code",
   "execution_count": 91,
   "id": "cad0285d-a2da-4721-af25-46a48a01df96",
   "metadata": {},
   "outputs": [],
   "source": [
    "c_df_res[\"cluster_id\"] = c_df_res[\"cluster_id\"].apply(lambda n: replacement_fcn(n, clustering_results[\"count\"]))\n",
    "# c_df_res[\"cluster_id\"] = c_df_res[\"cluster_id\"].apply(lambda n: replacement_fcn(n, c_counts[\"count\"]))"
   ]
  },
  {
   "cell_type": "code",
   "execution_count": 92,
   "id": "aca133a7-0bcb-4126-8654-fa570055b216",
   "metadata": {},
   "outputs": [
    {
     "data": {
      "text/html": [
       "<div>\n",
       "<style scoped>\n",
       "    .dataframe tbody tr th:only-of-type {\n",
       "        vertical-align: middle;\n",
       "    }\n",
       "\n",
       "    .dataframe tbody tr th {\n",
       "        vertical-align: top;\n",
       "    }\n",
       "\n",
       "    .dataframe thead th {\n",
       "        text-align: right;\n",
       "    }\n",
       "</style>\n",
       "<table border=\"1\" class=\"dataframe\">\n",
       "  <thead>\n",
       "    <tr style=\"text-align: right;\">\n",
       "      <th>dist_from_speed</th>\n",
       "      <th>mean_accel</th>\n",
       "    </tr>\n",
       "    <tr>\n",
       "      <th>cluster_id</th>\n",
       "      <th></th>\n",
       "    </tr>\n",
       "  </thead>\n",
       "  <tbody>\n",
       "    <tr>\n",
       "      <th>0</th>\n",
       "      <td>670</td>\n",
       "    </tr>\n",
       "    <tr>\n",
       "      <th>1</th>\n",
       "      <td>605</td>\n",
       "    </tr>\n",
       "    <tr>\n",
       "      <th>2</th>\n",
       "      <td>30</td>\n",
       "    </tr>\n",
       "  </tbody>\n",
       "</table>\n",
       "</div>"
      ],
      "text/plain": [
       "dist_from_speed  mean_accel\n",
       "cluster_id                 \n",
       "0                       670\n",
       "1                       605\n",
       "2                        30"
      ]
     },
     "execution_count": 92,
     "metadata": {},
     "output_type": "execute_result"
    }
   ],
   "source": [
    "c_df_res.groupby(\"cluster_id\").count().sort_values(\"mean_accel\", ascending=False)\n",
    "# c_df_res.groupby(\"cluster_id\").count().sort_values(\"mean_accel+\", ascending=False)"
   ]
  },
  {
   "cell_type": "code",
   "execution_count": null,
   "id": "381989a9-028a-4b9d-8277-2fa6c4a4c9a9",
   "metadata": {},
   "outputs": [],
   "source": []
  },
  {
   "cell_type": "code",
   "execution_count": 93,
   "id": "6a9494db-04c6-484d-b8f3-f9a48a0ebc31",
   "metadata": {},
   "outputs": [],
   "source": [
    "X_train, X_test, Y_train, Y_test = train_test_split(c_df, c_df_res[\"cluster_id\"].to_numpy(), test_size=0.2)"
   ]
  },
  {
   "cell_type": "code",
   "execution_count": 94,
   "id": "8a9439a7-ed5f-40d5-ac2a-90b8624fc346",
   "metadata": {},
   "outputs": [],
   "source": [
    "knn = KNeighborsClassifier(n_neighbors=5)\n",
    "knn.fit(X_train, Y_train)\n",
    "Y_pred = knn.predict(X_test)"
   ]
  },
  {
   "cell_type": "code",
   "execution_count": 95,
   "id": "791b2e03-8c24-4843-82fd-c3c5ea97e809",
   "metadata": {},
   "outputs": [
    {
     "data": {
      "text/plain": [
       "0.8237547892720306"
      ]
     },
     "execution_count": 95,
     "metadata": {},
     "output_type": "execute_result"
    }
   ],
   "source": [
    "accuracy_score(Y_test, Y_pred)"
   ]
  },
  {
   "cell_type": "code",
   "execution_count": 96,
   "id": "e085817e-f3ec-4e86-85e7-6d7572ee813d",
   "metadata": {},
   "outputs": [
    {
     "name": "stdout",
     "output_type": "stream",
     "text": [
      "              precision    recall  f1-score   support\n",
      "\n",
      "           0       0.83      0.83      0.83       133\n",
      "           1       0.81      0.82      0.82       125\n",
      "           2       1.00      0.67      0.80         3\n",
      "\n",
      "    accuracy                           0.82       261\n",
      "   macro avg       0.88      0.77      0.82       261\n",
      "weighted avg       0.82      0.82      0.82       261\n",
      "\n"
     ]
    }
   ],
   "source": [
    "print(classification_report(Y_test, Y_pred))"
   ]
  },
  {
   "cell_type": "code",
   "execution_count": null,
   "id": "53b38135-2741-493b-96ea-c1da76155654",
   "metadata": {},
   "outputs": [],
   "source": []
  }
 ],
 "metadata": {
  "kernelspec": {
   "display_name": "Python 3 (ipykernel)",
   "language": "python",
   "name": "python3"
  },
  "language_info": {
   "codemirror_mode": {
    "name": "ipython",
    "version": 3
   },
   "file_extension": ".py",
   "mimetype": "text/x-python",
   "name": "python",
   "nbconvert_exporter": "python",
   "pygments_lexer": "ipython3",
   "version": "3.9.7"
  }
 },
 "nbformat": 4,
 "nbformat_minor": 5
}
